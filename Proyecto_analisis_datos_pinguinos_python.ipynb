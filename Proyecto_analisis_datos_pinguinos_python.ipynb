{
  "cells": [
    {
      "cell_type": "markdown",
      "metadata": {
        "id": "view-in-github",
        "colab_type": "text"
      },
      "source": [
        "<a href=\"https://colab.research.google.com/github/Kristianm0/Proyecto_analisis_datos_pinguinos_python/blob/main/Proyecto_analisis_datos_pinguinos_python.ipynb\" target=\"_parent\"><img src=\"https://colab.research.google.com/assets/colab-badge.svg\" alt=\"Open In Colab\"/></a>"
      ]
    },
    {
      "cell_type": "markdown",
      "source": [
        "# Conociendo nuestros datos de pingüinos. 🗺🧭🐧"
      ],
      "metadata": {
        "tags": [],
        "cell_id": "3bc57225e2b44d1ca62214ecfa781aa5",
        "deepnote_app_coordinates": {
          "h": 5,
          "w": 12,
          "x": 0,
          "y": null
        },
        "deepnote_cell_type": "markdown",
        "id": "seIrR9zXm9kj"
      }
    },
    {
      "cell_type": "markdown",
      "source": [
        "## Instalar librerías necesarias"
      ],
      "metadata": {
        "tags": [],
        "cell_id": "8dd81aa552ca4e3cbaccfe7db9f92d13",
        "deepnote_app_coordinates": {
          "h": 5,
          "w": 12,
          "x": 0,
          "y": 6
        },
        "deepnote_cell_type": "markdown",
        "id": "JTjD7GQJm9kp"
      }
    },
    {
      "cell_type": "markdown",
      "source": [
        "```\n",
        "!pip install --upgrade pip\n",
        "```\n",
        "```\n",
        "!pip install palmerpenguins==0.1.4 numpy==1.23.4 pandas==1.5.1 seaborn==0.12.1 matplotlib==3.6.0 empiricaldist==0.6.7 statsmodels==0.13.5 scikit-learn==1.1.2 pyjanitor==0.23.1 session-info\n",
        "```"
      ],
      "metadata": {
        "tags": [],
        "cell_id": "1d518bc04bfb43808288fc9c4f110628",
        "deepnote_app_coordinates": {
          "h": 5,
          "w": 12,
          "x": 0,
          "y": 12
        },
        "deepnote_cell_type": "markdown",
        "id": "88gvAJx1m9kq"
      }
    },
    {
      "cell_type": "code",
      "source": [
        "!pip install --upgrade pip\n",
        "!pip install palmerpenguins==0.1.4 numpy pandas seaborn==0.12.1 matplotlib==3.5.3 empiricaldist==0.6.7 statsmodels==0.13.5 scikit-learn==1.0.2 pyjanitor==0.23.1 session-info"
      ],
      "metadata": {
        "colab": {
          "base_uri": "https://localhost:8080/"
        },
        "id": "_W9FhM72ngYf",
        "outputId": "9310ce03-3ad9-4858-e361-ddf293d1b0bf"
      },
      "execution_count": null,
      "outputs": [
        {
          "output_type": "stream",
          "name": "stdout",
          "text": [
            "Requirement already satisfied: pip in /usr/local/lib/python3.10/dist-packages (23.1.2)\n",
            "Collecting palmerpenguins==0.1.4\n",
            "  Downloading palmerpenguins-0.1.4-py3-none-any.whl (17 kB)\n",
            "Requirement already satisfied: numpy in /usr/local/lib/python3.10/dist-packages (1.22.4)\n",
            "Requirement already satisfied: pandas in /usr/local/lib/python3.10/dist-packages (1.5.3)\n",
            "Collecting seaborn==0.12.1\n",
            "  Downloading seaborn-0.12.1-py3-none-any.whl (288 kB)\n",
            "\u001b[2K     \u001b[90m━━━━━━━━━━━━━━━━━━━━━━━━━━━━━━━━━━━━━━━\u001b[0m \u001b[32m288.2/288.2 kB\u001b[0m \u001b[31m8.9 MB/s\u001b[0m eta \u001b[36m0:00:00\u001b[0m\n",
            "\u001b[?25hCollecting matplotlib==3.5.3\n",
            "  Downloading matplotlib-3.5.3-cp310-cp310-manylinux_2_17_x86_64.manylinux2014_x86_64.whl (11.9 MB)\n",
            "\u001b[2K     \u001b[90m━━━━━━━━━━━━━━━━━━━━━━━━━━━━━━━━━━━━━━━━\u001b[0m \u001b[32m11.9/11.9 MB\u001b[0m \u001b[31m61.3 MB/s\u001b[0m eta \u001b[36m0:00:00\u001b[0m\n",
            "\u001b[?25hCollecting empiricaldist==0.6.7\n",
            "  Downloading empiricaldist-0.6.7.tar.gz (11 kB)\n",
            "  Preparing metadata (setup.py) ... \u001b[?25l\u001b[?25hdone\n",
            "Requirement already satisfied: statsmodels==0.13.5 in /usr/local/lib/python3.10/dist-packages (0.13.5)\n",
            "Collecting scikit-learn==1.0.2\n",
            "  Downloading scikit_learn-1.0.2-cp310-cp310-manylinux_2_17_x86_64.manylinux2014_x86_64.whl (26.5 MB)\n",
            "\u001b[2K     \u001b[90m━━━━━━━━━━━━━━━━━━━━━━━━━━━━━━━━━━━━━━━━\u001b[0m \u001b[32m26.5/26.5 MB\u001b[0m \u001b[31m38.6 MB/s\u001b[0m eta \u001b[36m0:00:00\u001b[0m\n",
            "\u001b[?25hCollecting pyjanitor==0.23.1\n",
            "  Downloading pyjanitor-0.23.1-py3-none-any.whl (147 kB)\n",
            "\u001b[2K     \u001b[90m━━━━━━━━━━━━━━━━━━━━━━━━━━━━━━━━━━━━━━━\u001b[0m \u001b[32m147.7/147.7 kB\u001b[0m \u001b[31m9.8 MB/s\u001b[0m eta \u001b[36m0:00:00\u001b[0m\n",
            "\u001b[?25hCollecting session-info\n",
            "  Downloading session_info-1.0.0.tar.gz (24 kB)\n",
            "  Preparing metadata (setup.py) ... \u001b[?25l\u001b[?25hdone\n",
            "Requirement already satisfied: cycler>=0.10 in /usr/local/lib/python3.10/dist-packages (from matplotlib==3.5.3) (0.11.0)\n",
            "Requirement already satisfied: fonttools>=4.22.0 in /usr/local/lib/python3.10/dist-packages (from matplotlib==3.5.3) (4.40.0)\n",
            "Requirement already satisfied: kiwisolver>=1.0.1 in /usr/local/lib/python3.10/dist-packages (from matplotlib==3.5.3) (1.4.4)\n",
            "Requirement already satisfied: packaging>=20.0 in /usr/local/lib/python3.10/dist-packages (from matplotlib==3.5.3) (23.1)\n",
            "Requirement already satisfied: pillow>=6.2.0 in /usr/local/lib/python3.10/dist-packages (from matplotlib==3.5.3) (8.4.0)\n",
            "Requirement already satisfied: pyparsing>=2.2.1 in /usr/local/lib/python3.10/dist-packages (from matplotlib==3.5.3) (3.1.0)\n",
            "Requirement already satisfied: python-dateutil>=2.7 in /usr/local/lib/python3.10/dist-packages (from matplotlib==3.5.3) (2.8.2)\n",
            "Requirement already satisfied: patsy>=0.5.2 in /usr/local/lib/python3.10/dist-packages (from statsmodels==0.13.5) (0.5.3)\n",
            "Requirement already satisfied: scipy>=1.3 in /usr/local/lib/python3.10/dist-packages (from statsmodels==0.13.5) (1.10.1)\n",
            "Requirement already satisfied: joblib>=0.11 in /usr/local/lib/python3.10/dist-packages (from scikit-learn==1.0.2) (1.3.1)\n",
            "Requirement already satisfied: threadpoolctl>=2.0.0 in /usr/local/lib/python3.10/dist-packages (from scikit-learn==1.0.2) (3.1.0)\n",
            "Requirement already satisfied: natsort in /usr/local/lib/python3.10/dist-packages (from pyjanitor==0.23.1) (8.3.1)\n",
            "Collecting pandas-flavor (from pyjanitor==0.23.1)\n",
            "  Downloading pandas_flavor-0.6.0-py3-none-any.whl (7.2 kB)\n",
            "Requirement already satisfied: multipledispatch in /usr/local/lib/python3.10/dist-packages (from pyjanitor==0.23.1) (1.0.0)\n",
            "Requirement already satisfied: pytz>=2020.1 in /usr/local/lib/python3.10/dist-packages (from pandas) (2022.7.1)\n",
            "Collecting stdlib_list (from session-info)\n",
            "  Downloading stdlib_list-0.9.0-py3-none-any.whl (75 kB)\n",
            "\u001b[2K     \u001b[90m━━━━━━━━━━━━━━━━━━━━━━━━━━━━━━━━━━━━━━━━\u001b[0m \u001b[32m75.6/75.6 kB\u001b[0m \u001b[31m7.7 MB/s\u001b[0m eta \u001b[36m0:00:00\u001b[0m\n",
            "\u001b[?25hRequirement already satisfied: six in /usr/local/lib/python3.10/dist-packages (from patsy>=0.5.2->statsmodels==0.13.5) (1.16.0)\n",
            "Requirement already satisfied: xarray in /usr/local/lib/python3.10/dist-packages (from pandas-flavor->pyjanitor==0.23.1) (2022.12.0)\n",
            "Building wheels for collected packages: empiricaldist, session-info\n",
            "  Building wheel for empiricaldist (setup.py) ... \u001b[?25l\u001b[?25hdone\n",
            "  Created wheel for empiricaldist: filename=empiricaldist-0.6.7-py3-none-any.whl size=11958 sha256=e17b0b0bbf34966c4e7dc48c328183ad4db599344221b5902c3014491963d3a3\n",
            "  Stored in directory: /root/.cache/pip/wheels/88/c5/7a/384eb24c68e3240e0f4d0cb9198673c85cbeaacf070b1500dc\n",
            "  Building wheel for session-info (setup.py) ... \u001b[?25l\u001b[?25hdone\n",
            "  Created wheel for session-info: filename=session_info-1.0.0-py3-none-any.whl size=8026 sha256=1b0f54347e201ba2157618cd6f02bca024af49c708d1e2b2d9019bd4e1e184b6\n",
            "  Stored in directory: /root/.cache/pip/wheels/6a/aa/b9/eb5d4031476ec10802795b97ccf937b9bd998d68a9b268765a\n",
            "Successfully built empiricaldist session-info\n",
            "Installing collected packages: empiricaldist, stdlib_list, session-info, scikit-learn, matplotlib, seaborn, palmerpenguins, pandas-flavor, pyjanitor\n",
            "  Attempting uninstall: scikit-learn\n",
            "    Found existing installation: scikit-learn 1.2.2\n",
            "    Uninstalling scikit-learn-1.2.2:\n",
            "      Successfully uninstalled scikit-learn-1.2.2\n",
            "  Attempting uninstall: matplotlib\n",
            "    Found existing installation: matplotlib 3.7.1\n",
            "    Uninstalling matplotlib-3.7.1:\n",
            "      Successfully uninstalled matplotlib-3.7.1\n",
            "  Attempting uninstall: seaborn\n",
            "    Found existing installation: seaborn 0.12.2\n",
            "    Uninstalling seaborn-0.12.2:\n",
            "      Successfully uninstalled seaborn-0.12.2\n",
            "Successfully installed empiricaldist-0.6.7 matplotlib-3.5.3 palmerpenguins-0.1.4 pandas-flavor-0.6.0 pyjanitor-0.23.1 scikit-learn-1.0.2 seaborn-0.12.1 session-info-1.0.0 stdlib_list-0.9.0\n"
          ]
        },
        {
          "output_type": "display_data",
          "data": {
            "application/vnd.colab-display-data+json": {
              "pip_warning": {
                "packages": [
                  "matplotlib",
                  "mpl_toolkits"
                ]
              }
            }
          },
          "metadata": {}
        }
      ]
    },
    {
      "cell_type": "markdown",
      "source": [
        "## Importar librerías"
      ],
      "metadata": {
        "tags": [],
        "cell_id": "1c014b96be9b402b8e965a9da6134bad",
        "source_hash": "93ea9879",
        "execution_start": 1652835801149,
        "execution_millis": 1,
        "deepnote_app_coordinates": {
          "h": 5,
          "w": 12,
          "x": 0,
          "y": 18
        },
        "deepnote_to_be_reexecuted": false,
        "deepnote_cell_type": "markdown",
        "id": "_aqq9fr7m9kq"
      }
    },
    {
      "cell_type": "code",
      "source": [
        "import empiricaldist\n",
        "import janitor\n",
        "import matplotlib.pyplot as plt\n",
        "import numpy as np\n",
        "import palmerpenguins\n",
        "import pandas as pd\n",
        "import scipy.stats\n",
        "import seaborn as sns\n",
        "import sklearn.metrics\n",
        "import statsmodels.api as sm\n",
        "import statsmodels.formula.api as smf\n",
        "import statsmodels.stats as ss\n",
        "import session_info"
      ],
      "metadata": {
        "tags": [],
        "cell_id": "8e1071cdf1d547d5ac1f6c64dfe56f91",
        "source_hash": "81919a32",
        "output_cleared": false,
        "execution_start": 1668368298421,
        "execution_millis": 2635,
        "deepnote_app_coordinates": {
          "h": 5,
          "w": 12,
          "x": 0,
          "y": 24
        },
        "deepnote_to_be_reexecuted": false,
        "deepnote_cell_type": "code",
        "id": "03IMOP6Jm9kr"
      },
      "outputs": [],
      "execution_count": null
    },
    {
      "cell_type": "markdown",
      "source": [
        "## Establecer apariencia general de los gráficos"
      ],
      "metadata": {
        "tags": [],
        "cell_id": "457f93a3cbad432eb1a25747c36dcf39",
        "deepnote_app_coordinates": {
          "h": 5,
          "w": 12,
          "x": 0,
          "y": 30
        },
        "deepnote_cell_type": "markdown",
        "id": "_KdEiFuOm9ks"
      }
    },
    {
      "cell_type": "code",
      "source": [
        "#establecemos unos diseños de graficos estandar para todo el documento\n",
        "%matplotlib inline\n",
        "sns.set_style(style='whitegrid')\n",
        "sns.set_context(context='notebook')\n",
        "plt.rcParams['figure.figsize'] = (11, 9.4)\n",
        "\n",
        "penguin_color = {\n",
        "    'Adelie': '#ff6602ff',\n",
        "    'Gentoo': '#0f7175ff',\n",
        "    'Chinstrap': '#c65dc9ff'\n",
        "}"
      ],
      "metadata": {
        "tags": [],
        "cell_id": "bdf278456f1e4f38b2831e1297a6b992",
        "source_hash": "f87a87ef",
        "output_cleared": true,
        "execution_start": 1653452678007,
        "execution_millis": 23,
        "deepnote_app_coordinates": {
          "h": 5,
          "w": 12,
          "x": 0,
          "y": 36
        },
        "deepnote_to_be_reexecuted": false,
        "deepnote_cell_type": "code",
        "id": "3LXVLDf2m9kt"
      },
      "outputs": [],
      "execution_count": null
    },
    {
      "cell_type": "markdown",
      "source": [
        "## Cargar los datos"
      ],
      "metadata": {
        "tags": [],
        "cell_id": "fea68a7f75c64c21b35132cc6f035502",
        "deepnote_app_coordinates": {
          "h": 5,
          "w": 12,
          "x": 0,
          "y": 42
        },
        "deepnote_cell_type": "markdown",
        "id": "uJ6c4rUxm9kt"
      }
    },
    {
      "cell_type": "markdown",
      "source": [
        "### Utilizando el paquete `palmerpenguins`"
      ],
      "metadata": {
        "tags": [],
        "cell_id": "baa5d9266cff4cf4aecc1418edd2983b",
        "deepnote_app_coordinates": {
          "h": 5,
          "w": 12,
          "x": 0,
          "y": 48
        },
        "deepnote_cell_type": "markdown",
        "id": "1rzqiWyYm9ku"
      }
    },
    {
      "cell_type": "markdown",
      "source": [
        "#### Datos crudos"
      ],
      "metadata": {
        "tags": [],
        "cell_id": "0afbc1efd64b4e43b4ebbcf03fa19c9c",
        "deepnote_app_coordinates": {
          "h": 5,
          "w": 12,
          "x": 0,
          "y": 54
        },
        "deepnote_cell_type": "markdown",
        "id": "66hSGs_9m9ku"
      }
    },
    {
      "cell_type": "code",
      "source": [
        "# Traemos la base de datos de los pinguinos de palmerpenguis\n",
        "# Traemos los dato crudo.\n",
        "# Lo almacenamos en una variable\n",
        "raw_penguins_df = palmerpenguins.load_penguins_raw()\n",
        "\n",
        "#los mostramos en pantalla\n",
        "raw_penguins_df"
      ],
      "metadata": {
        "tags": [],
        "cell_id": "e4e5ccb63fbd4ecf8d08ba4e24d1321a",
        "source_hash": "b623e53d",
        "output_cleared": true,
        "execution_start": 1653452678057,
        "execution_millis": 1,
        "deepnote_app_coordinates": {
          "h": 5,
          "w": 12,
          "x": 0,
          "y": 60
        },
        "deepnote_to_be_reexecuted": false,
        "deepnote_cell_type": "code",
        "colab": {
          "base_uri": "https://localhost:8080/"
        },
        "id": "yXyVJuu9m9ku",
        "outputId": "7c6c3e49-0c3d-4202-b350-c85af7c406d1"
      },
      "outputs": [
        {
          "output_type": "execute_result",
          "data": {
            "text/plain": [
              "    studyName  Sample Number                                    Species  \\\n",
              "0     PAL0708              1        Adelie Penguin (Pygoscelis adeliae)   \n",
              "1     PAL0708              2        Adelie Penguin (Pygoscelis adeliae)   \n",
              "2     PAL0708              3        Adelie Penguin (Pygoscelis adeliae)   \n",
              "3     PAL0708              4        Adelie Penguin (Pygoscelis adeliae)   \n",
              "4     PAL0708              5        Adelie Penguin (Pygoscelis adeliae)   \n",
              "..        ...            ...                                        ...   \n",
              "339   PAL0910             64  Chinstrap penguin (Pygoscelis antarctica)   \n",
              "340   PAL0910             65  Chinstrap penguin (Pygoscelis antarctica)   \n",
              "341   PAL0910             66  Chinstrap penguin (Pygoscelis antarctica)   \n",
              "342   PAL0910             67  Chinstrap penguin (Pygoscelis antarctica)   \n",
              "343   PAL0910             68  Chinstrap penguin (Pygoscelis antarctica)   \n",
              "\n",
              "     Region     Island               Stage Individual ID Clutch Completion  \\\n",
              "0    Anvers  Torgersen  Adult, 1 Egg Stage          N1A1               Yes   \n",
              "1    Anvers  Torgersen  Adult, 1 Egg Stage          N1A2               Yes   \n",
              "2    Anvers  Torgersen  Adult, 1 Egg Stage          N2A1               Yes   \n",
              "3    Anvers  Torgersen  Adult, 1 Egg Stage          N2A2               Yes   \n",
              "4    Anvers  Torgersen  Adult, 1 Egg Stage          N3A1               Yes   \n",
              "..      ...        ...                 ...           ...               ...   \n",
              "339  Anvers      Dream  Adult, 1 Egg Stage         N98A2               Yes   \n",
              "340  Anvers      Dream  Adult, 1 Egg Stage         N99A1                No   \n",
              "341  Anvers      Dream  Adult, 1 Egg Stage         N99A2                No   \n",
              "342  Anvers      Dream  Adult, 1 Egg Stage        N100A1               Yes   \n",
              "343  Anvers      Dream  Adult, 1 Egg Stage        N100A2               Yes   \n",
              "\n",
              "       Date Egg  Culmen Length (mm)  Culmen Depth (mm)  Flipper Length (mm)  \\\n",
              "0    2007-11-11                39.1               18.7                181.0   \n",
              "1    2007-11-11                39.5               17.4                186.0   \n",
              "2    2007-11-16                40.3               18.0                195.0   \n",
              "3    2007-11-16                 NaN                NaN                  NaN   \n",
              "4    2007-11-16                36.7               19.3                193.0   \n",
              "..          ...                 ...                ...                  ...   \n",
              "339  2009-11-19                55.8               19.8                207.0   \n",
              "340  2009-11-21                43.5               18.1                202.0   \n",
              "341  2009-11-21                49.6               18.2                193.0   \n",
              "342  2009-11-21                50.8               19.0                210.0   \n",
              "343  2009-11-21                50.2               18.7                198.0   \n",
              "\n",
              "     Body Mass (g)     Sex  Delta 15 N (o/oo)  Delta 13 C (o/oo)  \\\n",
              "0           3750.0    MALE                NaN                NaN   \n",
              "1           3800.0  FEMALE            8.94956          -24.69454   \n",
              "2           3250.0  FEMALE            8.36821          -25.33302   \n",
              "3              NaN     NaN                NaN                NaN   \n",
              "4           3450.0  FEMALE            8.76651          -25.32426   \n",
              "..             ...     ...                ...                ...   \n",
              "339         4000.0    MALE            9.70465          -24.53494   \n",
              "340         3400.0  FEMALE            9.37608          -24.40753   \n",
              "341         3775.0    MALE            9.46180          -24.70615   \n",
              "342         4100.0    MALE            9.98044          -24.68741   \n",
              "343         3775.0  FEMALE            9.39305          -24.25255   \n",
              "\n",
              "                                  Comments  \n",
              "0           Not enough blood for isotopes.  \n",
              "1                                      NaN  \n",
              "2                                      NaN  \n",
              "3                       Adult not sampled.  \n",
              "4                                      NaN  \n",
              "..                                     ...  \n",
              "339                                    NaN  \n",
              "340  Nest never observed with full clutch.  \n",
              "341  Nest never observed with full clutch.  \n",
              "342                                    NaN  \n",
              "343                                    NaN  \n",
              "\n",
              "[344 rows x 17 columns]"
            ],
            "text/html": [
              "\n",
              "\n",
              "  <div id=\"df-a51f59eb-9a33-4a87-922f-a9bb6921d368\">\n",
              "    <div class=\"colab-df-container\">\n",
              "      <div>\n",
              "<style scoped>\n",
              "    .dataframe tbody tr th:only-of-type {\n",
              "        vertical-align: middle;\n",
              "    }\n",
              "\n",
              "    .dataframe tbody tr th {\n",
              "        vertical-align: top;\n",
              "    }\n",
              "\n",
              "    .dataframe thead th {\n",
              "        text-align: right;\n",
              "    }\n",
              "</style>\n",
              "<table border=\"1\" class=\"dataframe\">\n",
              "  <thead>\n",
              "    <tr style=\"text-align: right;\">\n",
              "      <th></th>\n",
              "      <th>studyName</th>\n",
              "      <th>Sample Number</th>\n",
              "      <th>Species</th>\n",
              "      <th>Region</th>\n",
              "      <th>Island</th>\n",
              "      <th>Stage</th>\n",
              "      <th>Individual ID</th>\n",
              "      <th>Clutch Completion</th>\n",
              "      <th>Date Egg</th>\n",
              "      <th>Culmen Length (mm)</th>\n",
              "      <th>Culmen Depth (mm)</th>\n",
              "      <th>Flipper Length (mm)</th>\n",
              "      <th>Body Mass (g)</th>\n",
              "      <th>Sex</th>\n",
              "      <th>Delta 15 N (o/oo)</th>\n",
              "      <th>Delta 13 C (o/oo)</th>\n",
              "      <th>Comments</th>\n",
              "    </tr>\n",
              "  </thead>\n",
              "  <tbody>\n",
              "    <tr>\n",
              "      <th>0</th>\n",
              "      <td>PAL0708</td>\n",
              "      <td>1</td>\n",
              "      <td>Adelie Penguin (Pygoscelis adeliae)</td>\n",
              "      <td>Anvers</td>\n",
              "      <td>Torgersen</td>\n",
              "      <td>Adult, 1 Egg Stage</td>\n",
              "      <td>N1A1</td>\n",
              "      <td>Yes</td>\n",
              "      <td>2007-11-11</td>\n",
              "      <td>39.1</td>\n",
              "      <td>18.7</td>\n",
              "      <td>181.0</td>\n",
              "      <td>3750.0</td>\n",
              "      <td>MALE</td>\n",
              "      <td>NaN</td>\n",
              "      <td>NaN</td>\n",
              "      <td>Not enough blood for isotopes.</td>\n",
              "    </tr>\n",
              "    <tr>\n",
              "      <th>1</th>\n",
              "      <td>PAL0708</td>\n",
              "      <td>2</td>\n",
              "      <td>Adelie Penguin (Pygoscelis adeliae)</td>\n",
              "      <td>Anvers</td>\n",
              "      <td>Torgersen</td>\n",
              "      <td>Adult, 1 Egg Stage</td>\n",
              "      <td>N1A2</td>\n",
              "      <td>Yes</td>\n",
              "      <td>2007-11-11</td>\n",
              "      <td>39.5</td>\n",
              "      <td>17.4</td>\n",
              "      <td>186.0</td>\n",
              "      <td>3800.0</td>\n",
              "      <td>FEMALE</td>\n",
              "      <td>8.94956</td>\n",
              "      <td>-24.69454</td>\n",
              "      <td>NaN</td>\n",
              "    </tr>\n",
              "    <tr>\n",
              "      <th>2</th>\n",
              "      <td>PAL0708</td>\n",
              "      <td>3</td>\n",
              "      <td>Adelie Penguin (Pygoscelis adeliae)</td>\n",
              "      <td>Anvers</td>\n",
              "      <td>Torgersen</td>\n",
              "      <td>Adult, 1 Egg Stage</td>\n",
              "      <td>N2A1</td>\n",
              "      <td>Yes</td>\n",
              "      <td>2007-11-16</td>\n",
              "      <td>40.3</td>\n",
              "      <td>18.0</td>\n",
              "      <td>195.0</td>\n",
              "      <td>3250.0</td>\n",
              "      <td>FEMALE</td>\n",
              "      <td>8.36821</td>\n",
              "      <td>-25.33302</td>\n",
              "      <td>NaN</td>\n",
              "    </tr>\n",
              "    <tr>\n",
              "      <th>3</th>\n",
              "      <td>PAL0708</td>\n",
              "      <td>4</td>\n",
              "      <td>Adelie Penguin (Pygoscelis adeliae)</td>\n",
              "      <td>Anvers</td>\n",
              "      <td>Torgersen</td>\n",
              "      <td>Adult, 1 Egg Stage</td>\n",
              "      <td>N2A2</td>\n",
              "      <td>Yes</td>\n",
              "      <td>2007-11-16</td>\n",
              "      <td>NaN</td>\n",
              "      <td>NaN</td>\n",
              "      <td>NaN</td>\n",
              "      <td>NaN</td>\n",
              "      <td>NaN</td>\n",
              "      <td>NaN</td>\n",
              "      <td>NaN</td>\n",
              "      <td>Adult not sampled.</td>\n",
              "    </tr>\n",
              "    <tr>\n",
              "      <th>4</th>\n",
              "      <td>PAL0708</td>\n",
              "      <td>5</td>\n",
              "      <td>Adelie Penguin (Pygoscelis adeliae)</td>\n",
              "      <td>Anvers</td>\n",
              "      <td>Torgersen</td>\n",
              "      <td>Adult, 1 Egg Stage</td>\n",
              "      <td>N3A1</td>\n",
              "      <td>Yes</td>\n",
              "      <td>2007-11-16</td>\n",
              "      <td>36.7</td>\n",
              "      <td>19.3</td>\n",
              "      <td>193.0</td>\n",
              "      <td>3450.0</td>\n",
              "      <td>FEMALE</td>\n",
              "      <td>8.76651</td>\n",
              "      <td>-25.32426</td>\n",
              "      <td>NaN</td>\n",
              "    </tr>\n",
              "    <tr>\n",
              "      <th>...</th>\n",
              "      <td>...</td>\n",
              "      <td>...</td>\n",
              "      <td>...</td>\n",
              "      <td>...</td>\n",
              "      <td>...</td>\n",
              "      <td>...</td>\n",
              "      <td>...</td>\n",
              "      <td>...</td>\n",
              "      <td>...</td>\n",
              "      <td>...</td>\n",
              "      <td>...</td>\n",
              "      <td>...</td>\n",
              "      <td>...</td>\n",
              "      <td>...</td>\n",
              "      <td>...</td>\n",
              "      <td>...</td>\n",
              "      <td>...</td>\n",
              "    </tr>\n",
              "    <tr>\n",
              "      <th>339</th>\n",
              "      <td>PAL0910</td>\n",
              "      <td>64</td>\n",
              "      <td>Chinstrap penguin (Pygoscelis antarctica)</td>\n",
              "      <td>Anvers</td>\n",
              "      <td>Dream</td>\n",
              "      <td>Adult, 1 Egg Stage</td>\n",
              "      <td>N98A2</td>\n",
              "      <td>Yes</td>\n",
              "      <td>2009-11-19</td>\n",
              "      <td>55.8</td>\n",
              "      <td>19.8</td>\n",
              "      <td>207.0</td>\n",
              "      <td>4000.0</td>\n",
              "      <td>MALE</td>\n",
              "      <td>9.70465</td>\n",
              "      <td>-24.53494</td>\n",
              "      <td>NaN</td>\n",
              "    </tr>\n",
              "    <tr>\n",
              "      <th>340</th>\n",
              "      <td>PAL0910</td>\n",
              "      <td>65</td>\n",
              "      <td>Chinstrap penguin (Pygoscelis antarctica)</td>\n",
              "      <td>Anvers</td>\n",
              "      <td>Dream</td>\n",
              "      <td>Adult, 1 Egg Stage</td>\n",
              "      <td>N99A1</td>\n",
              "      <td>No</td>\n",
              "      <td>2009-11-21</td>\n",
              "      <td>43.5</td>\n",
              "      <td>18.1</td>\n",
              "      <td>202.0</td>\n",
              "      <td>3400.0</td>\n",
              "      <td>FEMALE</td>\n",
              "      <td>9.37608</td>\n",
              "      <td>-24.40753</td>\n",
              "      <td>Nest never observed with full clutch.</td>\n",
              "    </tr>\n",
              "    <tr>\n",
              "      <th>341</th>\n",
              "      <td>PAL0910</td>\n",
              "      <td>66</td>\n",
              "      <td>Chinstrap penguin (Pygoscelis antarctica)</td>\n",
              "      <td>Anvers</td>\n",
              "      <td>Dream</td>\n",
              "      <td>Adult, 1 Egg Stage</td>\n",
              "      <td>N99A2</td>\n",
              "      <td>No</td>\n",
              "      <td>2009-11-21</td>\n",
              "      <td>49.6</td>\n",
              "      <td>18.2</td>\n",
              "      <td>193.0</td>\n",
              "      <td>3775.0</td>\n",
              "      <td>MALE</td>\n",
              "      <td>9.46180</td>\n",
              "      <td>-24.70615</td>\n",
              "      <td>Nest never observed with full clutch.</td>\n",
              "    </tr>\n",
              "    <tr>\n",
              "      <th>342</th>\n",
              "      <td>PAL0910</td>\n",
              "      <td>67</td>\n",
              "      <td>Chinstrap penguin (Pygoscelis antarctica)</td>\n",
              "      <td>Anvers</td>\n",
              "      <td>Dream</td>\n",
              "      <td>Adult, 1 Egg Stage</td>\n",
              "      <td>N100A1</td>\n",
              "      <td>Yes</td>\n",
              "      <td>2009-11-21</td>\n",
              "      <td>50.8</td>\n",
              "      <td>19.0</td>\n",
              "      <td>210.0</td>\n",
              "      <td>4100.0</td>\n",
              "      <td>MALE</td>\n",
              "      <td>9.98044</td>\n",
              "      <td>-24.68741</td>\n",
              "      <td>NaN</td>\n",
              "    </tr>\n",
              "    <tr>\n",
              "      <th>343</th>\n",
              "      <td>PAL0910</td>\n",
              "      <td>68</td>\n",
              "      <td>Chinstrap penguin (Pygoscelis antarctica)</td>\n",
              "      <td>Anvers</td>\n",
              "      <td>Dream</td>\n",
              "      <td>Adult, 1 Egg Stage</td>\n",
              "      <td>N100A2</td>\n",
              "      <td>Yes</td>\n",
              "      <td>2009-11-21</td>\n",
              "      <td>50.2</td>\n",
              "      <td>18.7</td>\n",
              "      <td>198.0</td>\n",
              "      <td>3775.0</td>\n",
              "      <td>FEMALE</td>\n",
              "      <td>9.39305</td>\n",
              "      <td>-24.25255</td>\n",
              "      <td>NaN</td>\n",
              "    </tr>\n",
              "  </tbody>\n",
              "</table>\n",
              "<p>344 rows × 17 columns</p>\n",
              "</div>\n",
              "      <button class=\"colab-df-convert\" onclick=\"convertToInteractive('df-a51f59eb-9a33-4a87-922f-a9bb6921d368')\"\n",
              "              title=\"Convert this dataframe to an interactive table.\"\n",
              "              style=\"display:none;\">\n",
              "\n",
              "  <svg xmlns=\"http://www.w3.org/2000/svg\" height=\"24px\"viewBox=\"0 0 24 24\"\n",
              "       width=\"24px\">\n",
              "    <path d=\"M0 0h24v24H0V0z\" fill=\"none\"/>\n",
              "    <path d=\"M18.56 5.44l.94 2.06.94-2.06 2.06-.94-2.06-.94-.94-2.06-.94 2.06-2.06.94zm-11 1L8.5 8.5l.94-2.06 2.06-.94-2.06-.94L8.5 2.5l-.94 2.06-2.06.94zm10 10l.94 2.06.94-2.06 2.06-.94-2.06-.94-.94-2.06-.94 2.06-2.06.94z\"/><path d=\"M17.41 7.96l-1.37-1.37c-.4-.4-.92-.59-1.43-.59-.52 0-1.04.2-1.43.59L10.3 9.45l-7.72 7.72c-.78.78-.78 2.05 0 2.83L4 21.41c.39.39.9.59 1.41.59.51 0 1.02-.2 1.41-.59l7.78-7.78 2.81-2.81c.8-.78.8-2.07 0-2.86zM5.41 20L4 18.59l7.72-7.72 1.47 1.35L5.41 20z\"/>\n",
              "  </svg>\n",
              "      </button>\n",
              "\n",
              "\n",
              "\n",
              "    <div id=\"df-3e8784b5-f073-4f45-a415-0848d2ffaf82\">\n",
              "      <button class=\"colab-df-quickchart\" onclick=\"quickchart('df-3e8784b5-f073-4f45-a415-0848d2ffaf82')\"\n",
              "              title=\"Suggest charts.\"\n",
              "              style=\"display:none;\">\n",
              "\n",
              "<svg xmlns=\"http://www.w3.org/2000/svg\" height=\"24px\"viewBox=\"0 0 24 24\"\n",
              "     width=\"24px\">\n",
              "    <g>\n",
              "        <path d=\"M19 3H5c-1.1 0-2 .9-2 2v14c0 1.1.9 2 2 2h14c1.1 0 2-.9 2-2V5c0-1.1-.9-2-2-2zM9 17H7v-7h2v7zm4 0h-2V7h2v10zm4 0h-2v-4h2v4z\"/>\n",
              "    </g>\n",
              "</svg>\n",
              "      </button>\n",
              "    </div>\n",
              "\n",
              "<style>\n",
              "  .colab-df-quickchart {\n",
              "    background-color: #E8F0FE;\n",
              "    border: none;\n",
              "    border-radius: 50%;\n",
              "    cursor: pointer;\n",
              "    display: none;\n",
              "    fill: #1967D2;\n",
              "    height: 32px;\n",
              "    padding: 0 0 0 0;\n",
              "    width: 32px;\n",
              "  }\n",
              "\n",
              "  .colab-df-quickchart:hover {\n",
              "    background-color: #E2EBFA;\n",
              "    box-shadow: 0px 1px 2px rgba(60, 64, 67, 0.3), 0px 1px 3px 1px rgba(60, 64, 67, 0.15);\n",
              "    fill: #174EA6;\n",
              "  }\n",
              "\n",
              "  [theme=dark] .colab-df-quickchart {\n",
              "    background-color: #3B4455;\n",
              "    fill: #D2E3FC;\n",
              "  }\n",
              "\n",
              "  [theme=dark] .colab-df-quickchart:hover {\n",
              "    background-color: #434B5C;\n",
              "    box-shadow: 0px 1px 3px 1px rgba(0, 0, 0, 0.15);\n",
              "    filter: drop-shadow(0px 1px 2px rgba(0, 0, 0, 0.3));\n",
              "    fill: #FFFFFF;\n",
              "  }\n",
              "</style>\n",
              "\n",
              "    <script>\n",
              "      async function quickchart(key) {\n",
              "        const containerElement = document.querySelector('#' + key);\n",
              "        const charts = await google.colab.kernel.invokeFunction(\n",
              "            'suggestCharts', [key], {});\n",
              "      }\n",
              "    </script>\n",
              "\n",
              "      <script>\n",
              "\n",
              "function displayQuickchartButton(domScope) {\n",
              "  let quickchartButtonEl =\n",
              "    domScope.querySelector('#df-3e8784b5-f073-4f45-a415-0848d2ffaf82 button.colab-df-quickchart');\n",
              "  quickchartButtonEl.style.display =\n",
              "    google.colab.kernel.accessAllowed ? 'block' : 'none';\n",
              "}\n",
              "\n",
              "        displayQuickchartButton(document);\n",
              "      </script>\n",
              "      <style>\n",
              "    .colab-df-container {\n",
              "      display:flex;\n",
              "      flex-wrap:wrap;\n",
              "      gap: 12px;\n",
              "    }\n",
              "\n",
              "    .colab-df-convert {\n",
              "      background-color: #E8F0FE;\n",
              "      border: none;\n",
              "      border-radius: 50%;\n",
              "      cursor: pointer;\n",
              "      display: none;\n",
              "      fill: #1967D2;\n",
              "      height: 32px;\n",
              "      padding: 0 0 0 0;\n",
              "      width: 32px;\n",
              "    }\n",
              "\n",
              "    .colab-df-convert:hover {\n",
              "      background-color: #E2EBFA;\n",
              "      box-shadow: 0px 1px 2px rgba(60, 64, 67, 0.3), 0px 1px 3px 1px rgba(60, 64, 67, 0.15);\n",
              "      fill: #174EA6;\n",
              "    }\n",
              "\n",
              "    [theme=dark] .colab-df-convert {\n",
              "      background-color: #3B4455;\n",
              "      fill: #D2E3FC;\n",
              "    }\n",
              "\n",
              "    [theme=dark] .colab-df-convert:hover {\n",
              "      background-color: #434B5C;\n",
              "      box-shadow: 0px 1px 3px 1px rgba(0, 0, 0, 0.15);\n",
              "      filter: drop-shadow(0px 1px 2px rgba(0, 0, 0, 0.3));\n",
              "      fill: #FFFFFF;\n",
              "    }\n",
              "  </style>\n",
              "\n",
              "      <script>\n",
              "        const buttonEl =\n",
              "          document.querySelector('#df-a51f59eb-9a33-4a87-922f-a9bb6921d368 button.colab-df-convert');\n",
              "        buttonEl.style.display =\n",
              "          google.colab.kernel.accessAllowed ? 'block' : 'none';\n",
              "\n",
              "        async function convertToInteractive(key) {\n",
              "          const element = document.querySelector('#df-a51f59eb-9a33-4a87-922f-a9bb6921d368');\n",
              "          const dataTable =\n",
              "            await google.colab.kernel.invokeFunction('convertToInteractive',\n",
              "                                                     [key], {});\n",
              "          if (!dataTable) return;\n",
              "\n",
              "          const docLinkHtml = 'Like what you see? Visit the ' +\n",
              "            '<a target=\"_blank\" href=https://colab.research.google.com/notebooks/data_table.ipynb>data table notebook</a>'\n",
              "            + ' to learn more about interactive tables.';\n",
              "          element.innerHTML = '';\n",
              "          dataTable['output_type'] = 'display_data';\n",
              "          await google.colab.output.renderOutput(dataTable, element);\n",
              "          const docLink = document.createElement('div');\n",
              "          docLink.innerHTML = docLinkHtml;\n",
              "          element.appendChild(docLink);\n",
              "        }\n",
              "      </script>\n",
              "    </div>\n",
              "  </div>\n"
            ]
          },
          "metadata": {},
          "execution_count": 4
        }
      ],
      "execution_count": null
    },
    {
      "cell_type": "markdown",
      "source": [
        "#### Datos previamente procesados"
      ],
      "metadata": {
        "tags": [],
        "cell_id": "f9c10fd8df6245c88457e225e359615a",
        "deepnote_app_coordinates": {
          "h": 5,
          "w": 12,
          "x": 0,
          "y": 66
        },
        "deepnote_cell_type": "markdown",
        "id": "CUdJk_qCm9kv"
      }
    },
    {
      "cell_type": "code",
      "source": [
        "#Datos procesados\n",
        "# Lo almacenamos en una variable\n",
        "preprocess_penguins_df = palmerpenguins.load_penguins()\n",
        "preprocess_penguins_df"
      ],
      "metadata": {
        "tags": [],
        "cell_id": "631afa1e4606494fa21a8f4d26050f3b",
        "source_hash": "b623e53d",
        "output_cleared": true,
        "execution_start": 1653452678058,
        "execution_millis": 0,
        "deepnote_app_coordinates": {
          "h": 5,
          "w": 12,
          "x": 0,
          "y": 72
        },
        "deepnote_to_be_reexecuted": false,
        "deepnote_cell_type": "code",
        "colab": {
          "base_uri": "https://localhost:8080/",
          "height": 488
        },
        "id": "bwsMwRVFm9kv",
        "outputId": "69270cb4-2523-4ea8-d91c-bab6f1148a31"
      },
      "outputs": [
        {
          "output_type": "execute_result",
          "data": {
            "text/plain": [
              "       species     island  bill_length_mm  bill_depth_mm  flipper_length_mm  \\\n",
              "0       Adelie  Torgersen            39.1           18.7              181.0   \n",
              "1       Adelie  Torgersen            39.5           17.4              186.0   \n",
              "2       Adelie  Torgersen            40.3           18.0              195.0   \n",
              "3       Adelie  Torgersen             NaN            NaN                NaN   \n",
              "4       Adelie  Torgersen            36.7           19.3              193.0   \n",
              "..         ...        ...             ...            ...                ...   \n",
              "339  Chinstrap      Dream            55.8           19.8              207.0   \n",
              "340  Chinstrap      Dream            43.5           18.1              202.0   \n",
              "341  Chinstrap      Dream            49.6           18.2              193.0   \n",
              "342  Chinstrap      Dream            50.8           19.0              210.0   \n",
              "343  Chinstrap      Dream            50.2           18.7              198.0   \n",
              "\n",
              "     body_mass_g     sex  year  \n",
              "0         3750.0    male  2007  \n",
              "1         3800.0  female  2007  \n",
              "2         3250.0  female  2007  \n",
              "3            NaN     NaN  2007  \n",
              "4         3450.0  female  2007  \n",
              "..           ...     ...   ...  \n",
              "339       4000.0    male  2009  \n",
              "340       3400.0  female  2009  \n",
              "341       3775.0    male  2009  \n",
              "342       4100.0    male  2009  \n",
              "343       3775.0  female  2009  \n",
              "\n",
              "[344 rows x 8 columns]"
            ],
            "text/html": [
              "\n",
              "\n",
              "  <div id=\"df-55f49179-9d8f-468d-82b7-15820a6e71cc\">\n",
              "    <div class=\"colab-df-container\">\n",
              "      <div>\n",
              "<style scoped>\n",
              "    .dataframe tbody tr th:only-of-type {\n",
              "        vertical-align: middle;\n",
              "    }\n",
              "\n",
              "    .dataframe tbody tr th {\n",
              "        vertical-align: top;\n",
              "    }\n",
              "\n",
              "    .dataframe thead th {\n",
              "        text-align: right;\n",
              "    }\n",
              "</style>\n",
              "<table border=\"1\" class=\"dataframe\">\n",
              "  <thead>\n",
              "    <tr style=\"text-align: right;\">\n",
              "      <th></th>\n",
              "      <th>species</th>\n",
              "      <th>island</th>\n",
              "      <th>bill_length_mm</th>\n",
              "      <th>bill_depth_mm</th>\n",
              "      <th>flipper_length_mm</th>\n",
              "      <th>body_mass_g</th>\n",
              "      <th>sex</th>\n",
              "      <th>year</th>\n",
              "    </tr>\n",
              "  </thead>\n",
              "  <tbody>\n",
              "    <tr>\n",
              "      <th>0</th>\n",
              "      <td>Adelie</td>\n",
              "      <td>Torgersen</td>\n",
              "      <td>39.1</td>\n",
              "      <td>18.7</td>\n",
              "      <td>181.0</td>\n",
              "      <td>3750.0</td>\n",
              "      <td>male</td>\n",
              "      <td>2007</td>\n",
              "    </tr>\n",
              "    <tr>\n",
              "      <th>1</th>\n",
              "      <td>Adelie</td>\n",
              "      <td>Torgersen</td>\n",
              "      <td>39.5</td>\n",
              "      <td>17.4</td>\n",
              "      <td>186.0</td>\n",
              "      <td>3800.0</td>\n",
              "      <td>female</td>\n",
              "      <td>2007</td>\n",
              "    </tr>\n",
              "    <tr>\n",
              "      <th>2</th>\n",
              "      <td>Adelie</td>\n",
              "      <td>Torgersen</td>\n",
              "      <td>40.3</td>\n",
              "      <td>18.0</td>\n",
              "      <td>195.0</td>\n",
              "      <td>3250.0</td>\n",
              "      <td>female</td>\n",
              "      <td>2007</td>\n",
              "    </tr>\n",
              "    <tr>\n",
              "      <th>3</th>\n",
              "      <td>Adelie</td>\n",
              "      <td>Torgersen</td>\n",
              "      <td>NaN</td>\n",
              "      <td>NaN</td>\n",
              "      <td>NaN</td>\n",
              "      <td>NaN</td>\n",
              "      <td>NaN</td>\n",
              "      <td>2007</td>\n",
              "    </tr>\n",
              "    <tr>\n",
              "      <th>4</th>\n",
              "      <td>Adelie</td>\n",
              "      <td>Torgersen</td>\n",
              "      <td>36.7</td>\n",
              "      <td>19.3</td>\n",
              "      <td>193.0</td>\n",
              "      <td>3450.0</td>\n",
              "      <td>female</td>\n",
              "      <td>2007</td>\n",
              "    </tr>\n",
              "    <tr>\n",
              "      <th>...</th>\n",
              "      <td>...</td>\n",
              "      <td>...</td>\n",
              "      <td>...</td>\n",
              "      <td>...</td>\n",
              "      <td>...</td>\n",
              "      <td>...</td>\n",
              "      <td>...</td>\n",
              "      <td>...</td>\n",
              "    </tr>\n",
              "    <tr>\n",
              "      <th>339</th>\n",
              "      <td>Chinstrap</td>\n",
              "      <td>Dream</td>\n",
              "      <td>55.8</td>\n",
              "      <td>19.8</td>\n",
              "      <td>207.0</td>\n",
              "      <td>4000.0</td>\n",
              "      <td>male</td>\n",
              "      <td>2009</td>\n",
              "    </tr>\n",
              "    <tr>\n",
              "      <th>340</th>\n",
              "      <td>Chinstrap</td>\n",
              "      <td>Dream</td>\n",
              "      <td>43.5</td>\n",
              "      <td>18.1</td>\n",
              "      <td>202.0</td>\n",
              "      <td>3400.0</td>\n",
              "      <td>female</td>\n",
              "      <td>2009</td>\n",
              "    </tr>\n",
              "    <tr>\n",
              "      <th>341</th>\n",
              "      <td>Chinstrap</td>\n",
              "      <td>Dream</td>\n",
              "      <td>49.6</td>\n",
              "      <td>18.2</td>\n",
              "      <td>193.0</td>\n",
              "      <td>3775.0</td>\n",
              "      <td>male</td>\n",
              "      <td>2009</td>\n",
              "    </tr>\n",
              "    <tr>\n",
              "      <th>342</th>\n",
              "      <td>Chinstrap</td>\n",
              "      <td>Dream</td>\n",
              "      <td>50.8</td>\n",
              "      <td>19.0</td>\n",
              "      <td>210.0</td>\n",
              "      <td>4100.0</td>\n",
              "      <td>male</td>\n",
              "      <td>2009</td>\n",
              "    </tr>\n",
              "    <tr>\n",
              "      <th>343</th>\n",
              "      <td>Chinstrap</td>\n",
              "      <td>Dream</td>\n",
              "      <td>50.2</td>\n",
              "      <td>18.7</td>\n",
              "      <td>198.0</td>\n",
              "      <td>3775.0</td>\n",
              "      <td>female</td>\n",
              "      <td>2009</td>\n",
              "    </tr>\n",
              "  </tbody>\n",
              "</table>\n",
              "<p>344 rows × 8 columns</p>\n",
              "</div>\n",
              "      <button class=\"colab-df-convert\" onclick=\"convertToInteractive('df-55f49179-9d8f-468d-82b7-15820a6e71cc')\"\n",
              "              title=\"Convert this dataframe to an interactive table.\"\n",
              "              style=\"display:none;\">\n",
              "\n",
              "  <svg xmlns=\"http://www.w3.org/2000/svg\" height=\"24px\"viewBox=\"0 0 24 24\"\n",
              "       width=\"24px\">\n",
              "    <path d=\"M0 0h24v24H0V0z\" fill=\"none\"/>\n",
              "    <path d=\"M18.56 5.44l.94 2.06.94-2.06 2.06-.94-2.06-.94-.94-2.06-.94 2.06-2.06.94zm-11 1L8.5 8.5l.94-2.06 2.06-.94-2.06-.94L8.5 2.5l-.94 2.06-2.06.94zm10 10l.94 2.06.94-2.06 2.06-.94-2.06-.94-.94-2.06-.94 2.06-2.06.94z\"/><path d=\"M17.41 7.96l-1.37-1.37c-.4-.4-.92-.59-1.43-.59-.52 0-1.04.2-1.43.59L10.3 9.45l-7.72 7.72c-.78.78-.78 2.05 0 2.83L4 21.41c.39.39.9.59 1.41.59.51 0 1.02-.2 1.41-.59l7.78-7.78 2.81-2.81c.8-.78.8-2.07 0-2.86zM5.41 20L4 18.59l7.72-7.72 1.47 1.35L5.41 20z\"/>\n",
              "  </svg>\n",
              "      </button>\n",
              "\n",
              "\n",
              "\n",
              "    <div id=\"df-de851ce3-b71a-46a8-9555-a18301cb485d\">\n",
              "      <button class=\"colab-df-quickchart\" onclick=\"quickchart('df-de851ce3-b71a-46a8-9555-a18301cb485d')\"\n",
              "              title=\"Suggest charts.\"\n",
              "              style=\"display:none;\">\n",
              "\n",
              "<svg xmlns=\"http://www.w3.org/2000/svg\" height=\"24px\"viewBox=\"0 0 24 24\"\n",
              "     width=\"24px\">\n",
              "    <g>\n",
              "        <path d=\"M19 3H5c-1.1 0-2 .9-2 2v14c0 1.1.9 2 2 2h14c1.1 0 2-.9 2-2V5c0-1.1-.9-2-2-2zM9 17H7v-7h2v7zm4 0h-2V7h2v10zm4 0h-2v-4h2v4z\"/>\n",
              "    </g>\n",
              "</svg>\n",
              "      </button>\n",
              "    </div>\n",
              "\n",
              "<style>\n",
              "  .colab-df-quickchart {\n",
              "    background-color: #E8F0FE;\n",
              "    border: none;\n",
              "    border-radius: 50%;\n",
              "    cursor: pointer;\n",
              "    display: none;\n",
              "    fill: #1967D2;\n",
              "    height: 32px;\n",
              "    padding: 0 0 0 0;\n",
              "    width: 32px;\n",
              "  }\n",
              "\n",
              "  .colab-df-quickchart:hover {\n",
              "    background-color: #E2EBFA;\n",
              "    box-shadow: 0px 1px 2px rgba(60, 64, 67, 0.3), 0px 1px 3px 1px rgba(60, 64, 67, 0.15);\n",
              "    fill: #174EA6;\n",
              "  }\n",
              "\n",
              "  [theme=dark] .colab-df-quickchart {\n",
              "    background-color: #3B4455;\n",
              "    fill: #D2E3FC;\n",
              "  }\n",
              "\n",
              "  [theme=dark] .colab-df-quickchart:hover {\n",
              "    background-color: #434B5C;\n",
              "    box-shadow: 0px 1px 3px 1px rgba(0, 0, 0, 0.15);\n",
              "    filter: drop-shadow(0px 1px 2px rgba(0, 0, 0, 0.3));\n",
              "    fill: #FFFFFF;\n",
              "  }\n",
              "</style>\n",
              "\n",
              "    <script>\n",
              "      async function quickchart(key) {\n",
              "        const containerElement = document.querySelector('#' + key);\n",
              "        const charts = await google.colab.kernel.invokeFunction(\n",
              "            'suggestCharts', [key], {});\n",
              "      }\n",
              "    </script>\n",
              "\n",
              "      <script>\n",
              "\n",
              "function displayQuickchartButton(domScope) {\n",
              "  let quickchartButtonEl =\n",
              "    domScope.querySelector('#df-de851ce3-b71a-46a8-9555-a18301cb485d button.colab-df-quickchart');\n",
              "  quickchartButtonEl.style.display =\n",
              "    google.colab.kernel.accessAllowed ? 'block' : 'none';\n",
              "}\n",
              "\n",
              "        displayQuickchartButton(document);\n",
              "      </script>\n",
              "      <style>\n",
              "    .colab-df-container {\n",
              "      display:flex;\n",
              "      flex-wrap:wrap;\n",
              "      gap: 12px;\n",
              "    }\n",
              "\n",
              "    .colab-df-convert {\n",
              "      background-color: #E8F0FE;\n",
              "      border: none;\n",
              "      border-radius: 50%;\n",
              "      cursor: pointer;\n",
              "      display: none;\n",
              "      fill: #1967D2;\n",
              "      height: 32px;\n",
              "      padding: 0 0 0 0;\n",
              "      width: 32px;\n",
              "    }\n",
              "\n",
              "    .colab-df-convert:hover {\n",
              "      background-color: #E2EBFA;\n",
              "      box-shadow: 0px 1px 2px rgba(60, 64, 67, 0.3), 0px 1px 3px 1px rgba(60, 64, 67, 0.15);\n",
              "      fill: #174EA6;\n",
              "    }\n",
              "\n",
              "    [theme=dark] .colab-df-convert {\n",
              "      background-color: #3B4455;\n",
              "      fill: #D2E3FC;\n",
              "    }\n",
              "\n",
              "    [theme=dark] .colab-df-convert:hover {\n",
              "      background-color: #434B5C;\n",
              "      box-shadow: 0px 1px 3px 1px rgba(0, 0, 0, 0.15);\n",
              "      filter: drop-shadow(0px 1px 2px rgba(0, 0, 0, 0.3));\n",
              "      fill: #FFFFFF;\n",
              "    }\n",
              "  </style>\n",
              "\n",
              "      <script>\n",
              "        const buttonEl =\n",
              "          document.querySelector('#df-55f49179-9d8f-468d-82b7-15820a6e71cc button.colab-df-convert');\n",
              "        buttonEl.style.display =\n",
              "          google.colab.kernel.accessAllowed ? 'block' : 'none';\n",
              "\n",
              "        async function convertToInteractive(key) {\n",
              "          const element = document.querySelector('#df-55f49179-9d8f-468d-82b7-15820a6e71cc');\n",
              "          const dataTable =\n",
              "            await google.colab.kernel.invokeFunction('convertToInteractive',\n",
              "                                                     [key], {});\n",
              "          if (!dataTable) return;\n",
              "\n",
              "          const docLinkHtml = 'Like what you see? Visit the ' +\n",
              "            '<a target=\"_blank\" href=https://colab.research.google.com/notebooks/data_table.ipynb>data table notebook</a>'\n",
              "            + ' to learn more about interactive tables.';\n",
              "          element.innerHTML = '';\n",
              "          dataTable['output_type'] = 'display_data';\n",
              "          await google.colab.output.renderOutput(dataTable, element);\n",
              "          const docLink = document.createElement('div');\n",
              "          docLink.innerHTML = docLinkHtml;\n",
              "          element.appendChild(docLink);\n",
              "        }\n",
              "      </script>\n",
              "    </div>\n",
              "  </div>\n"
            ]
          },
          "metadata": {},
          "execution_count": 5
        }
      ],
      "execution_count": null
    },
    {
      "cell_type": "markdown",
      "source": [
        "### Utilizando los conjuntos de datos de `seaborn`"
      ],
      "metadata": {
        "tags": [],
        "cell_id": "f0691a64c71c4ea8af6d28bdb987db6f",
        "deepnote_app_coordinates": {
          "h": 5,
          "w": 12,
          "x": 0,
          "y": 78
        },
        "deepnote_cell_type": "markdown",
        "id": "m4K8L6f_m9kv"
      }
    },
    {
      "cell_type": "code",
      "source": [
        "sns.load_dataset(\"penguins\")"
      ],
      "metadata": {
        "tags": [],
        "cell_id": "e787332b425741aba40cb38bedef11c1",
        "source_hash": "b623e53d",
        "output_cleared": true,
        "execution_start": 1653452678058,
        "execution_millis": 1,
        "deepnote_app_coordinates": {
          "h": 5,
          "w": 12,
          "x": 0,
          "y": 84
        },
        "deepnote_to_be_reexecuted": false,
        "deepnote_cell_type": "code",
        "colab": {
          "base_uri": "https://localhost:8080/"
        },
        "id": "GoEoG-rRm9kv",
        "outputId": "1408d219-8c29-488a-ef36-c1b40a8a730d"
      },
      "outputs": [
        {
          "output_type": "execute_result",
          "data": {
            "text/plain": [
              "    species     island  bill_length_mm  bill_depth_mm  flipper_length_mm  \\\n",
              "0    Adelie  Torgersen            39.1           18.7              181.0   \n",
              "1    Adelie  Torgersen            39.5           17.4              186.0   \n",
              "2    Adelie  Torgersen            40.3           18.0              195.0   \n",
              "3    Adelie  Torgersen             NaN            NaN                NaN   \n",
              "4    Adelie  Torgersen            36.7           19.3              193.0   \n",
              "..      ...        ...             ...            ...                ...   \n",
              "339  Gentoo     Biscoe             NaN            NaN                NaN   \n",
              "340  Gentoo     Biscoe            46.8           14.3              215.0   \n",
              "341  Gentoo     Biscoe            50.4           15.7              222.0   \n",
              "342  Gentoo     Biscoe            45.2           14.8              212.0   \n",
              "343  Gentoo     Biscoe            49.9           16.1              213.0   \n",
              "\n",
              "     body_mass_g     sex  \n",
              "0         3750.0    Male  \n",
              "1         3800.0  Female  \n",
              "2         3250.0  Female  \n",
              "3            NaN     NaN  \n",
              "4         3450.0  Female  \n",
              "..           ...     ...  \n",
              "339          NaN     NaN  \n",
              "340       4850.0  Female  \n",
              "341       5750.0    Male  \n",
              "342       5200.0  Female  \n",
              "343       5400.0    Male  \n",
              "\n",
              "[344 rows x 7 columns]"
            ],
            "text/html": [
              "\n",
              "\n",
              "  <div id=\"df-18c7db57-0d2d-4341-8790-3727b40c8187\">\n",
              "    <div class=\"colab-df-container\">\n",
              "      <div>\n",
              "<style scoped>\n",
              "    .dataframe tbody tr th:only-of-type {\n",
              "        vertical-align: middle;\n",
              "    }\n",
              "\n",
              "    .dataframe tbody tr th {\n",
              "        vertical-align: top;\n",
              "    }\n",
              "\n",
              "    .dataframe thead th {\n",
              "        text-align: right;\n",
              "    }\n",
              "</style>\n",
              "<table border=\"1\" class=\"dataframe\">\n",
              "  <thead>\n",
              "    <tr style=\"text-align: right;\">\n",
              "      <th></th>\n",
              "      <th>species</th>\n",
              "      <th>island</th>\n",
              "      <th>bill_length_mm</th>\n",
              "      <th>bill_depth_mm</th>\n",
              "      <th>flipper_length_mm</th>\n",
              "      <th>body_mass_g</th>\n",
              "      <th>sex</th>\n",
              "    </tr>\n",
              "  </thead>\n",
              "  <tbody>\n",
              "    <tr>\n",
              "      <th>0</th>\n",
              "      <td>Adelie</td>\n",
              "      <td>Torgersen</td>\n",
              "      <td>39.1</td>\n",
              "      <td>18.7</td>\n",
              "      <td>181.0</td>\n",
              "      <td>3750.0</td>\n",
              "      <td>Male</td>\n",
              "    </tr>\n",
              "    <tr>\n",
              "      <th>1</th>\n",
              "      <td>Adelie</td>\n",
              "      <td>Torgersen</td>\n",
              "      <td>39.5</td>\n",
              "      <td>17.4</td>\n",
              "      <td>186.0</td>\n",
              "      <td>3800.0</td>\n",
              "      <td>Female</td>\n",
              "    </tr>\n",
              "    <tr>\n",
              "      <th>2</th>\n",
              "      <td>Adelie</td>\n",
              "      <td>Torgersen</td>\n",
              "      <td>40.3</td>\n",
              "      <td>18.0</td>\n",
              "      <td>195.0</td>\n",
              "      <td>3250.0</td>\n",
              "      <td>Female</td>\n",
              "    </tr>\n",
              "    <tr>\n",
              "      <th>3</th>\n",
              "      <td>Adelie</td>\n",
              "      <td>Torgersen</td>\n",
              "      <td>NaN</td>\n",
              "      <td>NaN</td>\n",
              "      <td>NaN</td>\n",
              "      <td>NaN</td>\n",
              "      <td>NaN</td>\n",
              "    </tr>\n",
              "    <tr>\n",
              "      <th>4</th>\n",
              "      <td>Adelie</td>\n",
              "      <td>Torgersen</td>\n",
              "      <td>36.7</td>\n",
              "      <td>19.3</td>\n",
              "      <td>193.0</td>\n",
              "      <td>3450.0</td>\n",
              "      <td>Female</td>\n",
              "    </tr>\n",
              "    <tr>\n",
              "      <th>...</th>\n",
              "      <td>...</td>\n",
              "      <td>...</td>\n",
              "      <td>...</td>\n",
              "      <td>...</td>\n",
              "      <td>...</td>\n",
              "      <td>...</td>\n",
              "      <td>...</td>\n",
              "    </tr>\n",
              "    <tr>\n",
              "      <th>339</th>\n",
              "      <td>Gentoo</td>\n",
              "      <td>Biscoe</td>\n",
              "      <td>NaN</td>\n",
              "      <td>NaN</td>\n",
              "      <td>NaN</td>\n",
              "      <td>NaN</td>\n",
              "      <td>NaN</td>\n",
              "    </tr>\n",
              "    <tr>\n",
              "      <th>340</th>\n",
              "      <td>Gentoo</td>\n",
              "      <td>Biscoe</td>\n",
              "      <td>46.8</td>\n",
              "      <td>14.3</td>\n",
              "      <td>215.0</td>\n",
              "      <td>4850.0</td>\n",
              "      <td>Female</td>\n",
              "    </tr>\n",
              "    <tr>\n",
              "      <th>341</th>\n",
              "      <td>Gentoo</td>\n",
              "      <td>Biscoe</td>\n",
              "      <td>50.4</td>\n",
              "      <td>15.7</td>\n",
              "      <td>222.0</td>\n",
              "      <td>5750.0</td>\n",
              "      <td>Male</td>\n",
              "    </tr>\n",
              "    <tr>\n",
              "      <th>342</th>\n",
              "      <td>Gentoo</td>\n",
              "      <td>Biscoe</td>\n",
              "      <td>45.2</td>\n",
              "      <td>14.8</td>\n",
              "      <td>212.0</td>\n",
              "      <td>5200.0</td>\n",
              "      <td>Female</td>\n",
              "    </tr>\n",
              "    <tr>\n",
              "      <th>343</th>\n",
              "      <td>Gentoo</td>\n",
              "      <td>Biscoe</td>\n",
              "      <td>49.9</td>\n",
              "      <td>16.1</td>\n",
              "      <td>213.0</td>\n",
              "      <td>5400.0</td>\n",
              "      <td>Male</td>\n",
              "    </tr>\n",
              "  </tbody>\n",
              "</table>\n",
              "<p>344 rows × 7 columns</p>\n",
              "</div>\n",
              "      <button class=\"colab-df-convert\" onclick=\"convertToInteractive('df-18c7db57-0d2d-4341-8790-3727b40c8187')\"\n",
              "              title=\"Convert this dataframe to an interactive table.\"\n",
              "              style=\"display:none;\">\n",
              "\n",
              "  <svg xmlns=\"http://www.w3.org/2000/svg\" height=\"24px\"viewBox=\"0 0 24 24\"\n",
              "       width=\"24px\">\n",
              "    <path d=\"M0 0h24v24H0V0z\" fill=\"none\"/>\n",
              "    <path d=\"M18.56 5.44l.94 2.06.94-2.06 2.06-.94-2.06-.94-.94-2.06-.94 2.06-2.06.94zm-11 1L8.5 8.5l.94-2.06 2.06-.94-2.06-.94L8.5 2.5l-.94 2.06-2.06.94zm10 10l.94 2.06.94-2.06 2.06-.94-2.06-.94-.94-2.06-.94 2.06-2.06.94z\"/><path d=\"M17.41 7.96l-1.37-1.37c-.4-.4-.92-.59-1.43-.59-.52 0-1.04.2-1.43.59L10.3 9.45l-7.72 7.72c-.78.78-.78 2.05 0 2.83L4 21.41c.39.39.9.59 1.41.59.51 0 1.02-.2 1.41-.59l7.78-7.78 2.81-2.81c.8-.78.8-2.07 0-2.86zM5.41 20L4 18.59l7.72-7.72 1.47 1.35L5.41 20z\"/>\n",
              "  </svg>\n",
              "      </button>\n",
              "\n",
              "\n",
              "\n",
              "    <div id=\"df-9fd35809-de30-4a22-b307-ee22be20cfbf\">\n",
              "      <button class=\"colab-df-quickchart\" onclick=\"quickchart('df-9fd35809-de30-4a22-b307-ee22be20cfbf')\"\n",
              "              title=\"Suggest charts.\"\n",
              "              style=\"display:none;\">\n",
              "\n",
              "<svg xmlns=\"http://www.w3.org/2000/svg\" height=\"24px\"viewBox=\"0 0 24 24\"\n",
              "     width=\"24px\">\n",
              "    <g>\n",
              "        <path d=\"M19 3H5c-1.1 0-2 .9-2 2v14c0 1.1.9 2 2 2h14c1.1 0 2-.9 2-2V5c0-1.1-.9-2-2-2zM9 17H7v-7h2v7zm4 0h-2V7h2v10zm4 0h-2v-4h2v4z\"/>\n",
              "    </g>\n",
              "</svg>\n",
              "      </button>\n",
              "    </div>\n",
              "\n",
              "<style>\n",
              "  .colab-df-quickchart {\n",
              "    background-color: #E8F0FE;\n",
              "    border: none;\n",
              "    border-radius: 50%;\n",
              "    cursor: pointer;\n",
              "    display: none;\n",
              "    fill: #1967D2;\n",
              "    height: 32px;\n",
              "    padding: 0 0 0 0;\n",
              "    width: 32px;\n",
              "  }\n",
              "\n",
              "  .colab-df-quickchart:hover {\n",
              "    background-color: #E2EBFA;\n",
              "    box-shadow: 0px 1px 2px rgba(60, 64, 67, 0.3), 0px 1px 3px 1px rgba(60, 64, 67, 0.15);\n",
              "    fill: #174EA6;\n",
              "  }\n",
              "\n",
              "  [theme=dark] .colab-df-quickchart {\n",
              "    background-color: #3B4455;\n",
              "    fill: #D2E3FC;\n",
              "  }\n",
              "\n",
              "  [theme=dark] .colab-df-quickchart:hover {\n",
              "    background-color: #434B5C;\n",
              "    box-shadow: 0px 1px 3px 1px rgba(0, 0, 0, 0.15);\n",
              "    filter: drop-shadow(0px 1px 2px rgba(0, 0, 0, 0.3));\n",
              "    fill: #FFFFFF;\n",
              "  }\n",
              "</style>\n",
              "\n",
              "    <script>\n",
              "      async function quickchart(key) {\n",
              "        const containerElement = document.querySelector('#' + key);\n",
              "        const charts = await google.colab.kernel.invokeFunction(\n",
              "            'suggestCharts', [key], {});\n",
              "      }\n",
              "    </script>\n",
              "\n",
              "      <script>\n",
              "\n",
              "function displayQuickchartButton(domScope) {\n",
              "  let quickchartButtonEl =\n",
              "    domScope.querySelector('#df-9fd35809-de30-4a22-b307-ee22be20cfbf button.colab-df-quickchart');\n",
              "  quickchartButtonEl.style.display =\n",
              "    google.colab.kernel.accessAllowed ? 'block' : 'none';\n",
              "}\n",
              "\n",
              "        displayQuickchartButton(document);\n",
              "      </script>\n",
              "      <style>\n",
              "    .colab-df-container {\n",
              "      display:flex;\n",
              "      flex-wrap:wrap;\n",
              "      gap: 12px;\n",
              "    }\n",
              "\n",
              "    .colab-df-convert {\n",
              "      background-color: #E8F0FE;\n",
              "      border: none;\n",
              "      border-radius: 50%;\n",
              "      cursor: pointer;\n",
              "      display: none;\n",
              "      fill: #1967D2;\n",
              "      height: 32px;\n",
              "      padding: 0 0 0 0;\n",
              "      width: 32px;\n",
              "    }\n",
              "\n",
              "    .colab-df-convert:hover {\n",
              "      background-color: #E2EBFA;\n",
              "      box-shadow: 0px 1px 2px rgba(60, 64, 67, 0.3), 0px 1px 3px 1px rgba(60, 64, 67, 0.15);\n",
              "      fill: #174EA6;\n",
              "    }\n",
              "\n",
              "    [theme=dark] .colab-df-convert {\n",
              "      background-color: #3B4455;\n",
              "      fill: #D2E3FC;\n",
              "    }\n",
              "\n",
              "    [theme=dark] .colab-df-convert:hover {\n",
              "      background-color: #434B5C;\n",
              "      box-shadow: 0px 1px 3px 1px rgba(0, 0, 0, 0.15);\n",
              "      filter: drop-shadow(0px 1px 2px rgba(0, 0, 0, 0.3));\n",
              "      fill: #FFFFFF;\n",
              "    }\n",
              "  </style>\n",
              "\n",
              "      <script>\n",
              "        const buttonEl =\n",
              "          document.querySelector('#df-18c7db57-0d2d-4341-8790-3727b40c8187 button.colab-df-convert');\n",
              "        buttonEl.style.display =\n",
              "          google.colab.kernel.accessAllowed ? 'block' : 'none';\n",
              "\n",
              "        async function convertToInteractive(key) {\n",
              "          const element = document.querySelector('#df-18c7db57-0d2d-4341-8790-3727b40c8187');\n",
              "          const dataTable =\n",
              "            await google.colab.kernel.invokeFunction('convertToInteractive',\n",
              "                                                     [key], {});\n",
              "          if (!dataTable) return;\n",
              "\n",
              "          const docLinkHtml = 'Like what you see? Visit the ' +\n",
              "            '<a target=\"_blank\" href=https://colab.research.google.com/notebooks/data_table.ipynb>data table notebook</a>'\n",
              "            + ' to learn more about interactive tables.';\n",
              "          element.innerHTML = '';\n",
              "          dataTable['output_type'] = 'display_data';\n",
              "          await google.colab.output.renderOutput(dataTable, element);\n",
              "          const docLink = document.createElement('div');\n",
              "          docLink.innerHTML = docLinkHtml;\n",
              "          element.appendChild(docLink);\n",
              "        }\n",
              "      </script>\n",
              "    </div>\n",
              "  </div>\n"
            ]
          },
          "metadata": {},
          "execution_count": 6
        }
      ],
      "execution_count": null
    },
    {
      "cell_type": "markdown",
      "source": [
        "### Utilizando la interfaz de `Deepnote`\n",
        "\n",
        "Links de importación de datos:\n",
        "\n",
        "- [Conjunto de datos crudos](https://raw.githubusercontent.com/allisonhorst/palmerpenguins/master/inst/extdata/penguins_raw.csv).\n",
        "- [Conjunto de datos previamente procesados](https://raw.githubusercontent.com/allisonhorst/palmerpenguins/master/inst/extdata/penguins.csv)."
      ],
      "metadata": {
        "tags": [],
        "cell_id": "6cbbdaf22b48458ab735350c282e2c82",
        "deepnote_app_coordinates": {
          "h": 5,
          "w": 12,
          "x": 0,
          "y": 90
        },
        "deepnote_cell_type": "markdown",
        "id": "Nuu2ifKHm9kv"
      }
    },
    {
      "cell_type": "code",
      "source": [
        "penguins_raw = pd.read_csv(\"penguins_raw.csv\")"
      ],
      "metadata": {
        "tags": [],
        "cell_id": "d35e4f73557f419085689c1f3fdab971",
        "source_hash": "b623e53d",
        "output_cleared": true,
        "execution_start": 1653452678059,
        "execution_millis": 1,
        "deepnote_app_coordinates": {
          "h": 5,
          "w": 12,
          "x": 0,
          "y": 96
        },
        "deepnote_to_be_reexecuted": false,
        "deepnote_cell_type": "code",
        "id": "i-7fDwvcm9kv",
        "colab": {
          "base_uri": "https://localhost:8080/",
          "height": 345
        },
        "outputId": "c0a46d86-d636-4227-8c4c-cf4d0b151a5c"
      },
      "outputs": [
        {
          "output_type": "error",
          "ename": "FileNotFoundError",
          "evalue": "ignored",
          "traceback": [
            "\u001b[0;31m---------------------------------------------------------------------------\u001b[0m",
            "\u001b[0;31mFileNotFoundError\u001b[0m                         Traceback (most recent call last)",
            "\u001b[0;32m<ipython-input-7-5c045ef20478>\u001b[0m in \u001b[0;36m<cell line: 1>\u001b[0;34m()\u001b[0m\n\u001b[0;32m----> 1\u001b[0;31m \u001b[0mpenguins_raw\u001b[0m \u001b[0;34m=\u001b[0m \u001b[0mpd\u001b[0m\u001b[0;34m.\u001b[0m\u001b[0mread_csv\u001b[0m\u001b[0;34m(\u001b[0m\u001b[0;34m\"penguins_raw.csv\"\u001b[0m\u001b[0;34m)\u001b[0m\u001b[0;34m\u001b[0m\u001b[0;34m\u001b[0m\u001b[0m\n\u001b[0m",
            "\u001b[0;32m/usr/local/lib/python3.10/dist-packages/pandas/util/_decorators.py\u001b[0m in \u001b[0;36mwrapper\u001b[0;34m(*args, **kwargs)\u001b[0m\n\u001b[1;32m    209\u001b[0m                 \u001b[0;32melse\u001b[0m\u001b[0;34m:\u001b[0m\u001b[0;34m\u001b[0m\u001b[0;34m\u001b[0m\u001b[0m\n\u001b[1;32m    210\u001b[0m                     \u001b[0mkwargs\u001b[0m\u001b[0;34m[\u001b[0m\u001b[0mnew_arg_name\u001b[0m\u001b[0;34m]\u001b[0m \u001b[0;34m=\u001b[0m \u001b[0mnew_arg_value\u001b[0m\u001b[0;34m\u001b[0m\u001b[0;34m\u001b[0m\u001b[0m\n\u001b[0;32m--> 211\u001b[0;31m             \u001b[0;32mreturn\u001b[0m \u001b[0mfunc\u001b[0m\u001b[0;34m(\u001b[0m\u001b[0;34m*\u001b[0m\u001b[0margs\u001b[0m\u001b[0;34m,\u001b[0m \u001b[0;34m**\u001b[0m\u001b[0mkwargs\u001b[0m\u001b[0;34m)\u001b[0m\u001b[0;34m\u001b[0m\u001b[0;34m\u001b[0m\u001b[0m\n\u001b[0m\u001b[1;32m    212\u001b[0m \u001b[0;34m\u001b[0m\u001b[0m\n\u001b[1;32m    213\u001b[0m         \u001b[0;32mreturn\u001b[0m \u001b[0mcast\u001b[0m\u001b[0;34m(\u001b[0m\u001b[0mF\u001b[0m\u001b[0;34m,\u001b[0m \u001b[0mwrapper\u001b[0m\u001b[0;34m)\u001b[0m\u001b[0;34m\u001b[0m\u001b[0;34m\u001b[0m\u001b[0m\n",
            "\u001b[0;32m/usr/local/lib/python3.10/dist-packages/pandas/util/_decorators.py\u001b[0m in \u001b[0;36mwrapper\u001b[0;34m(*args, **kwargs)\u001b[0m\n\u001b[1;32m    329\u001b[0m                     \u001b[0mstacklevel\u001b[0m\u001b[0;34m=\u001b[0m\u001b[0mfind_stack_level\u001b[0m\u001b[0;34m(\u001b[0m\u001b[0;34m)\u001b[0m\u001b[0;34m,\u001b[0m\u001b[0;34m\u001b[0m\u001b[0;34m\u001b[0m\u001b[0m\n\u001b[1;32m    330\u001b[0m                 )\n\u001b[0;32m--> 331\u001b[0;31m             \u001b[0;32mreturn\u001b[0m \u001b[0mfunc\u001b[0m\u001b[0;34m(\u001b[0m\u001b[0;34m*\u001b[0m\u001b[0margs\u001b[0m\u001b[0;34m,\u001b[0m \u001b[0;34m**\u001b[0m\u001b[0mkwargs\u001b[0m\u001b[0;34m)\u001b[0m\u001b[0;34m\u001b[0m\u001b[0;34m\u001b[0m\u001b[0m\n\u001b[0m\u001b[1;32m    332\u001b[0m \u001b[0;34m\u001b[0m\u001b[0m\n\u001b[1;32m    333\u001b[0m         \u001b[0;31m# error: \"Callable[[VarArg(Any), KwArg(Any)], Any]\" has no\u001b[0m\u001b[0;34m\u001b[0m\u001b[0;34m\u001b[0m\u001b[0m\n",
            "\u001b[0;32m/usr/local/lib/python3.10/dist-packages/pandas/io/parsers/readers.py\u001b[0m in \u001b[0;36mread_csv\u001b[0;34m(filepath_or_buffer, sep, delimiter, header, names, index_col, usecols, squeeze, prefix, mangle_dupe_cols, dtype, engine, converters, true_values, false_values, skipinitialspace, skiprows, skipfooter, nrows, na_values, keep_default_na, na_filter, verbose, skip_blank_lines, parse_dates, infer_datetime_format, keep_date_col, date_parser, dayfirst, cache_dates, iterator, chunksize, compression, thousands, decimal, lineterminator, quotechar, quoting, doublequote, escapechar, comment, encoding, encoding_errors, dialect, error_bad_lines, warn_bad_lines, on_bad_lines, delim_whitespace, low_memory, memory_map, float_precision, storage_options)\u001b[0m\n\u001b[1;32m    948\u001b[0m     \u001b[0mkwds\u001b[0m\u001b[0;34m.\u001b[0m\u001b[0mupdate\u001b[0m\u001b[0;34m(\u001b[0m\u001b[0mkwds_defaults\u001b[0m\u001b[0;34m)\u001b[0m\u001b[0;34m\u001b[0m\u001b[0;34m\u001b[0m\u001b[0m\n\u001b[1;32m    949\u001b[0m \u001b[0;34m\u001b[0m\u001b[0m\n\u001b[0;32m--> 950\u001b[0;31m     \u001b[0;32mreturn\u001b[0m \u001b[0m_read\u001b[0m\u001b[0;34m(\u001b[0m\u001b[0mfilepath_or_buffer\u001b[0m\u001b[0;34m,\u001b[0m \u001b[0mkwds\u001b[0m\u001b[0;34m)\u001b[0m\u001b[0;34m\u001b[0m\u001b[0;34m\u001b[0m\u001b[0m\n\u001b[0m\u001b[1;32m    951\u001b[0m \u001b[0;34m\u001b[0m\u001b[0m\n\u001b[1;32m    952\u001b[0m \u001b[0;34m\u001b[0m\u001b[0m\n",
            "\u001b[0;32m/usr/local/lib/python3.10/dist-packages/pandas/io/parsers/readers.py\u001b[0m in \u001b[0;36m_read\u001b[0;34m(filepath_or_buffer, kwds)\u001b[0m\n\u001b[1;32m    603\u001b[0m \u001b[0;34m\u001b[0m\u001b[0m\n\u001b[1;32m    604\u001b[0m     \u001b[0;31m# Create the parser.\u001b[0m\u001b[0;34m\u001b[0m\u001b[0;34m\u001b[0m\u001b[0m\n\u001b[0;32m--> 605\u001b[0;31m     \u001b[0mparser\u001b[0m \u001b[0;34m=\u001b[0m \u001b[0mTextFileReader\u001b[0m\u001b[0;34m(\u001b[0m\u001b[0mfilepath_or_buffer\u001b[0m\u001b[0;34m,\u001b[0m \u001b[0;34m**\u001b[0m\u001b[0mkwds\u001b[0m\u001b[0;34m)\u001b[0m\u001b[0;34m\u001b[0m\u001b[0;34m\u001b[0m\u001b[0m\n\u001b[0m\u001b[1;32m    606\u001b[0m \u001b[0;34m\u001b[0m\u001b[0m\n\u001b[1;32m    607\u001b[0m     \u001b[0;32mif\u001b[0m \u001b[0mchunksize\u001b[0m \u001b[0;32mor\u001b[0m \u001b[0miterator\u001b[0m\u001b[0;34m:\u001b[0m\u001b[0;34m\u001b[0m\u001b[0;34m\u001b[0m\u001b[0m\n",
            "\u001b[0;32m/usr/local/lib/python3.10/dist-packages/pandas/io/parsers/readers.py\u001b[0m in \u001b[0;36m__init__\u001b[0;34m(self, f, engine, **kwds)\u001b[0m\n\u001b[1;32m   1440\u001b[0m \u001b[0;34m\u001b[0m\u001b[0m\n\u001b[1;32m   1441\u001b[0m         \u001b[0mself\u001b[0m\u001b[0;34m.\u001b[0m\u001b[0mhandles\u001b[0m\u001b[0;34m:\u001b[0m \u001b[0mIOHandles\u001b[0m \u001b[0;34m|\u001b[0m \u001b[0;32mNone\u001b[0m \u001b[0;34m=\u001b[0m \u001b[0;32mNone\u001b[0m\u001b[0;34m\u001b[0m\u001b[0;34m\u001b[0m\u001b[0m\n\u001b[0;32m-> 1442\u001b[0;31m         \u001b[0mself\u001b[0m\u001b[0;34m.\u001b[0m\u001b[0m_engine\u001b[0m \u001b[0;34m=\u001b[0m \u001b[0mself\u001b[0m\u001b[0;34m.\u001b[0m\u001b[0m_make_engine\u001b[0m\u001b[0;34m(\u001b[0m\u001b[0mf\u001b[0m\u001b[0;34m,\u001b[0m \u001b[0mself\u001b[0m\u001b[0;34m.\u001b[0m\u001b[0mengine\u001b[0m\u001b[0;34m)\u001b[0m\u001b[0;34m\u001b[0m\u001b[0;34m\u001b[0m\u001b[0m\n\u001b[0m\u001b[1;32m   1443\u001b[0m \u001b[0;34m\u001b[0m\u001b[0m\n\u001b[1;32m   1444\u001b[0m     \u001b[0;32mdef\u001b[0m \u001b[0mclose\u001b[0m\u001b[0;34m(\u001b[0m\u001b[0mself\u001b[0m\u001b[0;34m)\u001b[0m \u001b[0;34m->\u001b[0m \u001b[0;32mNone\u001b[0m\u001b[0;34m:\u001b[0m\u001b[0;34m\u001b[0m\u001b[0;34m\u001b[0m\u001b[0m\n",
            "\u001b[0;32m/usr/local/lib/python3.10/dist-packages/pandas/io/parsers/readers.py\u001b[0m in \u001b[0;36m_make_engine\u001b[0;34m(self, f, engine)\u001b[0m\n\u001b[1;32m   1733\u001b[0m                 \u001b[0;32mif\u001b[0m \u001b[0;34m\"b\"\u001b[0m \u001b[0;32mnot\u001b[0m \u001b[0;32min\u001b[0m \u001b[0mmode\u001b[0m\u001b[0;34m:\u001b[0m\u001b[0;34m\u001b[0m\u001b[0;34m\u001b[0m\u001b[0m\n\u001b[1;32m   1734\u001b[0m                     \u001b[0mmode\u001b[0m \u001b[0;34m+=\u001b[0m \u001b[0;34m\"b\"\u001b[0m\u001b[0;34m\u001b[0m\u001b[0;34m\u001b[0m\u001b[0m\n\u001b[0;32m-> 1735\u001b[0;31m             self.handles = get_handle(\n\u001b[0m\u001b[1;32m   1736\u001b[0m                 \u001b[0mf\u001b[0m\u001b[0;34m,\u001b[0m\u001b[0;34m\u001b[0m\u001b[0;34m\u001b[0m\u001b[0m\n\u001b[1;32m   1737\u001b[0m                 \u001b[0mmode\u001b[0m\u001b[0;34m,\u001b[0m\u001b[0;34m\u001b[0m\u001b[0;34m\u001b[0m\u001b[0m\n",
            "\u001b[0;32m/usr/local/lib/python3.10/dist-packages/pandas/io/common.py\u001b[0m in \u001b[0;36mget_handle\u001b[0;34m(path_or_buf, mode, encoding, compression, memory_map, is_text, errors, storage_options)\u001b[0m\n\u001b[1;32m    854\u001b[0m         \u001b[0;32mif\u001b[0m \u001b[0mioargs\u001b[0m\u001b[0;34m.\u001b[0m\u001b[0mencoding\u001b[0m \u001b[0;32mand\u001b[0m \u001b[0;34m\"b\"\u001b[0m \u001b[0;32mnot\u001b[0m \u001b[0;32min\u001b[0m \u001b[0mioargs\u001b[0m\u001b[0;34m.\u001b[0m\u001b[0mmode\u001b[0m\u001b[0;34m:\u001b[0m\u001b[0;34m\u001b[0m\u001b[0;34m\u001b[0m\u001b[0m\n\u001b[1;32m    855\u001b[0m             \u001b[0;31m# Encoding\u001b[0m\u001b[0;34m\u001b[0m\u001b[0;34m\u001b[0m\u001b[0m\n\u001b[0;32m--> 856\u001b[0;31m             handle = open(\n\u001b[0m\u001b[1;32m    857\u001b[0m                 \u001b[0mhandle\u001b[0m\u001b[0;34m,\u001b[0m\u001b[0;34m\u001b[0m\u001b[0;34m\u001b[0m\u001b[0m\n\u001b[1;32m    858\u001b[0m                 \u001b[0mioargs\u001b[0m\u001b[0;34m.\u001b[0m\u001b[0mmode\u001b[0m\u001b[0;34m,\u001b[0m\u001b[0;34m\u001b[0m\u001b[0;34m\u001b[0m\u001b[0m\n",
            "\u001b[0;31mFileNotFoundError\u001b[0m: [Errno 2] No such file or directory: 'penguins_raw.csv'"
          ]
        }
      ],
      "execution_count": null
    },
    {
      "cell_type": "code",
      "source": [],
      "metadata": {
        "tags": [],
        "cell_id": "7a8a33751a27442b8972cb5665ef7f7e",
        "source_hash": "b623e53d",
        "output_cleared": true,
        "execution_start": 1653452678064,
        "execution_millis": 4,
        "deepnote_table_state": {
          "sortBy": [],
          "filters": [],
          "pageSize": 10,
          "pageIndex": 0
        },
        "deepnote_table_loading": false,
        "deepnote_app_coordinates": {
          "h": 5,
          "w": 12,
          "x": 0,
          "y": 102
        },
        "deepnote_to_be_reexecuted": false,
        "deepnote_cell_type": "code",
        "id": "FZxuqgbpm9kw"
      },
      "outputs": [],
      "execution_count": null
    },
    {
      "cell_type": "markdown",
      "source": [
        "# Colecta y validación de datos"
      ],
      "metadata": {
        "tags": [],
        "cell_id": "61c6695b11c24b7fb0e51ca5c578c032",
        "source_hash": "b623e53d",
        "execution_start": 1652836959673,
        "execution_millis": 521820,
        "deepnote_app_coordinates": {
          "h": 5,
          "w": 12,
          "x": 0,
          "y": 108
        },
        "deepnote_to_be_reexecuted": false,
        "deepnote_cell_type": "markdown",
        "id": "lzumemVim9kw"
      }
    },
    {
      "cell_type": "markdown",
      "source": [
        "## ¿Qué tipo de dato son las variables del conjunto de datos?"
      ],
      "metadata": {
        "tags": [],
        "cell_id": "0732fb83a70b4564872e706f61408df6",
        "deepnote_app_coordinates": {
          "h": 5,
          "w": 12,
          "x": 0,
          "y": 114
        },
        "deepnote_cell_type": "markdown",
        "id": "hUB9uMAym9kw"
      }
    },
    {
      "cell_type": "code",
      "source": [
        "#tipos de datos\n",
        "# con dtypes podemos saber cual es el tipo de dato\n",
        "preprocess_penguins_df.dtypes"
      ],
      "metadata": {
        "tags": [],
        "cell_id": "2ea5c347de9a4c81a53cd07ddc4a90ce",
        "source_hash": "b623e53d",
        "output_cleared": true,
        "execution_start": 1653452678069,
        "execution_millis": 0,
        "deepnote_app_coordinates": {
          "h": 5,
          "w": 12,
          "x": 0,
          "y": 120
        },
        "deepnote_to_be_reexecuted": false,
        "deepnote_cell_type": "code",
        "id": "wkt15s5bm9kw"
      },
      "outputs": [],
      "execution_count": null
    },
    {
      "cell_type": "markdown",
      "source": [
        "## ¿Cuántas variables de cada tipo de dato tenemos en el conjunto de datos?"
      ],
      "metadata": {
        "tags": [],
        "cell_id": "336638b029334d8b84e56bdc9b2807d1",
        "deepnote_app_coordinates": {
          "h": 5,
          "w": 12,
          "x": 0,
          "y": 126
        },
        "deepnote_cell_type": "markdown",
        "id": "jzhwg51jm9kx"
      }
    },
    {
      "cell_type": "code",
      "source": [
        "# contamos los tipos de datos con value y counts\n",
        "(\n",
        "preprocess_penguins_df\n",
        ".dtypes\n",
        ".value_counts()\n",
        ")"
      ],
      "metadata": {
        "tags": [],
        "cell_id": "54c7a3e1811449b093f25fee8fabad28",
        "source_hash": "b623e53d",
        "output_cleared": true,
        "execution_start": 1653452678090,
        "execution_millis": 3349613,
        "deepnote_app_coordinates": {
          "h": 5,
          "w": 12,
          "x": 0,
          "y": 132
        },
        "deepnote_to_be_reexecuted": false,
        "deepnote_cell_type": "code",
        "id": "23BaBAyem9kx"
      },
      "outputs": [],
      "execution_count": null
    },
    {
      "cell_type": "markdown",
      "source": [
        "## ¿Cuántas variables y observaciones tenemos en el conjunto de datos?"
      ],
      "metadata": {
        "tags": [],
        "cell_id": "44fe7c0a2d414e028609c860deddcf54",
        "deepnote_app_coordinates": {
          "h": 5,
          "w": 12,
          "x": 0,
          "y": 138
        },
        "deepnote_cell_type": "markdown",
        "id": "vcAixnYym9kx"
      }
    },
    {
      "cell_type": "code",
      "source": [
        "# para saber las variables y observaciones tenemos\n",
        "# las observaciones son las filas\n",
        "# las variables son las columnas\n",
        "preprocess_penguins_df.shape"
      ],
      "metadata": {
        "tags": [],
        "cell_id": "35cefbe8cc8444cd96aa2603a184fe4d",
        "source_hash": "b623e53d",
        "output_cleared": true,
        "execution_start": 1653452678091,
        "execution_millis": 3349612,
        "deepnote_app_coordinates": {
          "h": 5,
          "w": 12,
          "x": 0,
          "y": 144
        },
        "deepnote_to_be_reexecuted": false,
        "deepnote_cell_type": "code",
        "id": "X_zcW2OOm9kx"
      },
      "outputs": [],
      "execution_count": null
    },
    {
      "cell_type": "markdown",
      "source": [
        "## ¿Existen valores nulos explícitos en el conjunto de datos?"
      ],
      "metadata": {
        "tags": [],
        "cell_id": "f9b357495b50466bb84db507feea2a4a",
        "deepnote_app_coordinates": {
          "h": 5,
          "w": 12,
          "x": 0,
          "y": 150
        },
        "deepnote_cell_type": "markdown",
        "id": "KiYjV8a-m9ky"
      }
    },
    {
      "cell_type": "code",
      "source": [
        "# para ver los valores nulls\n",
        "# is null para saber los valores nulls\n",
        "# con any puedo resumir las filas, y me diga si existen o no.\n",
        "(\n",
        "    preprocess_penguins_df\n",
        "    .isnull()\n",
        "    .any()\n",
        ")"
      ],
      "metadata": {
        "tags": [],
        "cell_id": "7a2f5cd6c7b44cd297bdd1f0a80444d9",
        "source_hash": "b623e53d",
        "output_cleared": true,
        "execution_start": 1653452678091,
        "execution_millis": 3349611,
        "deepnote_app_coordinates": {
          "h": 5,
          "w": 12,
          "x": 0,
          "y": 156
        },
        "deepnote_to_be_reexecuted": false,
        "deepnote_cell_type": "code",
        "id": "UFbaY8XBm9kz"
      },
      "outputs": [],
      "execution_count": null
    },
    {
      "cell_type": "markdown",
      "source": [
        "## De tener observaciones con valores nulos, ¿cuántas tenemos por cada variable?"
      ],
      "metadata": {
        "tags": [],
        "cell_id": "18a16001d92046d68419b60456dbd758",
        "deepnote_app_coordinates": {
          "h": 5,
          "w": 12,
          "x": 0,
          "y": 162
        },
        "deepnote_cell_type": "markdown",
        "id": "bo7_vLijm9kz"
      }
    },
    {
      "cell_type": "code",
      "source": [
        "# Entre parentesis\n",
        "# nuestros base de datos\n",
        "# is null para saber que valores nulls hay\n",
        "# sum para sumarlos todo y contarlos\n",
        "(\n",
        "    preprocess_penguins_df\n",
        "    .isnull()\n",
        "    .sum()\n",
        ")"
      ],
      "metadata": {
        "tags": [],
        "cell_id": "fba9701132df4c408a0502a7dbf2de67",
        "source_hash": "b623e53d",
        "output_cleared": true,
        "execution_start": 1653452678093,
        "execution_millis": 3349604,
        "deepnote_app_coordinates": {
          "h": 5,
          "w": 12,
          "x": 0,
          "y": 168
        },
        "deepnote_to_be_reexecuted": false,
        "deepnote_cell_type": "code",
        "id": "Gy_WqgTTm9k0"
      },
      "outputs": [],
      "execution_count": null
    },
    {
      "cell_type": "markdown",
      "source": [
        "## ¿Cuántos valores nulos tenemos en total en el conjunto de datos?"
      ],
      "metadata": {
        "tags": [],
        "cell_id": "301613312ed44542a03b49bd4e68f34b",
        "deepnote_app_coordinates": {
          "h": 5,
          "w": 12,
          "x": 0,
          "y": 174
        },
        "deepnote_cell_type": "markdown",
        "id": "awwN4AOYm9k0"
      }
    },
    {
      "cell_type": "code",
      "source": [
        "# Entre parentesis\n",
        "# nuestros base de datos\n",
        "# is null para saber que valores nulls hay\n",
        "# sum para sumarlos todo y contarlos\n",
        "# para contarlos todo, haces una suma de las filas\n",
        "(\n",
        "    preprocess_penguins_df\n",
        "    .isnull()\n",
        "    .sum()\n",
        "    .sum()\n",
        ")"
      ],
      "metadata": {
        "tags": [],
        "cell_id": "9299eb56389b4da58dd2c86ea21e38af",
        "source_hash": "b623e53d",
        "output_cleared": true,
        "execution_start": 1653452678096,
        "execution_millis": 3349597,
        "deepnote_app_coordinates": {
          "h": 5,
          "w": 12,
          "x": 0,
          "y": 180
        },
        "deepnote_to_be_reexecuted": false,
        "deepnote_cell_type": "code",
        "id": "U8adhN86m9k1"
      },
      "outputs": [],
      "execution_count": null
    },
    {
      "cell_type": "markdown",
      "source": [
        "## ¿Cuál es la proporción de valores nulos por cada variable?"
      ],
      "metadata": {
        "tags": [],
        "cell_id": "49488fbe544343ff9f7fe1ced3558a6b",
        "deepnote_app_coordinates": {
          "h": 5,
          "w": 12,
          "x": 0,
          "y": 186
        },
        "deepnote_cell_type": "markdown",
        "id": "4oEQV4Nmm9k1"
      }
    },
    {
      "cell_type": "code",
      "source": [
        "# Entre parentesis\n",
        "# nuestros base de datos\n",
        "# is null para saber que valores nulls hay\n",
        "# melt para hacer una tabla independiente de nuestros datos de inicio, con sus valores unicos\n",
        "(\n",
        "    preprocess_penguins_df\n",
        "    .isnull()\n",
        "    .melt()\n",
        ")"
      ],
      "metadata": {
        "tags": [],
        "cell_id": "823927f172944759905a721c12cd5feb",
        "source_hash": "b623e53d",
        "output_cleared": true,
        "execution_start": 1653452678105,
        "execution_millis": 3349553,
        "deepnote_app_coordinates": {
          "h": 5,
          "w": 12,
          "x": 0,
          "y": 192
        },
        "deepnote_to_be_reexecuted": false,
        "deepnote_cell_type": "code",
        "id": "qzAuz4G1m9k1"
      },
      "outputs": [],
      "execution_count": null
    },
    {
      "cell_type": "code",
      "source": [
        "# Entre parentesis\n",
        "# nuestros base de datos\n",
        "# is null para saber que valores nulls hay\n",
        "# melt para hacer una tabla independiente de nuestros datos de inicio, con sus valores unicos\n",
        "# Para hacer una visualizacion\n",
        "(\n",
        "    preprocess_penguins_df\n",
        "    .isnull()\n",
        "    .melt()\n",
        "    .pipe(\n",
        "        lambda df: (\n",
        "            sns.displot(\n",
        "                data=df,\n",
        "                y=\"variable\",\n",
        "                hue = \"value\",\n",
        "                multiple = \"fill\",\n",
        "                aspect=2\n",
        "            )\n",
        "        )\n",
        "    )\n",
        ")"
      ],
      "metadata": {
        "id": "Ba5f3ofQ7S10"
      },
      "execution_count": null,
      "outputs": []
    },
    {
      "cell_type": "markdown",
      "source": [
        "## ¿Cómo podemos visualizar los valores nulos en todo el conjunto de datos?"
      ],
      "metadata": {
        "tags": [],
        "cell_id": "00faf6ee3cb245b1a4dfe9b2d60ef13a",
        "deepnote_app_coordinates": {
          "h": 5,
          "w": 12,
          "x": 0,
          "y": 198
        },
        "deepnote_cell_type": "markdown",
        "id": "blOPPkmRm9k1"
      }
    },
    {
      "cell_type": "code",
      "source": [
        "#Entre parentesis\n",
        "# nuestros base de datos\n",
        "# is null para saber que valores nulls hay\n",
        "# melt para hacer una tabla independiente de nuestros datos de inicio, con sus valores unicos\n",
        "# Para hacer una visualizacion\n",
        "(\n",
        "    preprocess_penguins_df\n",
        "    .isnull()\n",
        "    .transpose()\n",
        "    .pipe(\n",
        "        lambda df: (\n",
        "            sns.heatmap(\n",
        "                data=df,\n",
        "            )\n",
        "        )\n",
        "    )\n",
        ")"
      ],
      "metadata": {
        "tags": [],
        "cell_id": "41dbd9d5215c4d97bb8e484e948d477a",
        "source_hash": "b623e53d",
        "output_cleared": true,
        "execution_start": 1653452678109,
        "execution_millis": 3349560,
        "deepnote_app_coordinates": {
          "h": 5,
          "w": 12,
          "x": 0,
          "y": 204
        },
        "deepnote_to_be_reexecuted": false,
        "deepnote_cell_type": "code",
        "id": "n0NSYwtkm9k2"
      },
      "outputs": [],
      "execution_count": null
    },
    {
      "cell_type": "markdown",
      "source": [
        "## ¿Cuántas observaciones perdemos si eliminamos los datos faltantes?"
      ],
      "metadata": {
        "tags": [],
        "cell_id": "d32e990574bc44db86278321d0baee81",
        "deepnote_app_coordinates": {
          "h": 5,
          "w": 12,
          "x": 0,
          "y": 210
        },
        "deepnote_cell_type": "markdown",
        "id": "8rdWdmgqm9k3"
      }
    },
    {
      "cell_type": "code",
      "source": [
        "#Entre parentesis\n",
        "# nuestros base de datos\n",
        "# con dropna se pueden eliminar los valores nulls\n",
        "(\n",
        "    preprocess_penguins_df\n",
        "    .dropna()\n",
        ")\n",
        "\n",
        "# estos datos, sin valores nulls lo podemos asignar a otra variable\n",
        "processed_penguins_df = (\n",
        "    preprocess_penguins_df\n",
        "    .dropna()\n",
        ")\n",
        "\n",
        "# lo mostramos en pantalla\n",
        "processed_penguins_df"
      ],
      "metadata": {
        "tags": [],
        "cell_id": "d87a1490dc0b4ad6bb1f919a6405560d",
        "source_hash": "b623e53d",
        "output_cleared": true,
        "execution_start": 1653452678113,
        "execution_millis": 3349560,
        "deepnote_app_coordinates": {
          "h": 5,
          "w": 12,
          "x": 0,
          "y": 216
        },
        "deepnote_to_be_reexecuted": false,
        "deepnote_cell_type": "code",
        "id": "7cEG1RIHm9k4"
      },
      "outputs": [],
      "execution_count": null
    },
    {
      "cell_type": "markdown",
      "source": [
        "# Conteos y proporciones"
      ],
      "metadata": {
        "tags": [],
        "cell_id": "7dc920f80c5e43cdb5540f8945a9db12",
        "deepnote_app_coordinates": {
          "h": 5,
          "w": 12,
          "x": 0,
          "y": 222
        },
        "deepnote_cell_type": "markdown",
        "id": "XIbSrSCFm9k5"
      }
    },
    {
      "cell_type": "markdown",
      "source": [
        "## Preludio: ¿Qué estadísticos describen el conjunto de datos?"
      ],
      "metadata": {
        "tags": [],
        "cell_id": "09c156a156114d0d91f6bc4498000b03",
        "deepnote_app_coordinates": {
          "h": 5,
          "w": 12,
          "x": 0,
          "y": 228
        },
        "deepnote_cell_type": "markdown",
        "id": "_sORuoIbm9k5"
      }
    },
    {
      "cell_type": "markdown",
      "source": [
        "### Todas las variables"
      ],
      "metadata": {
        "tags": [],
        "cell_id": "74ca6a2405a84d05aceedcca05f5ab98",
        "deepnote_app_coordinates": {
          "h": 5,
          "w": 12,
          "x": 0,
          "y": 234
        },
        "deepnote_cell_type": "markdown",
        "id": "KIw4yYhgm9lE"
      }
    },
    {
      "cell_type": "code",
      "source": [
        "#Que estadistico describen todas nuestras variables\n",
        "# usamos nuestro data set\n",
        "# usamos describe() para obtener varias formulas\n",
        "# usamos include all para que se incluya todo\n",
        "\n",
        "processed_penguins_df.describe(include=\"all\")\n"
      ],
      "metadata": {
        "tags": [],
        "cell_id": "6c32d486ffa0469a91ff88b71dbd7d79",
        "source_hash": "b623e53d",
        "output_cleared": true,
        "execution_start": 1653452678137,
        "execution_millis": 3349535,
        "deepnote_app_coordinates": {
          "h": 5,
          "w": 12,
          "x": 0,
          "y": 240
        },
        "deepnote_to_be_reexecuted": false,
        "deepnote_cell_type": "code",
        "id": "YgjVxHFYm9lF"
      },
      "outputs": [],
      "execution_count": null
    },
    {
      "cell_type": "markdown",
      "source": [
        "### Solo las numéricas"
      ],
      "metadata": {
        "tags": [],
        "cell_id": "d22e69eb34c448aa9d89b8d5239d6c2e",
        "deepnote_app_coordinates": {
          "h": 5,
          "w": 12,
          "x": 0,
          "y": 246
        },
        "deepnote_cell_type": "markdown",
        "id": "vQtsPZvCm9lF"
      }
    },
    {
      "cell_type": "code",
      "source": [
        "# analizamos las variables numericas\n",
        "# neustro data set processed_penguis_df\n",
        "# describe para que nos de el valor de ciertas formulas\n",
        "# include, para decirle que incluya cierto valores\n",
        "# np es la libreria numpy y number para que sean valores numericos.\n",
        "\n",
        "processed_penguins_df.describe(include=[np.number])"
      ],
      "metadata": {
        "tags": [],
        "cell_id": "e37ca15690ab4f13a54ca9fd1a04d0fd",
        "source_hash": "b623e53d",
        "output_cleared": true,
        "execution_start": 1653452678137,
        "execution_millis": 3349561,
        "deepnote_app_coordinates": {
          "h": 5,
          "w": 12,
          "x": 0,
          "y": 252
        },
        "deepnote_to_be_reexecuted": false,
        "deepnote_cell_type": "code",
        "id": "aFvsqXvZm9lF"
      },
      "outputs": [],
      "execution_count": null
    },
    {
      "cell_type": "markdown",
      "source": [
        "### Solo categóricas - 1"
      ],
      "metadata": {
        "tags": [],
        "cell_id": "1dcb319be65f4df7b9aea55cb9eebcbc",
        "deepnote_app_coordinates": {
          "h": 5,
          "w": 12,
          "x": 0,
          "y": 258
        },
        "deepnote_cell_type": "markdown",
        "id": "wwm9UUVhm9lG"
      }
    },
    {
      "cell_type": "code",
      "source": [
        "# analizamos las variables continuas o object\n",
        "# neustro data set processed_penguis_df\n",
        "# describe para que nos de el valor de ciertas formulas\n",
        "# include, para decirle que incluya cierto valores\n",
        "# np es la libreria numpy y number para que sean valores numericos.\n",
        "\n",
        "processed_penguins_df.describe(include=[object])"
      ],
      "metadata": {
        "tags": [],
        "cell_id": "558a19b4650c4c8c80a25fa64bdfab5a",
        "source_hash": "b623e53d",
        "output_cleared": true,
        "execution_start": 1653452678138,
        "execution_millis": 0,
        "deepnote_app_coordinates": {
          "h": 5,
          "w": 12,
          "x": 0,
          "y": 264
        },
        "deepnote_to_be_reexecuted": false,
        "deepnote_cell_type": "code",
        "id": "LDTGguOCm9lG"
      },
      "outputs": [],
      "execution_count": null
    },
    {
      "cell_type": "markdown",
      "source": [
        "### Solo categóricas - 2"
      ],
      "metadata": {
        "tags": [],
        "cell_id": "0c68e92ee5c34ef5884e5cc820c1c94d",
        "deepnote_app_coordinates": {
          "h": 5,
          "w": 12,
          "x": 0,
          "y": 270
        },
        "deepnote_cell_type": "markdown",
        "id": "S6QHwrnam9lG"
      }
    },
    {
      "cell_type": "code",
      "source": [
        "# para las categorias\n",
        "# pasamos nuestro dataset.\n",
        "# creamos un diccionario.\n",
        "\n",
        "(\n",
        "    processed_penguins_df\n",
        "    .astype({\n",
        "        \"species\": \"category\",\n",
        "        \"island\": \"category\",\n",
        "        \"sex\": \"category\",\n",
        "    })\n",
        "    .describe(include=\"category\")\n",
        ")\n",
        "\n"
      ],
      "metadata": {
        "tags": [],
        "cell_id": "50a9bd30fbf34eaf9a954a6c3e5feb02",
        "source_hash": "b623e53d",
        "output_cleared": true,
        "execution_start": 1653452678138,
        "execution_millis": 1,
        "deepnote_app_coordinates": {
          "h": 5,
          "w": 12,
          "x": 0,
          "y": 276
        },
        "deepnote_to_be_reexecuted": false,
        "deepnote_cell_type": "code",
        "id": "0rh4hz_qm9lH"
      },
      "outputs": [],
      "execution_count": null
    },
    {
      "cell_type": "markdown",
      "source": [
        "## ¿Cómo visualizar los conteos?"
      ],
      "metadata": {
        "tags": [],
        "cell_id": "9e035416bc1d4424add1144d5d333a40",
        "source_hash": "b623e53d",
        "execution_start": 1652847654830,
        "execution_millis": 0,
        "deepnote_app_coordinates": {
          "h": 5,
          "w": 12,
          "x": 0,
          "y": 282
        },
        "deepnote_to_be_reexecuted": false,
        "deepnote_cell_type": "markdown",
        "id": "Svgyi3n5m9lH"
      }
    },
    {
      "cell_type": "markdown",
      "source": [
        "### Pandas"
      ],
      "metadata": {
        "tags": [],
        "cell_id": "0ff8f32334064e8d9c07c4479be97e79",
        "deepnote_app_coordinates": {
          "h": 5,
          "w": 12,
          "x": 0,
          "y": 288
        },
        "deepnote_cell_type": "markdown",
        "id": "4KftDP2rm9lH"
      }
    },
    {
      "cell_type": "code",
      "source": [
        "# para visualizar nuestros datos\n",
        "# usamos nuestro data set\n",
        "# le damos la variable de specie\n",
        "# value_count para que los cuente\n",
        "#plot para la grafica\n",
        "#kind para el tipo de grafico\n",
        "(\n",
        "    processed_penguins_df\n",
        "    .species\n",
        "    .value_counts()\n",
        "    .plot(\n",
        "        kind=\"bar\"\n",
        "    )\n",
        ")"
      ],
      "metadata": {
        "tags": [],
        "cell_id": "7a1e3b20da6a4decab0ef1b2b8e20b30",
        "source_hash": "b623e53d",
        "output_cleared": true,
        "execution_start": 1653452678141,
        "execution_millis": 1,
        "deepnote_app_coordinates": {
          "h": 5,
          "w": 12,
          "x": 0,
          "y": 294
        },
        "deepnote_to_be_reexecuted": false,
        "deepnote_cell_type": "code",
        "id": "hycC-j0Bm9lI"
      },
      "outputs": [],
      "execution_count": null
    },
    {
      "cell_type": "code",
      "source": [
        "# para visualizar nuestros datos\n",
        "# usamos nuestro data set\n",
        "# le damos la variable de specie\n",
        "# value_count para que los cuente\n",
        "#plot para la grafica\n",
        "#kind para el tipo de grafico\n",
        "(\n",
        "    processed_penguins_df\n",
        "    .island\n",
        "    .value_counts()\n",
        "    .plot(\n",
        "        kind=\"bar\"\n",
        "    )\n",
        ")"
      ],
      "metadata": {
        "id": "QyTLTWsdgvTJ"
      },
      "execution_count": null,
      "outputs": []
    },
    {
      "cell_type": "code",
      "source": [
        "# para visualizar nuestros datos\n",
        "# usamos nuestro data set\n",
        "# le damos la variable de specie\n",
        "# value_count para que los cuente\n",
        "#plot para la grafica\n",
        "#kind para el tipo de grafico\n",
        "(\n",
        "    processed_penguins_df\n",
        "    .sex\n",
        "    .value_counts()\n",
        "    .plot(\n",
        "        kind=\"bar\"\n",
        "    )\n",
        ")"
      ],
      "metadata": {
        "id": "QNVFhgo9g2KK"
      },
      "execution_count": null,
      "outputs": []
    },
    {
      "cell_type": "markdown",
      "source": [
        "### Seaborn"
      ],
      "metadata": {
        "tags": [],
        "cell_id": "807055a719484b5d8c8f82f7f0527050",
        "deepnote_app_coordinates": {
          "h": 5,
          "w": 12,
          "x": 0,
          "y": 300
        },
        "deepnote_cell_type": "markdown",
        "id": "cvPYbQxPm9lI"
      }
    },
    {
      "cell_type": "code",
      "source": [
        "# Grafica con seabon\n",
        "# le damos la libreria sns, le damos el tipo con catplot\n",
        "# con data le damos el data frame\n",
        "# al eje x le damos la variable species\n",
        "# kind le damos el\n",
        "# con palette definimos los colores del grafico\n",
        "sns.catplot(\n",
        "    data=processed_penguins_df,\n",
        "    x=\"species\",\n",
        "    kind=\"count\",\n",
        "    palette=penguin_color\n",
        ")"
      ],
      "metadata": {
        "tags": [],
        "cell_id": "55309af69dd240199ff9e6f3716590a1",
        "source_hash": "b623e53d",
        "output_cleared": true,
        "execution_start": 1653452678144,
        "execution_millis": 4,
        "deepnote_app_coordinates": {
          "h": 5,
          "w": 12,
          "x": 0,
          "y": 306
        },
        "deepnote_to_be_reexecuted": false,
        "deepnote_cell_type": "code",
        "id": "_bgaeMBKm9lJ"
      },
      "outputs": [],
      "execution_count": null
    },
    {
      "cell_type": "code",
      "source": [
        "#otra manera de graficar\n",
        "# value count para que cuente los valores, entre parentesis los valores de una columna en especifico\n",
        "# rest index para que se reinicie el indice\n",
        "# usamso pipe para la visualizacion\n",
        "\n",
        "(\n",
        "    processed_penguins_df\n",
        "    .value_counts(\"species\", sort=True)\n",
        "    .reset_index(name=\"count\")\n",
        "    .pipe(\n",
        "        lambda df:(\n",
        "            sns.barplot(\n",
        "                data=df,\n",
        "                x=\"species\",\n",
        "                y=\"count\",\n",
        "                palette=penguin_color\n",
        "            )\n",
        "        )\n",
        "    )\n",
        ")"
      ],
      "metadata": {
        "tags": [],
        "cell_id": "2a00964a87ed4b338c49ed6e271f319c",
        "source_hash": "b623e53d",
        "output_cleared": true,
        "execution_start": 1653452678151,
        "execution_millis": 3349540,
        "deepnote_app_coordinates": {
          "h": 5,
          "w": 12,
          "x": 0,
          "y": 312
        },
        "deepnote_to_be_reexecuted": false,
        "deepnote_cell_type": "code",
        "id": "WZuq0IgOm9lJ"
      },
      "outputs": [],
      "execution_count": null
    },
    {
      "cell_type": "markdown",
      "source": [
        "### ¿Cómo visualizar las proporciones?"
      ],
      "metadata": {
        "tags": [],
        "cell_id": "1c4aa18377514319bf975963b659b93b",
        "deepnote_app_coordinates": {
          "h": 5,
          "w": 12,
          "x": 0,
          "y": 318
        },
        "deepnote_cell_type": "markdown",
        "id": "TyjEb1BZm9lK"
      }
    },
    {
      "cell_type": "code",
      "source": [
        "# usamos nuestros datos\n",
        "# usamos add.column para agregar una nueva columna\n",
        "# pipe para la visualizacion\n",
        "(\n",
        "    processed_penguins_df\n",
        "    .add_column(\"x\", \"\")\n",
        "    .pipe(\n",
        "        lambda df: (\n",
        "        sns.displot(\n",
        "            data=df,\n",
        "            x=\"x\",\n",
        "            hue=\"species\",\n",
        "            multiple =\"fill\"\n",
        "       )\n",
        "    )\n",
        "  )\n",
        ")"
      ],
      "metadata": {
        "tags": [],
        "cell_id": "b6b8f73162f8422ca84d7f746839a40e",
        "source_hash": "b623e53d",
        "output_cleared": true,
        "execution_start": 1653452678157,
        "execution_millis": 3349539,
        "deepnote_app_coordinates": {
          "h": 5,
          "w": 12,
          "x": 0,
          "y": 324
        },
        "deepnote_to_be_reexecuted": false,
        "deepnote_cell_type": "code",
        "id": "LSMFI0YFm9lM"
      },
      "outputs": [],
      "execution_count": null
    },
    {
      "cell_type": "code",
      "source": [
        "# usamos nuestros datos\n",
        "# usamos add.column para agregar una nueva columna\n",
        "# pipe para la visualizacion\n",
        "(\n",
        "    processed_penguins_df\n",
        "    .add_column(\"x\", \"\")\n",
        "    .pipe(\n",
        "        lambda df: (\n",
        "        sns.displot(\n",
        "            data=df,\n",
        "            x=\"x\",\n",
        "            hue=\"island\",\n",
        "            multiple =\"fill\"\n",
        "       )\n",
        "    )\n",
        "  )\n",
        ")"
      ],
      "metadata": {
        "id": "__wUrkHXhjMO"
      },
      "execution_count": null,
      "outputs": []
    },
    {
      "cell_type": "code",
      "source": [
        "# usamos nuestros datos\n",
        "# usamos add.column para agregar una nueva columna\n",
        "# pipe para la visualizacion\n",
        "(\n",
        "    processed_penguins_df\n",
        "    .add_column(\"x\", \"\")\n",
        "    .pipe(\n",
        "        lambda df: (\n",
        "        sns.displot(\n",
        "            data=df,\n",
        "            x=\"x\",\n",
        "            hue=\"sex\",\n",
        "            multiple =\"fill\"\n",
        "       )\n",
        "    )\n",
        "  )\n",
        ")"
      ],
      "metadata": {
        "id": "lUMQ-C0Jho7V"
      },
      "execution_count": null,
      "outputs": []
    },
    {
      "cell_type": "code",
      "source": [
        "#Isla y sexo explorar"
      ],
      "metadata": {
        "id": "JXi7_m2sbkH3"
      },
      "execution_count": null,
      "outputs": []
    },
    {
      "cell_type": "markdown",
      "source": [
        "# Medidas de tendencia central"
      ],
      "metadata": {
        "tags": [],
        "cell_id": "a8b3a31d38a74e15af1354895b7896e4",
        "deepnote_app_coordinates": {
          "h": 5,
          "w": 12,
          "x": 0,
          "y": 330
        },
        "deepnote_cell_type": "markdown",
        "id": "dULIicV8m9lM"
      }
    },
    {
      "cell_type": "markdown",
      "source": [
        "## Media o promedio"
      ],
      "metadata": {
        "tags": [],
        "cell_id": "003d3e5cfe064796aa85c210ad382669",
        "deepnote_app_coordinates": {
          "h": 5,
          "w": 12,
          "x": 0,
          "y": 0
        },
        "deepnote_cell_type": "markdown",
        "id": "6q-RmJ7Pm9lN"
      }
    },
    {
      "cell_type": "code",
      "source": [
        "# almacenamos el data frame en una variable mas sencilla\n",
        "data = processed_penguins_df\n"
      ],
      "metadata": {
        "id": "I2HgzyU4mAPT"
      },
      "execution_count": null,
      "outputs": []
    },
    {
      "cell_type": "code",
      "source": [
        "#media o promedio\n",
        "# usamos el data ser de data bill\n",
        "# le pasamos la variable o columna de bill_depeth\n",
        "# despues la funcion mean que es la media\n",
        "\n",
        "data.bill_depth_mm.mean()"
      ],
      "metadata": {
        "tags": [],
        "cell_id": "24d320507b8c430c9e95992d062e6a71",
        "source_hash": "b623e53d",
        "output_cleared": true,
        "execution_start": 1653452678192,
        "execution_millis": 0,
        "deepnote_app_coordinates": {
          "h": 5,
          "w": 12,
          "x": 0,
          "y": 336
        },
        "deepnote_to_be_reexecuted": false,
        "deepnote_cell_type": "code",
        "id": "IlmL9w0pm9lN"
      },
      "outputs": [],
      "execution_count": null
    },
    {
      "cell_type": "code",
      "source": [
        "#otra forma\n",
        "#usando numpy\n",
        "# entre los parentesis el data frame y la variable\n",
        "np.mean(data.bill_depth_mm)"
      ],
      "metadata": {
        "tags": [],
        "cell_id": "c4421ae33a024e4fb87236539a1e461b",
        "source_hash": "b623e53d",
        "output_cleared": false,
        "execution_start": 1653452678192,
        "execution_millis": 1,
        "deepnote_app_coordinates": {
          "h": 5,
          "w": 12,
          "x": 0,
          "y": 342
        },
        "deepnote_to_be_reexecuted": false,
        "deepnote_cell_type": "code",
        "id": "5_G7GDlBm9lO"
      },
      "outputs": [],
      "execution_count": null
    },
    {
      "cell_type": "code",
      "source": [
        "# tambien si lo queires hacer para todos tus variables\n",
        "data.mean()"
      ],
      "metadata": {
        "tags": [],
        "cell_id": "0785b5789fff444a8769b81a9c606987",
        "source_hash": "b623e53d",
        "output_cleared": true,
        "execution_start": 1653452678193,
        "execution_millis": 0,
        "deepnote_app_coordinates": {
          "h": 5,
          "w": 12,
          "x": 0,
          "y": 348
        },
        "deepnote_to_be_reexecuted": false,
        "deepnote_cell_type": "code",
        "id": "0QUZ_pv9m9lO"
      },
      "outputs": [],
      "execution_count": null
    },
    {
      "cell_type": "markdown",
      "source": [
        "## Mediana"
      ],
      "metadata": {
        "tags": [],
        "cell_id": "ed556c68f3a24769ac95b7639ade57ef",
        "deepnote_app_coordinates": {
          "h": 5,
          "w": 12,
          "x": 0,
          "y": 0
        },
        "deepnote_cell_type": "markdown",
        "id": "ap8n-MCKm9lO"
      }
    },
    {
      "cell_type": "code",
      "source": [
        "# mediana\n",
        "# escribimos nuestros datos\n",
        "# luego la funcion median()\n",
        "# entre los parentesis la variable que queremos saber su mediana\n",
        "\n",
        "data.median()"
      ],
      "metadata": {
        "tags": [],
        "cell_id": "936c12ab2b414927a1b4c5c59db24ee9",
        "source_hash": "b623e53d",
        "output_cleared": true,
        "execution_start": 1653452678194,
        "execution_millis": 3349527,
        "deepnote_app_coordinates": {
          "h": 5,
          "w": 12,
          "x": 0,
          "y": 354
        },
        "deepnote_to_be_reexecuted": false,
        "deepnote_cell_type": "code",
        "id": "PSGYSfQ7m9lP"
      },
      "outputs": [],
      "execution_count": null
    },
    {
      "cell_type": "markdown",
      "source": [
        "## Moda"
      ],
      "metadata": {
        "tags": [],
        "cell_id": "cfda86a22a2b44d383588d21443f47d2",
        "deepnote_app_coordinates": {
          "h": 5,
          "w": 12,
          "x": 0,
          "y": 0
        },
        "deepnote_cell_type": "markdown",
        "id": "grkqT6frm9lP"
      }
    },
    {
      "cell_type": "code",
      "source": [
        "# Moda\n",
        "# pasamos el data frame\n",
        "data.mode()"
      ],
      "metadata": {
        "tags": [],
        "cell_id": "93cd409cbb8748328f8b03780dcf624b",
        "source_hash": "b623e53d",
        "output_cleared": true,
        "execution_start": 1653452678199,
        "execution_millis": 3349528,
        "deepnote_app_coordinates": {
          "h": 5,
          "w": 12,
          "x": 0,
          "y": 360
        },
        "deepnote_to_be_reexecuted": false,
        "deepnote_cell_type": "code",
        "id": "xYshurGAm9lQ"
      },
      "outputs": [],
      "execution_count": null
    },
    {
      "cell_type": "code",
      "source": [
        "# tambien podemos usar describe que nos da mucha mas informacion acerca de los datos\n",
        "data.describe()"
      ],
      "metadata": {
        "tags": [],
        "cell_id": "d7e98a5f92fd488f936eeddcbc606bd6",
        "source_hash": "b623e53d",
        "output_cleared": true,
        "execution_start": 1653452678209,
        "execution_millis": 3349516,
        "deepnote_app_coordinates": {
          "h": 5,
          "w": 12,
          "x": 0,
          "y": 366
        },
        "deepnote_to_be_reexecuted": false,
        "deepnote_cell_type": "code",
        "id": "bAKRDGXzm9lQ"
      },
      "outputs": [],
      "execution_count": null
    },
    {
      "cell_type": "markdown",
      "source": [
        "# Medidas de dispersión"
      ],
      "metadata": {
        "tags": [],
        "cell_id": "246a07919f1a41d5a007bf2b369dc2c1",
        "deepnote_app_coordinates": {
          "h": 5,
          "w": 12,
          "x": 0,
          "y": 372
        },
        "deepnote_cell_type": "markdown",
        "id": "z_9Qn8Fgm9lQ"
      }
    },
    {
      "cell_type": "markdown",
      "source": [
        "## ¿Cuál es el valor máximo de las variables?"
      ],
      "metadata": {
        "tags": [],
        "cell_id": "3eed6cd063494e9683ae87209da62557",
        "deepnote_app_coordinates": {
          "h": 5,
          "w": 12,
          "x": 0,
          "y": 378
        },
        "deepnote_cell_type": "markdown",
        "id": "HpXd4DJum9lR"
      }
    },
    {
      "cell_type": "code",
      "source": [
        "#valor maximo con max\n",
        "max_data = data.max(numeric_only=True)"
      ],
      "metadata": {
        "tags": [],
        "cell_id": "bed2e679fb5d4ce3bd723d5929a21abc",
        "source_hash": "b623e53d",
        "output_cleared": true,
        "execution_start": 1653452678218,
        "execution_millis": 3349510,
        "deepnote_app_coordinates": {
          "h": 5,
          "w": 12,
          "x": 0,
          "y": 384
        },
        "deepnote_to_be_reexecuted": false,
        "deepnote_cell_type": "code",
        "id": "nPPpvkmUm9lR"
      },
      "outputs": [],
      "execution_count": null
    },
    {
      "cell_type": "code",
      "source": [
        "#valor minimo con min\n",
        "min_data = data.min(numeric_only=True)"
      ],
      "metadata": {
        "id": "H0GkgdS1ubm7"
      },
      "execution_count": null,
      "outputs": []
    },
    {
      "cell_type": "code",
      "source": [
        "#Para sacar el rango se debe restar el maximo y el minimo\n",
        "rango = max_data - min_data\n",
        "rango"
      ],
      "metadata": {
        "id": "RZp1kEOeukf0"
      },
      "execution_count": null,
      "outputs": []
    },
    {
      "cell_type": "markdown",
      "source": [
        "## ¿Cuál es el valor mínimo de las variables?"
      ],
      "metadata": {
        "tags": [],
        "cell_id": "82b15e3fe680483abda6ae90be0e949e",
        "deepnote_app_coordinates": {
          "h": 5,
          "w": 12,
          "x": 0,
          "y": 390
        },
        "deepnote_cell_type": "markdown",
        "id": "OdthsXJVm9lS"
      }
    },
    {
      "cell_type": "code",
      "source": [
        "#calcular la desviacion estandar\n",
        "# con std es la funcion para sacar la desviacion estandar\n",
        "data.min(numeric_only=True)"
      ],
      "metadata": {
        "tags": [],
        "cell_id": "0b240626b3d7496089596e49a5f285e9",
        "source_hash": "b623e53d",
        "output_cleared": true,
        "execution_start": 1653452678244,
        "execution_millis": 3349505,
        "deepnote_app_coordinates": {
          "h": 5,
          "w": 12,
          "x": 0,
          "y": 396
        },
        "deepnote_to_be_reexecuted": false,
        "deepnote_cell_type": "code",
        "id": "3jeaU4g8m9lS"
      },
      "outputs": [],
      "execution_count": null
    },
    {
      "cell_type": "markdown",
      "source": [
        "## ¿Cuál es el rango de las variables?"
      ],
      "metadata": {
        "tags": [],
        "cell_id": "9def189372574b3e80b63c65189d5ba3",
        "deepnote_app_coordinates": {
          "h": 5,
          "w": 12,
          "x": 0,
          "y": 402
        },
        "deepnote_cell_type": "markdown",
        "id": "3iV7Ytxym9lT"
      }
    },
    {
      "cell_type": "code",
      "source": [
        "data.max(numeric_only=True) - data.min(numeric_only=True)"
      ],
      "metadata": {
        "tags": [],
        "cell_id": "43da6fe788e04476b25bbceec80eb2ab",
        "source_hash": "b623e53d",
        "output_cleared": true,
        "execution_start": 1653452678245,
        "execution_millis": 3349494,
        "deepnote_app_coordinates": {
          "h": 5,
          "w": 12,
          "x": 0,
          "y": 408
        },
        "deepnote_to_be_reexecuted": false,
        "deepnote_cell_type": "code",
        "id": "uJa4ylRGm9lT"
      },
      "outputs": [],
      "execution_count": null
    },
    {
      "cell_type": "markdown",
      "source": [
        "## ¿Cuál es la desviación estándar de las variables?"
      ],
      "metadata": {
        "tags": [],
        "cell_id": "3f59a0f93459407388c33651d4030823",
        "deepnote_app_coordinates": {
          "h": 5,
          "w": 12,
          "x": 0,
          "y": 414
        },
        "deepnote_cell_type": "markdown",
        "id": "YyvfJbvdm9lT"
      }
    },
    {
      "cell_type": "code",
      "source": [
        "# con std calculamos la desviacion estandar\n",
        "data.std()"
      ],
      "metadata": {
        "tags": [],
        "cell_id": "38ed234d3311420295cc6da9cbfe7ae1",
        "source_hash": "b623e53d",
        "output_cleared": true,
        "execution_start": 1653452678245,
        "execution_millis": 3349492,
        "deepnote_app_coordinates": {
          "h": 5,
          "w": 12,
          "x": 0,
          "y": 420
        },
        "deepnote_to_be_reexecuted": false,
        "deepnote_cell_type": "code",
        "id": "UykHqcsGm9lU"
      },
      "outputs": [],
      "execution_count": null
    },
    {
      "cell_type": "code",
      "source": [
        "# le restamos a la media la desviacion estandar\n",
        "data.mean() - data.std()"
      ],
      "metadata": {
        "id": "4ZnXIQW4sQ9C"
      },
      "execution_count": null,
      "outputs": []
    },
    {
      "cell_type": "markdown",
      "source": [
        "## ¿Cuál es el rango intercuartílico?"
      ],
      "metadata": {
        "tags": [],
        "cell_id": "99c4de6b19754f4c9078f2ab2f9fc377",
        "deepnote_app_coordinates": {
          "h": 5,
          "w": 12,
          "x": 0,
          "y": 426
        },
        "deepnote_cell_type": "markdown",
        "id": "OqyAARxGm9lX"
      }
    },
    {
      "cell_type": "code",
      "source": [
        "#con quantile podemos ver el\n",
        "data.quantile(0.75)"
      ],
      "metadata": {
        "tags": [],
        "cell_id": "13565efbca97453b8d8922408fd07b41",
        "source_hash": "b623e53d",
        "output_cleared": true,
        "execution_start": 1653452678247,
        "execution_millis": 3349482,
        "deepnote_app_coordinates": {
          "h": 5,
          "w": 12,
          "x": 0,
          "y": 432
        },
        "deepnote_to_be_reexecuted": false,
        "deepnote_cell_type": "code",
        "id": "VfmXIiEQm9lX"
      },
      "outputs": [],
      "execution_count": null
    },
    {
      "cell_type": "code",
      "source": [
        "#rango intercuartilico\n",
        "data.quantile(0.75) - data.quantile(0.25)"
      ],
      "metadata": {
        "tags": [],
        "cell_id": "b6257ca12aa248c7a974ad4805033000",
        "source_hash": "b623e53d",
        "output_cleared": true,
        "execution_start": 1653452678256,
        "execution_millis": 3349496,
        "deepnote_app_coordinates": {
          "h": 5,
          "w": 12,
          "x": 0,
          "y": 438
        },
        "deepnote_to_be_reexecuted": false,
        "deepnote_cell_type": "code",
        "id": "44wKvIB8m9lY"
      },
      "outputs": [],
      "execution_count": null
    },
    {
      "cell_type": "code",
      "source": [
        "result = (\n",
        "    data\n",
        "    .quantile(q=[0.75, 0.50, 0.20])\n",
        "    .transpose()\n",
        "    .rename_axis(\"variable\")\n",
        "    .reset_index()\n",
        ")\n",
        "\n",
        "if 0.25 in result.columns and 0.75 in result.columns:\n",
        "    result = result.assign(iqr=lambda df: df[0.75] - df[0.25])\n",
        "\n",
        "result\n"
      ],
      "metadata": {
        "tags": [],
        "cell_id": "1ef60d1fe59c4fc5ab947f40923ac818",
        "source_hash": "b623e53d",
        "output_cleared": true,
        "execution_start": 1653452678258,
        "execution_millis": 3349486,
        "deepnote_app_coordinates": {
          "h": 5,
          "w": 12,
          "x": 0,
          "y": 444
        },
        "deepnote_to_be_reexecuted": false,
        "deepnote_cell_type": "code",
        "id": "a9GOu2f1m9lY"
      },
      "outputs": [],
      "execution_count": null
    },
    {
      "cell_type": "markdown",
      "source": [
        "## ¿Cómo puedo visualizar la distribución de una variable?"
      ],
      "metadata": {
        "tags": [],
        "cell_id": "5b1a66ecdd4e4a15b367f7e6ebba8dcb",
        "deepnote_app_coordinates": {
          "h": 5,
          "w": 12,
          "x": 0,
          "y": 450
        },
        "deepnote_cell_type": "markdown",
        "id": "pOhl1g-em9lY"
      }
    },
    {
      "cell_type": "markdown",
      "source": [
        "### Histograma"
      ],
      "metadata": {
        "tags": [],
        "cell_id": "d5432540f1804e6988735cee0858e602",
        "deepnote_app_coordinates": {
          "h": 5,
          "w": 12,
          "x": 0,
          "y": 456
        },
        "deepnote_cell_type": "markdown",
        "id": "AG2_8IDbm9lY"
      }
    },
    {
      "cell_type": "code",
      "source": [
        "sns.histplot(\n",
        "    data=data,\n",
        "    x=\"island\"\n",
        ")\n",
        "\n",
        "plt.axvline(\n",
        "    x=data.flipper_length_mm.mean(),\n",
        "    color=\"red\",\n",
        "    linestyle = \"dashed\",\n",
        "    linewidth=2\n",
        ")"
      ],
      "metadata": {
        "tags": [],
        "cell_id": "7988c770a7e44cfbb8bfb4aef2f513f5",
        "source_hash": "b623e53d",
        "owner_user_id": "bc32f83c-a807-4a78-8769-dff22df5fe36",
        "output_cleared": true,
        "execution_start": 1653452678283,
        "execution_millis": 3349472,
        "deepnote_app_coordinates": {
          "h": 5,
          "w": 12,
          "x": 0,
          "y": 462
        },
        "deepnote_to_be_reexecuted": false,
        "deepnote_cell_type": "code",
        "id": "djm6UC6Im9lZ"
      },
      "outputs": [],
      "execution_count": null
    },
    {
      "cell_type": "code",
      "source": [
        "sns.histplot(\n",
        "    data=data,\n",
        "    x=\"flipper_length_mm\"\n",
        ")\n",
        "\n",
        "plt.axvline(\n",
        "    x=data.flipper_length_mm.mean(),\n",
        "    color=\"red\",\n",
        "    linestyle = \"dashed\",\n",
        "    linewidth=2\n",
        ")"
      ],
      "metadata": {
        "id": "rYNccBOU-Y2Z"
      },
      "execution_count": null,
      "outputs": []
    },
    {
      "cell_type": "markdown",
      "source": [
        "### Diagrama de caja / boxplot"
      ],
      "metadata": {
        "tags": [],
        "cell_id": "3b2ce12854654a489c11b5b7d22f2f0b",
        "deepnote_app_coordinates": {
          "h": 5,
          "w": 12,
          "x": 0,
          "y": 468
        },
        "deepnote_cell_type": "markdown",
        "id": "ElQKrQmcm9lZ"
      }
    },
    {
      "cell_type": "code",
      "source": [
        "sns.boxplot(\n",
        "    data=data,\n",
        "     x=\"flipper_length_mm\"\n",
        ")"
      ],
      "metadata": {
        "tags": [],
        "cell_id": "c2d3e44cc9214943b2b286a7cf23ca9a",
        "source_hash": "b623e53d",
        "output_cleared": true,
        "execution_start": 1653452678284,
        "execution_millis": 3349464,
        "deepnote_app_coordinates": {
          "h": 5,
          "w": 12,
          "x": 0,
          "y": 474
        },
        "deepnote_to_be_reexecuted": false,
        "deepnote_cell_type": "code",
        "id": "Zp07Hoa3m9la"
      },
      "outputs": [],
      "execution_count": null
    },
    {
      "cell_type": "markdown",
      "source": [
        "### Limitaciones"
      ],
      "metadata": {
        "tags": [],
        "cell_id": "a2ed89e74fc545668c33310b35dee276",
        "deepnote_app_coordinates": {
          "h": 5,
          "w": 12,
          "x": 0,
          "y": 480
        },
        "deepnote_cell_type": "markdown",
        "id": "_ymgJwyqm9lb"
      }
    },
    {
      "cell_type": "code",
      "source": [
        "def freedman_diaconis_bindwidth(x: pd.Series) -> float:\n",
        "    \"\"\"Find optimal bindwidth using Freedman-Diaconis rule.\"\"\"\n",
        "\n",
        "    IQR = x.quantile(0.75) - x.quantile(0.25)\n",
        "    N = x.size\n",
        "\n",
        "    return 2 * IQR / N ** (1 / 3)"
      ],
      "metadata": {
        "tags": [],
        "cell_id": "6491d031d2074f78b6444fe9a5c55223",
        "source_hash": "be49812f",
        "output_cleared": true,
        "execution_start": 1653452678284,
        "execution_millis": 3349452,
        "deepnote_app_coordinates": {
          "h": 5,
          "w": 12,
          "x": 0,
          "y": 486
        },
        "deepnote_to_be_reexecuted": false,
        "deepnote_cell_type": "code",
        "id": "r-QUZVtBm9ld"
      },
      "outputs": [],
      "execution_count": null
    },
    {
      "cell_type": "code",
      "source": [],
      "metadata": {
        "tags": [],
        "cell_id": "b3293ebac72e431c9a38f064ea05e2ce",
        "source_hash": "b623e53d",
        "output_cleared": true,
        "execution_start": 1653452678286,
        "execution_millis": 3349449,
        "deepnote_app_coordinates": {
          "h": 5,
          "w": 12,
          "x": 0,
          "y": 492
        },
        "deepnote_to_be_reexecuted": false,
        "deepnote_cell_type": "code",
        "id": "TzHoT3gmm9ld"
      },
      "outputs": [],
      "execution_count": null
    },
    {
      "cell_type": "markdown",
      "source": [
        "# Distribuciones: PMFs, CDFs y PDFs"
      ],
      "metadata": {
        "tags": [],
        "cell_id": "c82a0e024c96412e80044ea11bd7c686",
        "source_hash": "b623e53d",
        "execution_start": 1652922403499,
        "deepnote_app_coordinates": {
          "h": 5,
          "w": 12,
          "x": 0,
          "y": 498
        },
        "deepnote_to_be_reexecuted": false,
        "deepnote_cell_type": "markdown",
        "id": "A428NZvXm9le"
      }
    },
    {
      "cell_type": "markdown",
      "source": [
        "## Funciones de probabilidad de masas (PMFs)"
      ],
      "metadata": {
        "tags": [],
        "cell_id": "82afed51065447488c8d9bf472b37146",
        "deepnote_app_coordinates": {
          "h": 5,
          "w": 12,
          "x": 0,
          "y": 504
        },
        "deepnote_cell_type": "markdown",
        "id": "8eLue4hEm9lf"
      }
    },
    {
      "cell_type": "markdown",
      "source": [
        "### Utilizando `seaborn`"
      ],
      "metadata": {
        "tags": [],
        "cell_id": "8fc031c41b164e548d6a246cd17c8ca4",
        "deepnote_app_coordinates": {
          "h": 5,
          "w": 12,
          "x": 0,
          "y": 510
        },
        "deepnote_cell_type": "markdown",
        "id": "PjF_5wHWm9lf"
      }
    },
    {
      "cell_type": "code",
      "source": [
        "# usamos un histograma\n",
        "# usamos la libreria sns\n",
        "# la funcion histplot para que nos muestre el grafico\n",
        "# le especificamos el data frame\n",
        "# le damos el valor del eje x con una variable del data frame\n",
        "# binwidth para el grueso de las barras\n",
        "#\n",
        "sns.histplot(\n",
        "    data=data,\n",
        "        x=\"flipper_length_mm\",\n",
        "        binwidth = 1,\n",
        "        stat = \"probability\"\n",
        "    )"
      ],
      "metadata": {
        "tags": [],
        "cell_id": "5504552a07e04a96b3b78123fabf3605",
        "source_hash": "b623e53d",
        "output_cleared": true,
        "execution_start": 1653452678291,
        "execution_millis": 3349447,
        "deepnote_app_coordinates": {
          "h": 5,
          "w": 12,
          "x": 0,
          "y": 516
        },
        "deepnote_to_be_reexecuted": false,
        "deepnote_cell_type": "code",
        "id": "swYRgqtwm9lf"
      },
      "outputs": [],
      "execution_count": null
    },
    {
      "cell_type": "markdown",
      "source": [
        "### Utilizando `empiricaldist`"
      ],
      "metadata": {
        "tags": [],
        "cell_id": "0480a6daafdc4870b1a25ff578e87b42",
        "deepnote_app_coordinates": {
          "h": 5,
          "w": 12,
          "x": 0,
          "y": 522
        },
        "deepnote_cell_type": "markdown",
        "id": "CNy0t4z7m9lg"
      }
    },
    {
      "cell_type": "code",
      "source": [
        "#almacenamos en una variable el data set de las alas de los penguinos\n",
        "pmf_flipper = empiricaldist.Pmf.from_seq(\n",
        "    data.flipper_length_mm,\n",
        "    normalize=True\n",
        ")"
      ],
      "metadata": {
        "tags": [],
        "cell_id": "07362a8ca35648719d757ffd2e60cc39",
        "source_hash": "b623e53d",
        "output_cleared": true,
        "execution_start": 1653452678317,
        "execution_millis": 3349436,
        "deepnote_app_coordinates": {
          "h": 5,
          "w": 12,
          "x": 0,
          "y": 528
        },
        "deepnote_to_be_reexecuted": false,
        "deepnote_cell_type": "code",
        "id": "dL7iOyTom9lg"
      },
      "outputs": [],
      "execution_count": null
    },
    {
      "cell_type": "code",
      "source": [
        "pmf_flipper.bar()"
      ],
      "metadata": {
        "tags": [],
        "cell_id": "177d9738ca7a4d269e284f7386653c60",
        "source_hash": "b623e53d",
        "output_cleared": true,
        "execution_start": 1653452678318,
        "execution_millis": 3349455,
        "deepnote_app_coordinates": {
          "h": 5,
          "w": 12,
          "x": 0,
          "y": 534
        },
        "deepnote_to_be_reexecuted": false,
        "deepnote_cell_type": "code",
        "id": "_rGy0eQqm9lh"
      },
      "outputs": [],
      "execution_count": null
    },
    {
      "cell_type": "code",
      "source": [
        "# le decimos que de cuanto es la probabilidad de encontrar\n",
        "pmf_flipper(10.0)"
      ],
      "metadata": {
        "tags": [],
        "cell_id": "bb4694e400764910a43fa831bbfc2332",
        "source_hash": "b623e53d",
        "output_cleared": true,
        "execution_start": 1653452678319,
        "execution_millis": 3349416,
        "deepnote_app_coordinates": {
          "h": 5,
          "w": 12,
          "x": 0,
          "y": 540
        },
        "deepnote_to_be_reexecuted": false,
        "deepnote_cell_type": "code",
        "id": "iHlyUovNm9lh"
      },
      "outputs": [],
      "execution_count": null
    },
    {
      "cell_type": "code",
      "source": [
        "data.flipper_length_mm.max()"
      ],
      "metadata": {
        "tags": [],
        "cell_id": "ef904da11ed2497b8513894d5ebfb209",
        "source_hash": "b623e53d",
        "output_cleared": true,
        "execution_start": 1653452678319,
        "execution_millis": 3349414,
        "deepnote_app_coordinates": {
          "h": 5,
          "w": 12,
          "x": 0,
          "y": 546
        },
        "deepnote_to_be_reexecuted": false,
        "deepnote_cell_type": "code",
        "id": "Af2l7NA0m9lh"
      },
      "outputs": [],
      "execution_count": null
    },
    {
      "cell_type": "markdown",
      "source": [
        "## Funciones empirícas de probabilidad acumulada (ECDFs)"
      ],
      "metadata": {
        "tags": [],
        "cell_id": "03f1ed29895c4e16b095e08d7a34de5b",
        "deepnote_app_coordinates": {
          "h": 5,
          "w": 12,
          "x": 0,
          "y": 552
        },
        "deepnote_cell_type": "markdown",
        "id": "q59-uw21m9lh"
      }
    },
    {
      "cell_type": "markdown",
      "source": [
        "### Utilizando `seaborn`"
      ],
      "metadata": {
        "tags": [],
        "cell_id": "997896e2b1774c4493563060876e8113",
        "deepnote_app_coordinates": {
          "h": 5,
          "w": 12,
          "x": 0,
          "y": 558
        },
        "deepnote_cell_type": "markdown",
        "id": "5agpptIRm9li"
      }
    },
    {
      "cell_type": "code",
      "source": [
        "sns.ecdfplot(\n",
        "    data=data,\n",
        "    x=\"flipper_length_mm\"\n",
        ")"
      ],
      "metadata": {
        "tags": [],
        "cell_id": "2157c241dff3423ebe2129803b606bac",
        "source_hash": "b623e53d",
        "output_cleared": true,
        "execution_start": 1653452678324,
        "execution_millis": 3349413,
        "deepnote_app_coordinates": {
          "h": 5,
          "w": 12,
          "x": 0,
          "y": 564
        },
        "deepnote_to_be_reexecuted": false,
        "deepnote_cell_type": "code",
        "id": "DeMvov2cm9li"
      },
      "outputs": [],
      "execution_count": null
    },
    {
      "cell_type": "markdown",
      "source": [
        "### Utilizando `empiricaldist`"
      ],
      "metadata": {
        "tags": [],
        "cell_id": "5f229a69e0164ce89dc7d00f223a8920",
        "deepnote_app_coordinates": {
          "h": 5,
          "w": 12,
          "x": 0,
          "y": 570
        },
        "deepnote_cell_type": "markdown",
        "id": "2eeyjD64m9li"
      }
    },
    {
      "cell_type": "code",
      "source": [
        "cdf_flipper = empiricaldist.Cdf.from_seq(\n",
        "    data.flipper_length_mm,\n",
        "    normalize = True\n",
        ")"
      ],
      "metadata": {
        "tags": [],
        "cell_id": "ce62c0cf8f3644a0afdc89dcd2f1add4",
        "source_hash": "b623e53d",
        "output_cleared": true,
        "execution_start": 1653452678328,
        "execution_millis": 3349412,
        "deepnote_app_coordinates": {
          "h": 5,
          "w": 12,
          "x": 0,
          "y": 576
        },
        "deepnote_to_be_reexecuted": false,
        "deepnote_cell_type": "code",
        "id": "WSHyE5jim9lj"
      },
      "outputs": [],
      "execution_count": null
    },
    {
      "cell_type": "code",
      "source": [
        "#lo graficamos\n",
        "cdf_flipper.plot"
      ],
      "metadata": {
        "tags": [],
        "cell_id": "888d1e3661864b3bbaf0f2a6e96aded1",
        "source_hash": "b623e53d",
        "output_cleared": true,
        "execution_start": 1653452678354,
        "execution_millis": 3349413,
        "deepnote_app_coordinates": {
          "h": 5,
          "w": 12,
          "x": 0,
          "y": 582
        },
        "deepnote_to_be_reexecuted": false,
        "deepnote_cell_type": "code",
        "id": "NZjDnkflm9lj"
      },
      "outputs": [],
      "execution_count": null
    },
    {
      "cell_type": "code",
      "source": [
        "cdf_flipper.plot()\n",
        "q = 200\n",
        "p = cdf_flipper.forward(q)\n",
        "print(q, p)\n",
        "plt.plot(q, p, \"ro\")"
      ],
      "metadata": {
        "tags": [],
        "cell_id": "806e7986680e4e5fa77d82d7f6fd12e9",
        "source_hash": "b623e53d",
        "output_cleared": true,
        "execution_start": 1653452678355,
        "execution_millis": 3349402,
        "deepnote_app_coordinates": {
          "h": 5,
          "w": 12,
          "x": 0,
          "y": 588
        },
        "deepnote_to_be_reexecuted": false,
        "deepnote_cell_type": "code",
        "id": "kwAacldYm9lj"
      },
      "outputs": [],
      "execution_count": null
    },
    {
      "cell_type": "markdown",
      "source": [
        "### Comparando distribuciones"
      ],
      "metadata": {
        "tags": [],
        "cell_id": "bea240be76e442778b291f8402e60c37",
        "deepnote_app_coordinates": {
          "h": 5,
          "w": 12,
          "x": 0,
          "y": 594
        },
        "deepnote_cell_type": "markdown",
        "id": "R5Zhnfgfm9lk"
      }
    },
    {
      "cell_type": "code",
      "source": [
        "sns.ecdfplot(\n",
        "    data = data,\n",
        "    x = \"flipper_length_mm\",\n",
        "    hue=\"species\",\n",
        "    palette=penguin_color\n",
        ")"
      ],
      "metadata": {
        "tags": [],
        "cell_id": "88b831f612ac4fd0855fbb1417af5aab",
        "source_hash": "b623e53d",
        "output_cleared": true,
        "execution_start": 1653452678356,
        "execution_millis": 3349400,
        "deepnote_app_coordinates": {
          "h": 5,
          "w": 12,
          "x": 0,
          "y": 600
        },
        "deepnote_to_be_reexecuted": false,
        "deepnote_cell_type": "code",
        "id": "Z9wGIjyDm9lk"
      },
      "outputs": [],
      "execution_count": null
    },
    {
      "cell_type": "markdown",
      "source": [
        "## Funciones de densidad de probabilidad"
      ],
      "metadata": {
        "tags": [],
        "cell_id": "a3dd2df93e2540d3acf00a0277975965",
        "deepnote_app_coordinates": {
          "h": 5,
          "w": 12,
          "x": 0,
          "y": 606
        },
        "deepnote_cell_type": "markdown",
        "id": "OcR_1D5lm9lk"
      }
    },
    {
      "cell_type": "code",
      "source": [
        "# usamos la libreria sns\n",
        "# le pasamos nuestros datos\n",
        "# Le pasamos nuestra variable\n",
        "# con bn_method modificamos el parametros\n",
        "sns.kdeplot(\n",
        "    data = data,\n",
        "     x = \"flipper_length_mm\",\n",
        "     bw_method = 0.1\n",
        ")"
      ],
      "metadata": {
        "tags": [],
        "cell_id": "e991e3d3a3cc431bad4e9dab3fc6b5dc",
        "source_hash": "b623e53d",
        "output_cleared": true,
        "execution_start": 1653452678358,
        "execution_millis": 3349397,
        "deepnote_app_coordinates": {
          "h": 5,
          "w": 12,
          "x": 0,
          "y": 612
        },
        "deepnote_to_be_reexecuted": false,
        "deepnote_cell_type": "code",
        "id": "FXF-gV7Om9ll"
      },
      "outputs": [],
      "execution_count": null
    },
    {
      "cell_type": "code",
      "source": [
        "# comparamos otras distribuciones\n",
        "stats = data.body_mass_g.describe()\n",
        "stats"
      ],
      "metadata": {
        "tags": [],
        "cell_id": "bab232e2271749cc8dd34ddf772f896f",
        "source_hash": "b623e53d",
        "output_cleared": true,
        "execution_start": 1653452678364,
        "execution_millis": 3349358,
        "deepnote_app_coordinates": {
          "h": 5,
          "w": 12,
          "x": 0,
          "y": 618
        },
        "deepnote_to_be_reexecuted": false,
        "deepnote_cell_type": "code",
        "id": "dhYtEGh2m9ll"
      },
      "outputs": [],
      "execution_count": null
    },
    {
      "cell_type": "code",
      "source": [
        "xs = np.linspace(stats[\"min\"], stats[\"max\"])\n",
        "ys = scipy.stats.norm(stats[\"mean\"], stats[\"std\"]).cdf(xs)\n",
        "xs\n",
        "plt.plot(xs, ys, color=\"black\", linestyle=\"dashed\")\n",
        "empiricaldist.Cdf.from_seq(\n",
        "    data.body_mass_g,\n",
        "    normalize=True\n",
        ").plot()"
      ],
      "metadata": {
        "tags": [],
        "cell_id": "d5a49cb1435e47f7ae19d0a8b65a4e20",
        "source_hash": "b623e53d",
        "output_cleared": true,
        "execution_start": 1653452678402,
        "execution_millis": 3349359,
        "deepnote_app_coordinates": {
          "h": 5,
          "w": 12,
          "x": 0,
          "y": 624
        },
        "deepnote_to_be_reexecuted": false,
        "deepnote_cell_type": "code",
        "id": "kGBNhHEBm9ll"
      },
      "outputs": [],
      "execution_count": null
    },
    {
      "cell_type": "code",
      "source": [
        "xs = np.linspace(stats[\"min\"], stats[\"max\"])\n",
        "ys = scipy.stats.norm(stats[\"mean\"], stats[\"std\"]).pdf(xs)\n",
        "xs\n",
        "plt.plot(xs, ys, color=\"black\", linestyle=\"dashed\")\n",
        "\n",
        "sns.kdeplot(\n",
        "    data=data,\n",
        "    x=\"body_mass_g\"\n",
        ")"
      ],
      "metadata": {
        "tags": [],
        "cell_id": "5d7741fe4f094db7bf3aab7d310a8e55",
        "source_hash": "b623e53d",
        "output_cleared": true,
        "execution_start": 1653452678403,
        "execution_millis": 3349387,
        "deepnote_app_coordinates": {
          "h": 5,
          "w": 12,
          "x": 0,
          "y": 630
        },
        "deepnote_to_be_reexecuted": false,
        "deepnote_cell_type": "code",
        "id": "UcC_nWGcm9ll"
      },
      "outputs": [],
      "execution_count": null
    },
    {
      "cell_type": "markdown",
      "source": [
        "# Ley de los Grandes Números y Teorema del Límite Central"
      ],
      "metadata": {
        "tags": [],
        "cell_id": "b7199961bb094aa09a850319e0139be8",
        "source_hash": "b623e53d",
        "execution_start": 1652931450246,
        "execution_millis": 9,
        "deepnote_app_coordinates": {
          "h": 5,
          "w": 12,
          "x": 0,
          "y": 636
        },
        "deepnote_to_be_reexecuted": false,
        "deepnote_cell_type": "markdown",
        "id": "B_gXsgIMm9lm"
      }
    },
    {
      "cell_type": "markdown",
      "source": [
        "## Ley de los Grandes Números"
      ],
      "metadata": {
        "tags": [],
        "cell_id": "98b6957d774844919005798442afd152",
        "deepnote_app_coordinates": {
          "h": 5,
          "w": 12,
          "x": 0,
          "y": 642
        },
        "deepnote_cell_type": "markdown",
        "id": "BK1rG_yJm9lm"
      }
    },
    {
      "cell_type": "code",
      "source": [
        "# creamos una variable con la libreria empiricadist\n",
        "dice = empiricaldist.Pmf.from_seq([1, 2, 3, 4, 5, 6])\n",
        "dice.bar()"
      ],
      "metadata": {
        "tags": [],
        "cell_id": "fb6881c280494a5f86ad5ccc474bd62d",
        "source_hash": "b623e53d",
        "output_cleared": true,
        "execution_start": 1653452678404,
        "execution_millis": 3349365,
        "deepnote_app_coordinates": {
          "h": 5,
          "w": 12,
          "x": 0,
          "y": 648
        },
        "deepnote_to_be_reexecuted": false,
        "deepnote_cell_type": "code",
        "id": "9EdiFQ-3m9ln"
      },
      "outputs": [],
      "execution_count": null
    },
    {
      "cell_type": "code",
      "source": [
        "for sample_size in (1e1, 1e2, 1e3, 1e4):\n",
        "\n",
        "  sample_size = int(sample_size)\n",
        "  values = dice.sample(sample_size)\n",
        "  sample_pmf = empiricaldist.Pmf.from_seq(values)\n",
        "  plt.figure(figsize=(5, 5))\n",
        "  sample_pmf.bar()\n",
        "  plt.ylim([0, 0.50])\n",
        "  plt.axhline(y=1/6, color=\"red\", linestyle=\"dashed\")\n",
        "  plt.title(f\"Simple size: {sample_size}\" )"
      ],
      "metadata": {
        "tags": [],
        "cell_id": "1aa30bd0c15849edb885969a6a1d073a",
        "source_hash": "b623e53d",
        "output_cleared": true,
        "execution_start": 1653452678413,
        "execution_millis": 3349359,
        "deepnote_app_coordinates": {
          "h": 5,
          "w": 12,
          "x": 0,
          "y": 654
        },
        "deepnote_to_be_reexecuted": false,
        "deepnote_cell_type": "code",
        "id": "oszAgaIHm9ln"
      },
      "outputs": [],
      "execution_count": null
    },
    {
      "cell_type": "markdown",
      "source": [
        "## Teorema del Límite Central"
      ],
      "metadata": {
        "tags": [],
        "cell_id": "836fd1234b384ac18287a5330a8e6500",
        "deepnote_app_coordinates": {
          "h": 5,
          "w": 12,
          "x": 0,
          "y": 660
        },
        "deepnote_cell_type": "markdown",
        "id": "-GyZTtKjm9lo"
      }
    },
    {
      "cell_type": "code",
      "source": [
        "data.sex.value_counts(normalize=True)"
      ],
      "metadata": {
        "tags": [],
        "cell_id": "3de467bae7ae4f63aa5bd38c9e27a880",
        "source_hash": "b623e53d",
        "output_cleared": true,
        "execution_start": 1653452678418,
        "execution_millis": 3349356,
        "deepnote_app_coordinates": {
          "h": 5,
          "w": 12,
          "x": 0,
          "y": 666
        },
        "deepnote_to_be_reexecuted": false,
        "deepnote_cell_type": "code",
        "id": "AhGy09bgm9lo"
      },
      "outputs": [],
      "execution_count": null
    },
    {
      "cell_type": "code",
      "source": [
        "sex_numeric = processed_penguins_df.sex.replace([\"male\", \"female\"], [1, 0])\n",
        "sex_numeric"
      ],
      "metadata": {
        "tags": [],
        "cell_id": "20afa3a0acc343a0824791f75615e121",
        "source_hash": "b623e53d",
        "output_cleared": true,
        "execution_start": 1653452678449,
        "execution_millis": 3349352,
        "deepnote_app_coordinates": {
          "h": 5,
          "w": 12,
          "x": 0,
          "y": 672
        },
        "deepnote_to_be_reexecuted": false,
        "deepnote_cell_type": "code",
        "id": "SynyxoYXm9lp"
      },
      "outputs": [],
      "execution_count": null
    },
    {
      "cell_type": "markdown",
      "source": [
        "# Estableciendo relaciones: Gráfica de puntos"
      ],
      "metadata": {
        "tags": [],
        "cell_id": "98668db7d7f24f0ba577634da409dc45",
        "deepnote_app_coordinates": {
          "h": 5,
          "w": 12,
          "x": 0,
          "y": 702
        },
        "deepnote_cell_type": "markdown",
        "id": "Cy-J1lmMm9lr"
      }
    },
    {
      "cell_type": "code",
      "source": [
        "# usamos la libreria sns\n",
        "# La funcion scatterplot\n",
        "# entre los parentesis en data el data frame\n",
        "# El eje x con la variable bill leght mm\n",
        "# Eje y la variable bill depht\n",
        "# alpha para que alcanze el color completo solo si tiene dos valores en el mismo lugar\n",
        "# s, s es size para el tamaño de los puntos\n",
        "\n",
        "sns.scatterplot(\n",
        "    data=data,\n",
        "    x=\"bill_length_mm\",\n",
        "    y = \"bill_depth_mm\",\n",
        "    alpha=1/2,\n",
        "    s = 100\n",
        ")"
      ],
      "metadata": {
        "tags": [],
        "cell_id": "bf8b85417a3a4cbab5f9d1dbaad8092c",
        "source_hash": "b623e53d",
        "output_cleared": true,
        "execution_start": 1653452678481,
        "execution_millis": 3349310,
        "deepnote_app_coordinates": {
          "h": 5,
          "w": 12,
          "x": 0,
          "y": 708
        },
        "deepnote_to_be_reexecuted": false,
        "deepnote_cell_type": "code",
        "id": "OX8yp49Wm9ls"
      },
      "outputs": [],
      "execution_count": null
    },
    {
      "cell_type": "code",
      "source": [
        "# visualizacion 2d\n",
        "# libreria, funcion, entre parentesis datos y valores de los ejes\n",
        "# rug para crear unos margenes en los ejes\n",
        "# kind para decirle el tipo de vis, en este caso kde\n",
        "sns.displot(\n",
        "    data=data,\n",
        "    x=\"bill_length_mm\",\n",
        "    y = \"bill_depth_mm\",\n",
        "    rug = True,\n",
        "    #kind = \"kde\"\n",
        ")"
      ],
      "metadata": {
        "tags": [],
        "cell_id": "765e8bc25a514c8480c78584fed8e94f",
        "source_hash": "b623e53d",
        "output_cleared": true,
        "execution_start": 1653452678481,
        "execution_millis": 3349306,
        "deepnote_app_coordinates": {
          "h": 5,
          "w": 12,
          "x": 0,
          "y": 714
        },
        "deepnote_to_be_reexecuted": false,
        "deepnote_cell_type": "code",
        "id": "vaP2-OvQm9ls"
      },
      "outputs": [],
      "execution_count": null
    },
    {
      "cell_type": "code",
      "source": [
        "sns.jointplot(\n",
        "    data=data,\n",
        "    x=\"bill_length_mm\",\n",
        "    y = \"bill_depth_mm\",\n",
        ")"
      ],
      "metadata": {
        "tags": [],
        "cell_id": "8679fdb9b4034c3ebdccc5c1aa29f502",
        "source_hash": "b623e53d",
        "output_cleared": true,
        "execution_start": 1653452678486,
        "execution_millis": 3349305,
        "deepnote_app_coordinates": {
          "h": 5,
          "w": 12,
          "x": 0,
          "y": 720
        },
        "deepnote_to_be_reexecuted": false,
        "deepnote_cell_type": "code",
        "id": "fyjralVSm9ls"
      },
      "outputs": [],
      "execution_count": null
    },
    {
      "cell_type": "markdown",
      "source": [
        "# Estableciendo relaciones: Gráficos de violín y boxplots"
      ],
      "metadata": {
        "tags": [],
        "cell_id": "33c4246bc05d4a92b5d81c8886d36517",
        "source_hash": "b623e53d",
        "execution_start": 1652938459772,
        "execution_millis": 0,
        "deepnote_app_coordinates": {
          "h": 5,
          "w": 12,
          "x": 0,
          "y": 732
        },
        "deepnote_to_be_reexecuted": false,
        "deepnote_cell_type": "markdown",
        "id": "Uk0JGlF8m9lt"
      }
    },
    {
      "cell_type": "code",
      "source": [
        "#libreria, funcion (datos, valores de los ejes)\n",
        "# hue es para agrupar\n",
        "# palette es para los colores\n",
        "sns.scatterplot(\n",
        "    data = data,\n",
        "    x = \"species\",\n",
        "    y = \"flipper_length_mm\",\n",
        "    hue = \"species\",\n",
        "    palette=penguin_color\n",
        "\n",
        ")"
      ],
      "metadata": {
        "tags": [],
        "cell_id": "556f209bf4e94ebeb5acf6f5812acaf5",
        "source_hash": "b623e53d",
        "output_cleared": true,
        "execution_start": 1653452678497,
        "execution_millis": 3349311,
        "deepnote_app_coordinates": {
          "h": 5,
          "w": 12,
          "x": 0,
          "y": 738
        },
        "deepnote_to_be_reexecuted": false,
        "deepnote_cell_type": "code",
        "id": "8bjoRGNkm9lt"
      },
      "outputs": [],
      "execution_count": null
    },
    {
      "cell_type": "code",
      "source": [
        "sns.stripplot(\n",
        "    data = data,\n",
        "    x = \"species\",\n",
        "    y = \"flipper_length_mm\",\n",
        "    palette=penguin_color\n",
        ")"
      ],
      "metadata": {
        "tags": [],
        "cell_id": "26021e9db86945e8a99db496e4faf970",
        "source_hash": "b623e53d",
        "output_cleared": true,
        "execution_start": 1653452678521,
        "execution_millis": 3349311,
        "deepnote_app_coordinates": {
          "h": 5,
          "w": 12,
          "x": 0,
          "y": 744
        },
        "deepnote_to_be_reexecuted": false,
        "deepnote_cell_type": "code",
        "id": "OfYE-PIHm9lu"
      },
      "outputs": [],
      "execution_count": null
    },
    {
      "cell_type": "code",
      "source": [
        "ax = sns.boxplot(\n",
        "    data = data,\n",
        "    x = \"flipper_length_mm\",\n",
        "    y = \"species\",\n",
        "    palette=penguin_color\n",
        ")\n",
        "\n",
        "ax = sns.stripplot(\n",
        "    data = data,\n",
        "    x = \"flipper_length_mm\",\n",
        "    y = \"species\",\n",
        "    hue = \"species\",\n",
        "    color = \".3\"\n",
        ")"
      ],
      "metadata": {
        "tags": [],
        "cell_id": "003f4d4279dc4df3abc2c3e3278d27ab",
        "source_hash": "b623e53d",
        "output_cleared": true,
        "execution_start": 1653452678521,
        "execution_millis": 3349336,
        "deepnote_app_coordinates": {
          "h": 5,
          "w": 12,
          "x": 0,
          "y": 750
        },
        "deepnote_to_be_reexecuted": false,
        "deepnote_cell_type": "code",
        "id": "JV3hTpXnm9lu"
      },
      "outputs": [],
      "execution_count": null
    },
    {
      "cell_type": "code",
      "source": [
        "ax = sns.violinplot(\n",
        "     data = data,\n",
        "    x = \"species\",\n",
        "    y = \"flipper_length_mm\",\n",
        "    palette=penguin_color\n",
        ")\n",
        "\n",
        "ax = sns.stripplot(\n",
        "    data = data,\n",
        "    x = \"species\",\n",
        "    y = \"flipper_length_mm\",\n",
        "    color = \"black\"\n",
        ")"
      ],
      "metadata": {
        "tags": [],
        "cell_id": "edff6d5062ad4e8883fde5bdbb8cbbdf",
        "source_hash": "b623e53d",
        "output_cleared": true,
        "execution_start": 1653452678522,
        "execution_millis": 3349332,
        "deepnote_app_coordinates": {
          "h": 5,
          "w": 12,
          "x": 0,
          "y": 756
        },
        "deepnote_to_be_reexecuted": false,
        "deepnote_cell_type": "code",
        "id": "P44gG5uim9lu"
      },
      "outputs": [],
      "execution_count": null
    },
    {
      "cell_type": "code",
      "source": [
        "sns.stripplot(\n",
        "    data = data,\n",
        "    x = \"species\",\n",
        "    y = \"flipper_length_mm\",\n",
        "    hue = \"species\",\n",
        "    palette=penguin_color\n",
        ")"
      ],
      "metadata": {
        "tags": [],
        "cell_id": "cfb25d00832a4f4abfa4558d9b2ea8ee",
        "source_hash": "b623e53d",
        "output_cleared": true,
        "execution_start": 1653452678523,
        "execution_millis": 3349271,
        "deepnote_app_coordinates": {
          "h": 5,
          "w": 12,
          "x": 0,
          "y": 762
        },
        "deepnote_to_be_reexecuted": false,
        "deepnote_cell_type": "code",
        "id": "CL98SKZLm9lu"
      },
      "outputs": [],
      "execution_count": null
    },
    {
      "cell_type": "code",
      "source": [
        "sns.boxplot(\n",
        "    data = data,\n",
        "    x = \"island\",\n",
        "    y = \"body_mass_g\",\n",
        "    hue = \"island\",\n",
        "    color = \"blue\"\n",
        "\n",
        ")"
      ],
      "metadata": {
        "id": "eqq6weiXqC9B"
      },
      "execution_count": null,
      "outputs": []
    },
    {
      "cell_type": "markdown",
      "source": [
        "# Estableciendo relaciones: Matrices de correlación"
      ],
      "metadata": {
        "tags": [],
        "cell_id": "f3b509e08dbd487b8e50ee5fdee58d81",
        "source_hash": "b623e53d",
        "execution_start": 1652938459776,
        "deepnote_app_coordinates": {
          "h": 5,
          "w": 12,
          "x": 0,
          "y": 768
        },
        "deepnote_to_be_reexecuted": false,
        "deepnote_cell_type": "markdown",
        "id": "y9h_zUGom9lu"
      }
    },
    {
      "cell_type": "markdown",
      "source": [
        "## ¿Existe una correlación lineal entre alguna de nuestras variables?"
      ],
      "metadata": {
        "tags": [],
        "cell_id": "eed7ac10ea0343b5bb05ad7ec70148ec",
        "deepnote_app_coordinates": {
          "h": 5,
          "w": 12,
          "x": 0,
          "y": 774
        },
        "deepnote_cell_type": "markdown",
        "id": "AA7MCNKdm9lv"
      }
    },
    {
      "cell_type": "code",
      "source": [
        "#corr para mostrar los datos de relacion\n",
        "data.corr()"
      ],
      "metadata": {
        "tags": [],
        "cell_id": "3204523a1eb94b70b885f36947051c09",
        "source_hash": "b623e53d",
        "output_cleared": true,
        "execution_start": 1653452678531,
        "execution_millis": 3349269,
        "deepnote_app_coordinates": {
          "h": 5,
          "w": 12,
          "x": 0,
          "y": 780
        },
        "deepnote_to_be_reexecuted": false,
        "deepnote_cell_type": "code",
        "id": "AjJbHyxum9lv"
      },
      "outputs": [],
      "execution_count": null
    },
    {
      "cell_type": "markdown",
      "source": [
        "## ¿Cómo puedo visualizar los coeficientes de correlación?"
      ],
      "metadata": {
        "tags": [],
        "cell_id": "2f98c5b86997467a822fffdc45f36598",
        "deepnote_app_coordinates": {
          "h": 5,
          "w": 12,
          "x": 0,
          "y": 786
        },
        "deepnote_cell_type": "markdown",
        "id": "Au23MmH1m9lv"
      }
    },
    {
      "cell_type": "code",
      "source": [
        "#Con heatmap se puede crear un mata de calor y representar los datos\n",
        "sns.heatmap(\n",
        "    data=data.corr(),\n",
        "    cmap=sns.diverging_palette(20, 230, as_cmap=True),\n",
        "    center=0,\n",
        "    vmin=1,\n",
        "    vmax=1,\n",
        "    linewidths=0.5,\n",
        "    annot=True\n",
        ")"
      ],
      "metadata": {
        "tags": [],
        "cell_id": "6b7a90b7b20542948586220a69d4bd66",
        "source_hash": "b623e53d",
        "output_cleared": true,
        "execution_start": 1653452678537,
        "execution_millis": 3349265,
        "deepnote_app_coordinates": {
          "h": 5,
          "w": 12,
          "x": 0,
          "y": 792
        },
        "deepnote_to_be_reexecuted": false,
        "deepnote_cell_type": "code",
        "id": "byZpK30Qm9lw"
      },
      "outputs": [],
      "execution_count": null
    },
    {
      "cell_type": "code",
      "source": [
        "#Con heatmap se puede crear un mata de calor y representar los datos\n",
        "sns.clustermap(\n",
        "    data=data.corr(),\n",
        "    cmap=sns.diverging_palette(20, 230, as_cmap=True),\n",
        "    center=0,\n",
        "    vmin=1,\n",
        "    vmax=1,\n",
        "    linewidths=0.5,\n",
        "    annot=True\n",
        ")"
      ],
      "metadata": {
        "tags": [],
        "cell_id": "76643c4e801747d7b425e2affdba8f3c",
        "source_hash": "b623e53d",
        "output_cleared": true,
        "execution_start": 1653452678541,
        "execution_millis": 3349262,
        "deepnote_app_coordinates": {
          "h": 5,
          "w": 12,
          "x": 0,
          "y": 798
        },
        "deepnote_to_be_reexecuted": false,
        "deepnote_cell_type": "code",
        "id": "cSI6zh66m9lw"
      },
      "outputs": [],
      "execution_count": null
    },
    {
      "cell_type": "markdown",
      "source": [
        "## ¿Cómo podría representar una variable categórica como númerica discreta?"
      ],
      "metadata": {
        "tags": [],
        "cell_id": "56b19ec9b1794df991a59dc071023a80",
        "deepnote_app_coordinates": {
          "h": 5,
          "w": 12,
          "x": 0,
          "y": 804
        },
        "deepnote_cell_type": "markdown",
        "id": "jPf6lcxSm9lw"
      }
    },
    {
      "cell_type": "code",
      "source": [
        "(\n",
        "    data\n",
        "    .assign(\n",
        "        numeric_sex=lambda df: data.sex.replace([\"female\", \"male\"], [0, 1] )\n",
        "    )\n",
        ")"
      ],
      "metadata": {
        "tags": [],
        "cell_id": "63dc7c6862374860ab443388e66dc82f",
        "source_hash": "b623e53d",
        "output_cleared": true,
        "execution_start": 1653452678546,
        "execution_millis": 3349287,
        "deepnote_app_coordinates": {
          "h": 5,
          "w": 12,
          "x": 0,
          "y": 810
        },
        "deepnote_to_be_reexecuted": false,
        "deepnote_cell_type": "code",
        "id": "kBw5iIYwm9lw"
      },
      "outputs": [],
      "execution_count": null
    },
    {
      "cell_type": "markdown",
      "source": [
        "## ¿Cuál es una limitante de los coeficientes de correlación lineal?"
      ],
      "metadata": {
        "tags": [],
        "cell_id": "db32fcc4751646359ea6f7c4350d6ad0",
        "deepnote_app_coordinates": {
          "h": 5,
          "w": 12,
          "x": 0,
          "y": 822
        },
        "deepnote_cell_type": "markdown",
        "id": "Lo_eGzUrm9lx"
      }
    },
    {
      "cell_type": "markdown",
      "source": [
        "### Solo nos ayuda a determinar la posible existencia de una correlación lineal; sin embargo, su ausenecia no significa que no exista otro tipo de correlación"
      ],
      "metadata": {
        "tags": [],
        "cell_id": "a6d2a3f4ed154c93b8c0771ad6fbee67",
        "deepnote_app_coordinates": {
          "h": 5,
          "w": 12,
          "x": 0,
          "y": 828
        },
        "deepnote_cell_type": "markdown",
        "id": "lBcatumjm9lx"
      }
    },
    {
      "cell_type": "code",
      "source": [
        "#creamos una variable\n",
        "# usamos la libreria np\n",
        "# la funcion linspace\n",
        "# le damos los valores a los ejes x, y\n",
        "# sns.scatterplot para graficar la variable.\n",
        "\n",
        "x = np.linspace(-100, 100)\n",
        "y = x**2\n",
        "y += np.random.normal(0, 1000, x.size)\n",
        "sns.scatterplot(\n",
        "    x=x, y=y\n",
        ")\n",
        "np.corrcoef(x, y)"
      ],
      "metadata": {
        "tags": [],
        "cell_id": "8f8b034ccaaf4ae1aceb4612fad4d32b",
        "source_hash": "b623e53d",
        "output_cleared": true,
        "execution_start": 1653452678581,
        "execution_millis": 3349280,
        "deepnote_app_coordinates": {
          "h": 5,
          "w": 12,
          "x": 0,
          "y": 834
        },
        "deepnote_to_be_reexecuted": false,
        "deepnote_cell_type": "code",
        "id": "WGJ5ZxuEm9ly"
      },
      "outputs": [],
      "execution_count": null
    },
    {
      "cell_type": "code",
      "source": [
        "# Podemos trabajar con datos publicos\n",
        "x = np.linspace(-100, 100)\n",
        "y = x**2\n",
        "y += np.random.normal(0, 1000, x.size)\n",
        "sns.scatterplot(\n",
        "    x=x, y=y\n",
        ")\n",
        "np.corrcoef(x, y)"
      ],
      "metadata": {
        "tags": [],
        "cell_id": "fb344961a6054170b95db354f3450121",
        "source_hash": "b623e53d",
        "output_cleared": true,
        "execution_start": 1653452678582,
        "execution_millis": 3349279,
        "deepnote_app_coordinates": {
          "h": 5,
          "w": 12,
          "x": 0,
          "y": 840
        },
        "deepnote_to_be_reexecuted": false,
        "deepnote_cell_type": "code",
        "id": "w2wiv88Pm9ly"
      },
      "outputs": [],
      "execution_count": null
    },
    {
      "cell_type": "code",
      "source": [
        "sns.scatterplot(\n",
        "    data = data,\n",
        "    x = \"bill_length_mm\",\n",
        "    y = \"bill_depth_mm\"\n",
        ")"
      ],
      "metadata": {
        "tags": [],
        "cell_id": "bf003ce431a1431187261211dc3cf66c",
        "source_hash": "b623e53d",
        "output_cleared": true,
        "execution_start": 1653452678587,
        "execution_millis": 3349286,
        "deepnote_app_coordinates": {
          "h": 5,
          "w": 12,
          "x": 0,
          "y": 846
        },
        "deepnote_to_be_reexecuted": false,
        "deepnote_cell_type": "code",
        "id": "JlQ5-uQYm9ly"
      },
      "outputs": [],
      "execution_count": null
    },
    {
      "cell_type": "markdown",
      "source": [
        "### El coeficiente de correlación no nos habla del impacto de la relación"
      ],
      "metadata": {
        "tags": [],
        "cell_id": "b1f44e66b96749b4994ee623b56d26ec",
        "deepnote_app_coordinates": {
          "h": 5,
          "w": 12,
          "x": 0,
          "y": 852
        },
        "deepnote_cell_type": "markdown",
        "id": "_N3Y4IFAm9lz"
      }
    },
    {
      "cell_type": "code",
      "source": [
        "np.random.seed(42)\n",
        "x1 = np.linspace(0,100,100)\n",
        "y1 = 0.1* x1 +3 + np.random.uniform(-2,2,size=x1.size)\n",
        "\n",
        "sns.scatterplot(x=x1, y=y1)\n",
        "\n",
        "\n",
        "x2 = np.linspace(0,100,100)\n",
        "y2 = 0.5* x1 +1 + np.random.uniform(0,60,size=x2.size)\n",
        "\n",
        "sns.scatterplot(x=x2, y=y2)\n",
        "\n",
        "plt.legend([\"1\",\"2\"])\n",
        "\n",
        "print(np.corrcoef(x1,y1))\n",
        "print(np.corrcoef(x2,y2))"
      ],
      "metadata": {
        "tags": [],
        "cell_id": "3c8a3635f7984a7eaa9217b1974aa5d6",
        "source_hash": "b623e53d",
        "output_cleared": true,
        "execution_start": 1653452678588,
        "execution_millis": 3349284,
        "deepnote_app_coordinates": {
          "h": 5,
          "w": 12,
          "x": 0,
          "y": 858
        },
        "deepnote_to_be_reexecuted": false,
        "deepnote_cell_type": "code",
        "id": "pwwRtE4Tm9lz"
      },
      "outputs": [],
      "execution_count": null
    },
    {
      "cell_type": "markdown",
      "source": [
        "# Estableciendo relaciones: Análisis de regresión simple"
      ],
      "metadata": {
        "tags": [],
        "cell_id": "c97504fbea864220ba215960046ed623",
        "source_hash": "b623e53d",
        "execution_start": 1652938459838,
        "deepnote_app_coordinates": {
          "h": 5,
          "w": 12,
          "x": 0,
          "y": 864
        },
        "deepnote_to_be_reexecuted": false,
        "deepnote_cell_type": "markdown",
        "id": "2W-I_lHUm9lz"
      }
    },
    {
      "cell_type": "code",
      "source": [
        "#usamos scipy que es una funcion para ejecutar una regresion lineal\n",
        "\n",
        "# Definir los datos de ejemplo\n",
        "x_1 = [1, 2, 3, 4, 5]\n",
        "y_1 = [2, 4, 6, 8, 10]\n",
        "\n",
        "x_2 = [1, 2, 3, 4, 5]\n",
        "y_2 = [2, 4, 6, 8, 10]\n",
        "\n",
        "r1 = scipy.stats.linregress(x=x_1, y=y_1)\n",
        "r2 = scipy.stats.linregress(x=x_2, y=y_2)\n",
        "\n",
        "print(r1, r2, sep=\"in\")"
      ],
      "metadata": {
        "tags": [],
        "cell_id": "ba0c0d66d6274000959daa983ef21c3c",
        "source_hash": "b623e53d",
        "output_cleared": true,
        "execution_start": 1653452678609,
        "execution_millis": 3349288,
        "deepnote_app_coordinates": {
          "h": 5,
          "w": 12,
          "x": 0,
          "y": 870
        },
        "deepnote_to_be_reexecuted": false,
        "deepnote_cell_type": "code",
        "id": "Bmp-MRyOm9l0"
      },
      "outputs": [],
      "execution_count": null
    },
    {
      "cell_type": "code",
      "source": [
        "sns.scatterplot(x=x1, y=y1)\n",
        "\n",
        "fx1 = [0]\n",
        "fy1 =  [0]\n",
        "fx1 = np.array([x1.min(), x1.max()])\n",
        "fy1 = r1.intercept + r1.slope * fx1\n",
        "\n",
        "plt.plot(fx1, fy1)\n",
        "\n",
        "\n",
        "sns.scatterplot(x=x2, y=y2)\n",
        "\n",
        "fx2 = np.array([x2.min(), x2.max()])\n",
        "fy2 = r2.intercept + r2.slope * fx2\n",
        "\n",
        "plt.plot(fx2, fy2)\n",
        "\n",
        "plt.legend([\"1\", \"1\",\"2\",\"2\"])\n"
      ],
      "metadata": {
        "tags": [],
        "cell_id": "694c7a7c89ec4a7daad175d61f2dfe3c",
        "source_hash": "b623e53d",
        "output_cleared": true,
        "execution_start": 1653452678610,
        "execution_millis": 3349224,
        "deepnote_app_coordinates": {
          "h": 5,
          "w": 12,
          "x": 0,
          "y": 876
        },
        "deepnote_to_be_reexecuted": false,
        "deepnote_cell_type": "code",
        "id": "kMY-iF_Xm9l0"
      },
      "outputs": [],
      "execution_count": null
    },
    {
      "cell_type": "code",
      "source": [
        "sns.scatterplot(\n",
        "    data = data,\n",
        "    x = \"bill_length_mm\",\n",
        "    y = \"bill_depth_mm\",\n",
        ")\n",
        "res_penguins = scipy.stats.linregress(\n",
        "    x = data.bill_length_mm,\n",
        "    y = data.bill_depth_mm\n",
        ")\n",
        "print(res_penguins)\n",
        "fx1 = np.array([x1.min(), x1.max()])\n",
        "fy1 = r1.intercept + r1.slope * fx1"
      ],
      "metadata": {
        "tags": [],
        "cell_id": "e0f8c33927604c2691b64d14c250973f",
        "source_hash": "b623e53d",
        "output_cleared": true,
        "execution_start": 1653452678610,
        "execution_millis": 3349242,
        "deepnote_app_coordinates": {
          "h": 5,
          "w": 12,
          "x": 0,
          "y": 882
        },
        "deepnote_to_be_reexecuted": false,
        "deepnote_cell_type": "code",
        "id": "bNrmk_sZm9l0"
      },
      "outputs": [],
      "execution_count": null
    },
    {
      "cell_type": "code",
      "source": [
        "sns.lmplot(\n",
        "    data = data,\n",
        "    x = \"bill_length_mm\",\n",
        "    y = \"bill_depth_mm\",\n",
        "    height=10\n",
        ")"
      ],
      "metadata": {
        "tags": [],
        "cell_id": "9228cac03e064dd8978c158be6e6b806",
        "source_hash": "b623e53d",
        "output_cleared": true,
        "execution_start": 1653452678611,
        "execution_millis": 3349239,
        "deepnote_app_coordinates": {
          "h": 5,
          "w": 12,
          "x": 0,
          "y": 888
        },
        "deepnote_to_be_reexecuted": false,
        "deepnote_cell_type": "code",
        "id": "F1oDAEc7m9l0"
      },
      "outputs": [],
      "execution_count": null
    },
    {
      "cell_type": "markdown",
      "source": [
        "# Limitaciones del análisis de regresión simple"
      ],
      "metadata": {
        "tags": [],
        "cell_id": "4edfa870cba84a029b1a4153fdbc9f63",
        "source_hash": "b623e53d",
        "execution_start": 1652938459881,
        "deepnote_app_coordinates": {
          "h": 5,
          "w": 12,
          "x": 0,
          "y": 894
        },
        "deepnote_to_be_reexecuted": false,
        "deepnote_cell_type": "markdown",
        "id": "2a39bOpkm9l1"
      }
    },
    {
      "cell_type": "markdown",
      "source": [
        "## La regresión lineal simple no es simétrica"
      ],
      "metadata": {
        "tags": [],
        "cell_id": "107176cb11cf4e2db07e56a97e18b73b",
        "deepnote_app_coordinates": {
          "h": 5,
          "w": 12,
          "x": 0,
          "y": 900
        },
        "deepnote_cell_type": "markdown",
        "id": "9VqB6ILwm9l1"
      }
    },
    {
      "cell_type": "code",
      "source": [
        "x = data.bill_length_mm\n",
        "y = data.bill_depth_mm\n",
        "\n",
        "res_x_y = scipy.stats.linregress(x=x, y=y)\n",
        "res_y_x = scipy.stats.linregress(x=y, y=y)\n",
        "\n",
        "print(res_x_y, res_y_x, sep=\"\\n\" )"
      ],
      "metadata": {
        "tags": [],
        "cell_id": "02e4aebd3adf4109bcc6db15d40af359",
        "source_hash": "b623e53d",
        "output_cleared": true,
        "execution_start": 1653452678616,
        "execution_millis": 3349237,
        "deepnote_app_coordinates": {
          "h": 5,
          "w": 12,
          "x": 0,
          "y": 906
        },
        "deepnote_to_be_reexecuted": false,
        "deepnote_cell_type": "code",
        "id": "GtX3vs4wm9l1"
      },
      "outputs": [],
      "execution_count": null
    },
    {
      "cell_type": "code",
      "source": [
        "sns.scatterplot(\n",
        "x=x,\n",
        "y=y\n",
        ")\n",
        "\n",
        "fx_1= np.array([x.min(), x.max()])\n",
        "fy_1= res_x_y.intercept + res_x_y.slope * fx_1\n",
        "\n",
        "plt.plot(fx_1, fy_1);"
      ],
      "metadata": {
        "tags": [],
        "cell_id": "f7290ed834344659be1a0d7601894e48",
        "source_hash": "b623e53d",
        "output_cleared": true,
        "execution_start": 1653452678625,
        "execution_millis": 3349234,
        "deepnote_app_coordinates": {
          "h": 5,
          "w": 12,
          "x": 0,
          "y": 912
        },
        "deepnote_to_be_reexecuted": false,
        "deepnote_cell_type": "code",
        "id": "6DxnP3elm9l2"
      },
      "outputs": [],
      "execution_count": null
    },
    {
      "cell_type": "markdown",
      "source": [
        "## La regresión no nos dice nada sobre la causalidad, pero existen herramientas para separar las relaciones entre múltiples variables"
      ],
      "metadata": {
        "tags": [],
        "cell_id": "a77b48f970a640a297b6a383e59459e2",
        "deepnote_app_coordinates": {
          "h": 5,
          "w": 12,
          "x": 0,
          "y": 924
        },
        "deepnote_cell_type": "markdown",
        "id": "ZOM4rb-Pm9l2"
      }
    },
    {
      "cell_type": "code",
      "source": [
        "(\n",
        "    smf.ols(\n",
        "        formula=\"bill_length_mm ~ bill_depth_mm\",\n",
        "        data = data\n",
        "    )\n",
        "  .fit()\n",
        "  .params\n",
        ")"
      ],
      "metadata": {
        "tags": [],
        "cell_id": "c2fbbbdb8fd146d99c9568fffad2ce00",
        "source_hash": "b623e53d",
        "output_cleared": true,
        "execution_start": 1653452678631,
        "execution_millis": 3349235,
        "deepnote_app_coordinates": {
          "h": 5,
          "w": 12,
          "x": 0,
          "y": 936
        },
        "deepnote_to_be_reexecuted": false,
        "deepnote_cell_type": "code",
        "id": "RXlM_V3_m9l2"
      },
      "outputs": [],
      "execution_count": null
    },
    {
      "cell_type": "code",
      "source": [
        "(\n",
        "    smf.ols(\n",
        "        formula=\"bill_depth_mm ~ bill_length_mm\",\n",
        "        data = data\n",
        "    )\n",
        "  .fit()\n",
        "  .params\n",
        ")"
      ],
      "metadata": {
        "tags": [],
        "cell_id": "e1bd1585895742fe9460c7776040604e",
        "source_hash": "b623e53d",
        "output_cleared": true,
        "execution_start": 1653452678632,
        "execution_millis": 3349235,
        "deepnote_app_coordinates": {
          "h": 5,
          "w": 12,
          "x": 0,
          "y": 942
        },
        "deepnote_to_be_reexecuted": false,
        "deepnote_cell_type": "code",
        "id": "xvThBMw0m9l3"
      },
      "outputs": [],
      "execution_count": null
    },
    {
      "cell_type": "markdown",
      "source": [
        "# Análisis de regresión múltiple"
      ],
      "metadata": {
        "tags": [],
        "cell_id": "a08d3aa3291d4ee89262b0691f400b09",
        "source_hash": "b623e53d",
        "execution_start": 1652938459894,
        "deepnote_app_coordinates": {
          "h": 5,
          "w": 12,
          "x": 0,
          "y": 948
        },
        "deepnote_to_be_reexecuted": false,
        "deepnote_cell_type": "markdown",
        "id": "yrHEPj7Pm9l3"
      }
    },
    {
      "cell_type": "markdown",
      "source": [
        "## Olvidé mi báscula para pesar a los pingüinos, ¿cuál sería la mejor forma de capturar ese dato?"
      ],
      "metadata": {
        "tags": [],
        "cell_id": "b636b1d43dad43b384f5012d25cb78e2",
        "deepnote_app_coordinates": {
          "h": 5,
          "w": 12,
          "x": 0,
          "y": 954
        },
        "deepnote_cell_type": "markdown",
        "id": "DHmDUtB8m9l3"
      }
    },
    {
      "cell_type": "markdown",
      "source": [
        "### Creando modelos"
      ],
      "metadata": {
        "tags": [],
        "cell_id": "e4f06a06379349efbbffdbd60c457a25",
        "deepnote_app_coordinates": {
          "h": 5,
          "w": 12,
          "x": 0,
          "y": 960
        },
        "deepnote_cell_type": "markdown",
        "id": "fm6bJBKam9l4"
      }
    },
    {
      "cell_type": "markdown",
      "source": [
        "#### Modelo 1"
      ],
      "metadata": {
        "tags": [],
        "cell_id": "2e4f4cc488094a7aa1989cd929e2f92c",
        "deepnote_app_coordinates": {
          "h": 3,
          "w": 12,
          "x": 0,
          "y": 1116
        },
        "deepnote_cell_type": "markdown",
        "id": "nXi-sYJ3m9l4"
      }
    },
    {
      "cell_type": "code",
      "source": [
        "#modelo de regresion multiple\n",
        "\n",
        "model_1 = (\n",
        "    smf.ols(\n",
        "        formula = \"body_mass_g ~ bill_length_mm\",\n",
        "        data = data\n",
        "    )\n",
        "    .fit()\n",
        ")\n",
        "model_1.summary()"
      ],
      "metadata": {
        "tags": [],
        "cell_id": "1d09bc97502b456c983a13eca772fffb",
        "source_hash": "b623e53d",
        "output_cleared": true,
        "execution_start": 1653452678654,
        "execution_millis": 3349239,
        "deepnote_app_coordinates": {
          "h": 5,
          "w": 12,
          "x": 0,
          "y": 966
        },
        "deepnote_to_be_reexecuted": false,
        "deepnote_cell_type": "code",
        "id": "t5WHrfMtm9l4"
      },
      "outputs": [],
      "execution_count": null
    },
    {
      "cell_type": "markdown",
      "source": [
        "#### Modelo 2"
      ],
      "metadata": {
        "tags": [],
        "cell_id": "0c9c61f9c585419d81ab06800f605323",
        "deepnote_app_coordinates": {
          "h": 3,
          "w": 12,
          "x": 0,
          "y": 1120
        },
        "deepnote_cell_type": "markdown",
        "id": "ZHUcIVnMm9l5"
      }
    },
    {
      "cell_type": "code",
      "source": [
        "\n",
        "model_2 = (\n",
        "    smf.ols(\n",
        "        formula = \"body_mass_g ~ bill_length_mm + bill_depth_mm\",\n",
        "        data = data\n",
        "    )\n",
        "    .fit()\n",
        ")\n",
        "model_2.summary()"
      ],
      "metadata": {
        "tags": [],
        "cell_id": "fda7191ef71a445c853a0512da07ec4e",
        "source_hash": "b623e53d",
        "output_cleared": true,
        "execution_start": 1653452678655,
        "execution_millis": 3349237,
        "deepnote_app_coordinates": {
          "h": 5,
          "w": 12,
          "x": 0,
          "y": 978
        },
        "deepnote_to_be_reexecuted": false,
        "deepnote_cell_type": "code",
        "id": "y18_NX0-m9l5"
      },
      "outputs": [],
      "execution_count": null
    },
    {
      "cell_type": "markdown",
      "source": [
        "#### Modelo 3"
      ],
      "metadata": {
        "tags": [],
        "cell_id": "06405a1bbe754c5d9811649349439093",
        "deepnote_app_coordinates": {
          "h": 3,
          "w": 12,
          "x": 0,
          "y": 1124
        },
        "deepnote_cell_type": "markdown",
        "id": "YLfZHggzm9l5"
      }
    },
    {
      "cell_type": "code",
      "source": [
        "\n",
        "model_3 = (\n",
        "    smf.ols(\n",
        "        formula = \"body_mass_g ~ bill_length_mm + bill_depth_mm + flipper_length_mm\",\n",
        "        data = data\n",
        "    )\n",
        "    .fit()\n",
        ")\n",
        "model_3.summary()"
      ],
      "metadata": {
        "tags": [],
        "cell_id": "cc7a9b31642043578754a9a9b3023e9d",
        "source_hash": "b623e53d",
        "output_cleared": true,
        "execution_start": 1653452678655,
        "execution_millis": 3349237,
        "deepnote_app_coordinates": {
          "h": 5,
          "w": 12,
          "x": 0,
          "y": 984
        },
        "deepnote_to_be_reexecuted": false,
        "deepnote_cell_type": "code",
        "id": "pS3mGAwem9l5"
      },
      "outputs": [],
      "execution_count": null
    },
    {
      "cell_type": "markdown",
      "source": [
        "#### Modelo 4"
      ],
      "metadata": {
        "tags": [],
        "cell_id": "0599c0b998ce4484a18900c77e0495ef",
        "deepnote_app_coordinates": {
          "h": 3,
          "w": 12,
          "x": 0,
          "y": 1128
        },
        "deepnote_cell_type": "markdown",
        "id": "kdcFW2MFm9l6"
      }
    },
    {
      "cell_type": "code",
      "source": [
        "\n",
        "model_4 = (\n",
        "    smf.ols(\n",
        "        formula = \"body_mass_g ~ bill_length_mm + bill_depth_mm + flipper_length_mm + C(sex)\",\n",
        "        data = data\n",
        "    )\n",
        "    .fit()\n",
        ")\n",
        "model_4.summary()"
      ],
      "metadata": {
        "tags": [],
        "cell_id": "e592af48e9834ddebdf8108edb66e079",
        "source_hash": "b623e53d",
        "output_cleared": true,
        "execution_start": 1653452678655,
        "execution_millis": 3349236,
        "deepnote_app_coordinates": {
          "h": 4,
          "w": 12,
          "x": 0,
          "y": 1132
        },
        "deepnote_to_be_reexecuted": false,
        "deepnote_cell_type": "code",
        "id": "ahB1lLWrm9l6"
      },
      "outputs": [],
      "execution_count": null
    },
    {
      "cell_type": "markdown",
      "source": [
        "#### Modelo 5"
      ],
      "metadata": {
        "tags": [],
        "cell_id": "136b78760a7e4f14af079dbbea5c3b65",
        "source_hash": "7d871f93",
        "output_cleared": true,
        "execution_start": 1653442105735,
        "execution_millis": 4,
        "deepnote_app_coordinates": {
          "h": 5,
          "w": 12,
          "x": 0,
          "y": 990
        },
        "deepnote_to_be_reexecuted": true,
        "deepnote_cell_type": "markdown",
        "id": "lsn9JDrSm9l7"
      }
    },
    {
      "cell_type": "code",
      "source": [
        "model_5 = (\n",
        "    smf.ols(\n",
        "        formula = \"body_mass_g ~ flipper_length_mm + C(sex)\",\n",
        "        data = data,\n",
        "    )\n",
        "    .fit()\n",
        ")\n",
        "model_5"
      ],
      "metadata": {
        "tags": [],
        "cell_id": "2d5ec466ddac432ba91ef7a46c6ea62f",
        "source_hash": "b623e53d",
        "output_cleared": true,
        "execution_start": 1653452678656,
        "execution_millis": 3349237,
        "deepnote_app_coordinates": {
          "h": 4,
          "w": 12,
          "x": 0,
          "y": 1137
        },
        "deepnote_to_be_reexecuted": false,
        "deepnote_cell_type": "code",
        "id": "3fmY0Nbgm9l7"
      },
      "outputs": [],
      "execution_count": null
    },
    {
      "cell_type": "markdown",
      "source": [
        "### Visualizando resultados"
      ],
      "metadata": {
        "tags": [],
        "cell_id": "e817e68f484b4684b7743ec68e12e664",
        "deepnote_app_coordinates": {
          "h": 5,
          "w": 12,
          "x": 0,
          "y": 996
        },
        "deepnote_cell_type": "markdown",
        "id": "hTQixSFQm9l7"
      }
    },
    {
      "cell_type": "markdown",
      "source": [
        "#### Creación de tabla de resultados"
      ],
      "metadata": {
        "tags": [],
        "cell_id": "f50fd772c77e4f889f2819debfc1744a",
        "deepnote_app_coordinates": {
          "h": 3,
          "w": 12,
          "x": 0,
          "y": 1146
        },
        "deepnote_cell_type": "markdown",
        "id": "Mt8f1v_-m9l8"
      }
    },
    {
      "cell_type": "code",
      "source": [
        "models_results = pd.DataFrame(\n",
        "    dict(\n",
        "        actual_value= data.body_mass_g,\n",
        "        prediction_model_1 = model_1.predict(),\n",
        "        prediction_model_2 = model_2.predict(),\n",
        "        prediction_model_3 = model_3.predict(),\n",
        "        prediction_model_4 = model_4.predict(),\n",
        "        prediction_model_5 = model_5.predict(),\n",
        "        species = data.species,\n",
        "        sex = data.sex\n",
        "    )\n",
        ")\n",
        "models_results"
      ],
      "metadata": {
        "tags": [],
        "cell_id": "220eafaa52b24312913c451f9684c88c",
        "source_hash": "b623e53d",
        "output_cleared": true,
        "execution_start": 1653452678657,
        "execution_millis": 3349268,
        "deepnote_app_coordinates": {
          "h": 5,
          "w": 12,
          "x": 0,
          "y": 1002
        },
        "deepnote_to_be_reexecuted": false,
        "deepnote_cell_type": "code",
        "id": "v21VVtfdm9l9"
      },
      "outputs": [],
      "execution_count": null
    },
    {
      "cell_type": "markdown",
      "source": [
        "#### ECDFs"
      ],
      "metadata": {
        "tags": [],
        "cell_id": "3ba4d1251011405282f4dd95ee5ea0ca",
        "deepnote_app_coordinates": {
          "h": 3,
          "w": 12,
          "x": 0,
          "y": 1142
        },
        "deepnote_cell_type": "markdown",
        "id": "bjgwo5X-m9l9"
      }
    },
    {
      "cell_type": "code",
      "source": [
        "sns.ecdfplot(\n",
        "    data=models_results.select_columns([\"actual_value\", \"prediction_model_3\"])\n",
        ")"
      ],
      "metadata": {
        "tags": [],
        "cell_id": "b72a7be0afda4f1195a31fc7b7b123ba",
        "source_hash": "b623e53d",
        "output_cleared": true,
        "execution_start": 1653452678685,
        "execution_millis": 3349266,
        "deepnote_app_coordinates": {
          "h": 5,
          "w": 12,
          "x": 0,
          "y": 1008
        },
        "deepnote_to_be_reexecuted": false,
        "deepnote_cell_type": "code",
        "id": "oGHgtn6dm9l9"
      },
      "outputs": [],
      "execution_count": null
    },
    {
      "cell_type": "markdown",
      "source": [
        "#### PDFs"
      ],
      "metadata": {
        "tags": [],
        "cell_id": "a1156ada7d6e4f199fa0f49daa95f440",
        "deepnote_app_coordinates": {
          "h": 3,
          "w": 12,
          "x": 0,
          "y": 1150
        },
        "deepnote_cell_type": "markdown",
        "id": "NV1i8y-nm9l-"
      }
    },
    {
      "cell_type": "code",
      "source": [
        "sns.kdeplot(\n",
        "    data = models_results,\n",
        "    cumulative = True\n",
        ")"
      ],
      "metadata": {
        "tags": [],
        "cell_id": "dbadce08f7ac41e29043612af9ee1865",
        "source_hash": "b623e53d",
        "output_cleared": true,
        "execution_start": 1653452678685,
        "execution_millis": 3349263,
        "deepnote_app_coordinates": {
          "h": 5,
          "w": 12,
          "x": 0,
          "y": 1014
        },
        "deepnote_to_be_reexecuted": false,
        "deepnote_cell_type": "code",
        "id": "mjDt5cy6m9l-"
      },
      "outputs": [],
      "execution_count": null
    },
    {
      "cell_type": "markdown",
      "source": [
        "#### ¿Qué pudimos haber encontrado antes de hacer los modelos?"
      ],
      "metadata": {
        "tags": [],
        "cell_id": "8e30d648ac674dfdb6a75e9af676cfc9",
        "deepnote_app_coordinates": {
          "h": 3,
          "w": 12,
          "x": 0,
          "y": 1154
        },
        "deepnote_cell_type": "markdown",
        "id": "6Pbk8rnsm9l-"
      }
    },
    {
      "cell_type": "code",
      "source": [
        "sns.lmplot(\n",
        "    data=data,\n",
        "    x= \"flipper_length_mm\",\n",
        "    y= \"body_mass_g\",\n",
        "    hue=\"sex\",\n",
        "    height=10\n",
        ")"
      ],
      "metadata": {
        "tags": [],
        "cell_id": "24be0bf54c464f9798696eb098762d71",
        "source_hash": "b623e53d",
        "output_cleared": true,
        "execution_start": 1653452678686,
        "execution_millis": 3349202,
        "deepnote_app_coordinates": {
          "h": 5,
          "w": 12,
          "x": 0,
          "y": 1020
        },
        "deepnote_to_be_reexecuted": false,
        "deepnote_cell_type": "code",
        "id": "N8iAHhJrm9l_"
      },
      "outputs": [],
      "execution_count": null
    },
    {
      "cell_type": "markdown",
      "source": [
        "# Análisis de regresión logística"
      ],
      "metadata": {
        "tags": [],
        "cell_id": "433e7e0661aa4e9f940343c4823b0be3",
        "source_hash": "b623e53d",
        "execution_start": 1652938459930,
        "deepnote_app_coordinates": {
          "h": 5,
          "w": 12,
          "x": 0,
          "y": 1026
        },
        "deepnote_to_be_reexecuted": false,
        "deepnote_cell_type": "markdown",
        "id": "UtIB-OZRm9l_"
      }
    },
    {
      "cell_type": "markdown",
      "source": [
        "## Exploración de nuestras variables categóricas"
      ],
      "metadata": {
        "tags": [],
        "cell_id": "00fba0bd3ca84a539a97e6eae3df083d",
        "deepnote_app_coordinates": {
          "h": 5,
          "w": 12,
          "x": 0,
          "y": 1165
        },
        "deepnote_cell_type": "markdown",
        "id": "LbgUjAkkm9mA"
      }
    },
    {
      "cell_type": "code",
      "source": [
        "(\n",
        "    data\n",
        "    .value_counts([\"island\", \"sex\"])\n",
        "    .reset_index(name=\"count\")\n",
        ")"
      ],
      "metadata": {
        "tags": [],
        "cell_id": "09bf2618b2ef4aca90cebf6883c4a2fc",
        "source_hash": "b623e53d",
        "output_cleared": true,
        "execution_start": 1653452678686,
        "execution_millis": 3349206,
        "deepnote_table_state": {
          "sortBy": [],
          "filters": [],
          "pageSize": 10,
          "pageIndex": 0
        },
        "deepnote_table_loading": false,
        "deepnote_app_coordinates": {
          "h": 5,
          "w": 12,
          "x": 0,
          "y": 1044
        },
        "deepnote_to_be_reexecuted": false,
        "deepnote_cell_type": "code",
        "id": "sr61Yc8Cm9mA"
      },
      "outputs": [],
      "execution_count": null
    },
    {
      "cell_type": "markdown",
      "source": [
        "## ¿Podemos definir un modelo que nos ayude a identificar si un pingüino pertenece a determinada clase?"
      ],
      "metadata": {
        "tags": [],
        "cell_id": "a635c3e7b5204a598ba3106c55401c8e",
        "deepnote_app_coordinates": {
          "h": 6,
          "w": 12,
          "x": 0,
          "y": 1171
        },
        "deepnote_cell_type": "markdown",
        "id": "ELEXKokgm9mB"
      }
    },
    {
      "cell_type": "code",
      "source": [
        "data.species.unique()"
      ],
      "metadata": {
        "tags": [],
        "cell_id": "30790023136741fc81719d2bc0ce6ab3",
        "source_hash": "b623e53d",
        "output_cleared": true,
        "execution_start": 1653452678688,
        "execution_millis": 3349208,
        "deepnote_app_coordinates": {
          "h": 5,
          "w": 12,
          "x": 0,
          "y": 1050
        },
        "deepnote_to_be_reexecuted": false,
        "deepnote_cell_type": "code",
        "id": "Q8cYayQ1m9mB"
      },
      "outputs": [],
      "execution_count": null
    },
    {
      "cell_type": "code",
      "source": [
        "data = (\n",
        "    data\n",
        "    .assign(is_adelie=lambda df: data.species.replace([\"Adeline\", \"Gentoo\", \"Chinstrap\"], [1, 0, 0]))\n",
        ")"
      ],
      "metadata": {
        "tags": [],
        "cell_id": "a6c00a1a94454e90a3ff927b3b2ad528",
        "source_hash": "b623e53d",
        "output_cleared": true,
        "execution_start": 1653452678692,
        "execution_millis": 3349228,
        "deepnote_app_coordinates": {
          "h": 5,
          "w": 12,
          "x": 0,
          "y": 1056
        },
        "deepnote_to_be_reexecuted": false,
        "deepnote_cell_type": "code",
        "id": "cgGY8Bt1m9mB"
      },
      "outputs": [],
      "execution_count": null
    },
    {
      "cell_type": "code",
      "source": [
        "data['is_adelie_binary'] = (data['is_adelie'] == 'desired_category').astype(int)\n"
      ],
      "metadata": {
        "id": "wJ60nsVvl3ZL"
      },
      "execution_count": null,
      "outputs": []
    },
    {
      "cell_type": "code",
      "source": [
        "model_is_adelie = smf.logit(\n",
        "    formula = \"is_adelie_binary ~ flipper_length_mm + C(sex)\",\n",
        "    data = data\n",
        ")"
      ],
      "metadata": {
        "tags": [],
        "cell_id": "12aca6a0bd0042ad872e7f5608bfff82",
        "source_hash": "b623e53d",
        "output_cleared": true,
        "execution_start": 1653452678722,
        "execution_millis": 3349229,
        "deepnote_app_coordinates": {
          "h": 5,
          "w": 12,
          "x": 0,
          "y": 1062
        },
        "deepnote_to_be_reexecuted": false,
        "deepnote_cell_type": "code",
        "id": "8gjrPPBxm9mC"
      },
      "outputs": [],
      "execution_count": null
    },
    {
      "cell_type": "markdown",
      "source": [
        "#Paradoja de Simpson\n"
      ],
      "metadata": {
        "id": "eha-aQwB8P_4"
      }
    },
    {
      "cell_type": "code",
      "source": [
        "sns.scatterplot(\n",
        "    data=data,\n",
        "    x = \"bill_length_mm\",\n",
        "    y = \"bill_depth_mm\",\n",
        ")"
      ],
      "metadata": {
        "id": "LU5Ub0hR8TlY"
      },
      "execution_count": null,
      "outputs": []
    },
    {
      "cell_type": "code",
      "source": [
        "sns.lmplot(\n",
        "    data=data,\n",
        "    x = \"bill_length_mm\",\n",
        "    y = \"bill_depth_mm\",\n",
        "    height=10\n",
        ")"
      ],
      "metadata": {
        "id": "iXxcvrFW97Bf"
      },
      "execution_count": null,
      "outputs": []
    },
    {
      "cell_type": "code",
      "source": [
        "sns.lmplot(\n",
        "    data=data,\n",
        "    x = \"bill_length_mm\",\n",
        "    y = \"bill_depth_mm\",\n",
        "    hue=\"species\",\n",
        "    height=10,\n",
        "    palette=penguin_color\n",
        ")"
      ],
      "metadata": {
        "id": "YjSRexnf-YNt"
      },
      "execution_count": null,
      "outputs": []
    },
    {
      "cell_type": "code",
      "source": [
        "sns.pairplot(\n",
        "    data = data,\n",
        "    hue = \"species\",\n",
        "    palette=penguin_color\n",
        ")"
      ],
      "metadata": {
        "id": "lUlx2FCr-0Ec"
      },
      "execution_count": null,
      "outputs": []
    }
  ],
  "nbformat": 4,
  "nbformat_minor": 0,
  "metadata": {
    "deepnote": {},
    "orig_nbformat": 2,
    "deepnote_app_layout": "article",
    "deepnote_notebook_id": "71222805117947e1a9bd818882352030",
    "deepnote_execution_queue": [],
    "colab": {
      "provenance": [],
      "include_colab_link": true
    },
    "language_info": {
      "name": "python"
    },
    "kernelspec": {
      "name": "python3",
      "display_name": "Python 3"
    }
  }
}